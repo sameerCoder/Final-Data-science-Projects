{
  "cells": [
    {
      "cell_type": "code",
      "source": [
        "# Question Instructions tasks are written as comment.\n",
        "# Kindly write the code snippet below the tasks comment and generate the output."
      ],
      "metadata": {
        "id": "vc7VMfdqAdf8"
      },
      "execution_count": null,
      "outputs": []
    },
    {
      "cell_type": "markdown",
      "metadata": {
        "id": "pLGCaNJwY5FW"
      },
      "source": [
        "# Logistic Regression with Python and Scikit-Learn\n",
        "\n",
        "\n",
        "In this project, implement Logistic Regression with Python and Scikit-Learn.Build a classifier to predict whether or not it will rain tomorrow in Australia by training a binary classification model using Logistic Regression. Use the **Rain in Australia** dataset."
      ]
    },
    {
      "cell_type": "markdown",
      "metadata": {
        "id": "EFmWwc8NY5Fa"
      },
      "source": [
        "## Table of Contents\n",
        "\n",
        "\n",
        "The table of contents for this project is as follows:-\n",
        "\n",
        "\n",
        "1.\tIntroduction to Logistic Regression\n",
        "2.\tLogistic Regression intuition\n",
        "3.\tThe problem statement\n",
        "4.\tDataset description\n",
        "5.\tImport libraries\n",
        "6.\tImport dataset\n",
        "7.\tExploratory data analysis\n",
        "8.\tDeclare feature vector and target variable\n",
        "9.\tSplit data into separate training and test set\n",
        "10.\tFeature engineering\n",
        "11.\tFeature scaling\n",
        "12.\tModel training\n",
        "13.\tPredict results\n",
        "14.\tCheck accuracy score\n",
        "15.\tConfusion matrix\n",
        "16.\tClassification metrices\n",
        "17.\tAdjusting the threshold level\n",
        "18.\tROC - AUC\n",
        "19.\tRecursive feature elimination\n",
        "20.\tk-Fold Cross Validation\n",
        "21.\tHyperparameter optimization using GridSearch CV\n",
        "22.\tResults and conclusion\n",
        "\n"
      ]
    },
    {
      "cell_type": "markdown",
      "metadata": {
        "id": "lBodfcPOY5Fb"
      },
      "source": [
        "## 1. Introduction to Logistic Regression\n",
        "\n",
        "\n",
        "When data scientists may come across a new classification problem, the first algorithm that may come across their mind is **Logistic Regression**. It is a supervised learning classification algorithm which is used to predict observations to a discrete set of classes. Practically, it is used to classify observations into different categories. Hence, its output is discrete in nature. **Logistic Regression** is also called **Logit Regression**. It is one of the most simple, straightforward and versatile classification algorithms which is used to solve classification problems."
      ]
    },
    {
      "cell_type": "markdown",
      "metadata": {
        "id": "vs0vPt_wY5Fc"
      },
      "source": [
        "## 2. Logistic Regression intuition\n",
        "\n",
        "\n",
        "In statistics, the **Logistic Regression model** is a widely used statistical model which is primarily used for classification purposes. It means that given a set of observations, Logistic Regression algorithm helps us to classify these observations into two or more discrete classes. So, the target variable is discrete in nature.\n",
        "\n",
        "\n",
        "Logistic Regression algorithm works by implementing a linear equation with independent or explanatory variables to predict a response value. This predicted response value, denoted by z is then converted into a probability value that lie between 0 and 1. We use the **sigmoid function** in order to map predicted values to probability values. This sigmoid function then maps any real value into a probability value between 0 and 1. \n",
        "\n",
        "\n",
        "\n",
        "The sigmoid function returns a probability value between 0 and 1. This probability value is then mapped to a discrete class which is either “0” or “1”. In order to map this probability value to a discrete class (pass/fail, yes/no, true/false), we select a threshold value. This threshold value is called **Decision boundary**. Above this threshold value, we will map the probability values into class 1 and below which we will map values into class 0.\n",
        "\n",
        "\n",
        "Mathematically, it can be expressed as follows:-\n",
        "\n",
        "\n",
        "                    p ≥ 0.5 => class = 1\n",
        "    \n",
        "                    p < 0.5 => class = 0 \n",
        "\n",
        "\n",
        "Generally, the decision boundary is set to 0.5. So, if the probability value is 0.8 (> 0.5), we will map this observation to class 1.  Similarly, if the probability value is 0.2 (< 0.5), we will map this observation to class 0.\n",
        "\n",
        "\n",
        "We can use our knowledge of `sigmoid function` and `decision boundary` to write a prediction function. A prediction function in logistic regression returns the probability of the observation being positive, `Yes` or `True`. We call this as `class 1` and it is denoted by `P(class = 1)`. If the probability inches closer to one, then we will be more confident about our model that the observation is in class 1.\n",
        "\n",
        "Logistic regression intuition is discussed in depth in the readme document."
      ]
    },
    {
      "cell_type": "markdown",
      "metadata": {
        "id": "oVL9A3SkY5Fe"
      },
      "source": [
        "## 3. The problem statement\n",
        "\n",
        "\n",
        "In this project, I try to answer the question that whether or not it will rain tomorrow in Australia. I implement Logistic Regression with Python and Scikit-Learn. \n",
        "\n",
        "\n",
        "To answer the question, I build a classifier to predict whether or not it will rain tomorrow in Australia by training a binary classification model using Logistic Regression. I have used the **Rain in Australia** dataset downloaded from the Kaggle website for this project."
      ]
    },
    {
      "cell_type": "markdown",
      "metadata": {
        "id": "hsaltICuY5Ff"
      },
      "source": [
        "## 4. Dataset description\n",
        "\n",
        "\n",
        "I have used the **Rain in Australia** data set downloaded from the Kaggle website.\n",
        "\n",
        "\n",
        "I have downloaded this data set from the Kaggle website. The data set can be found at the following url:-\n",
        "\n",
        "\n",
        "https://www.kaggle.com/jsphyg/weather-dataset-rattle-package\n",
        "\n",
        "\n",
        "This dataset contains daily weather observations from numerous Australian weather stations. "
      ]
    },
    {
      "cell_type": "markdown",
      "metadata": {
        "id": "6Y2PHS8XY5Fg"
      },
      "source": [
        "## 5. Import libraries"
      ]
    },
    {
      "cell_type": "code",
      "execution_count": null,
      "metadata": {
        "id": "GT-EuUXUY5Fh"
      },
      "outputs": [],
      "source": [
        "import pandas as pd\n",
        "import numpy as np\n",
        "import matplotlib.pyplot as plt\n",
        "import seaborn as sns\n",
        "%matplotlib inline"
      ]
    },
    {
      "cell_type": "code",
      "execution_count": null,
      "metadata": {
        "id": "v5ajFGmnY5Fj"
      },
      "outputs": [],
      "source": [
        "import warnings\n",
        "\n",
        "warnings.filterwarnings('ignore')"
      ]
    },
    {
      "cell_type": "markdown",
      "metadata": {
        "id": "sdYabh4cY5Fk"
      },
      "source": [
        "## 6. Import dataset"
      ]
    },
    {
      "cell_type": "code",
      "execution_count": null,
      "metadata": {
        "id": "tJxfOQtaY5Fk"
      },
      "outputs": [],
      "source": [
        "import pandas as pd\n",
        "url=\"https://raw.githubusercontent.com/sameerCoder/Final-Data-science-Projects/main/Logistic%20regression/question2/weatherAUS.csv\"\n",
        "df=pd.read_csv(url)"
      ]
    },
    {
      "cell_type": "markdown",
      "metadata": {
        "id": "v90kOR0TY5Fl"
      },
      "source": [
        "## 7. Exploratory data analysis\n",
        "\n",
        "\n",
        "Now, I will explore the data to gain insights about the data. "
      ]
    },
    {
      "cell_type": "code",
      "execution_count": null,
      "metadata": {
        "id": "nbZsoMa4Y5Fl",
        "outputId": "0bbeb9c6-b7c1-491a-8ade-72b09a794880",
        "colab": {
          "base_uri": "https://localhost:8080/"
        }
      },
      "outputs": [
        {
          "output_type": "execute_result",
          "data": {
            "text/plain": [
              "(36881, 24)"
            ]
          },
          "metadata": {},
          "execution_count": 244
        }
      ],
      "source": [
        "# view dimensions of dataset\n"
      ]
    },
    {
      "cell_type": "markdown",
      "metadata": {
        "id": "hjjB3YrEY5Fm"
      },
      "source": [
        "We can see that there are 142193 instances and 24 variables in the data set."
      ]
    },
    {
      "cell_type": "code",
      "execution_count": null,
      "metadata": {
        "id": "K0zlf3DOY5Fm",
        "outputId": "893b3c12-957f-45e2-f220-71e7b55e6913",
        "colab": {
          "base_uri": "https://localhost:8080/",
          "height": 300
        }
      },
      "outputs": [
        {
          "output_type": "execute_result",
          "data": {
            "text/plain": [
              "        Date      Location  MinTemp  MaxTemp  Rainfall  Evaporation  Sunshine  \\\n",
              "0  5/18/2009        Hobart      5.1     14.3       0.0          1.8       8.9   \n",
              "1   7/3/2009    Launceston      1.1     14.5       0.4          NaN       NaN   \n",
              "2  2/18/2010   Williamtown     19.7     26.2       0.0          7.2       7.2   \n",
              "3   3/4/2010  PerthAirport     16.6     28.0       0.0          9.0      11.3   \n",
              "4   9/9/2010     GoldCoast     14.6     25.3       0.0          NaN       NaN   \n",
              "\n",
              "  WindGustDir  WindGustSpeed WindDir9am  ... Humidity3pm  Pressure9am  \\\n",
              "0          NW           30.0        WSW  ...        47.0       1023.1   \n",
              "1         SSW           50.0          E  ...        46.0       1001.5   \n",
              "2         SSE           41.0        SSE  ...        50.0       1020.9   \n",
              "3          SW           54.0        SSE  ...        41.0       1018.3   \n",
              "4         NNW           43.0        WNW  ...        67.0       1020.3   \n",
              "\n",
              "   Pressure3pm  Cloud9am  Cloud3pm  Temp9am  Temp3pm  RainToday  RISK_MM  \\\n",
              "0       1022.2       1.0       1.0      9.1     13.3         No      0.0   \n",
              "1       1002.4       NaN       NaN      1.3     13.7         No      0.0   \n",
              "2       1021.9       6.0       4.0     22.7     24.4         No      0.2   \n",
              "3       1014.9       6.0       1.0     20.0     26.1         No      0.0   \n",
              "4       1015.0       NaN       NaN     22.2     22.6         No      0.4   \n",
              "\n",
              "   RainTomorrow  \n",
              "0            No  \n",
              "1            No  \n",
              "2            No  \n",
              "3            No  \n",
              "4            No  \n",
              "\n",
              "[5 rows x 24 columns]"
            ],
            "text/html": [
              "\n",
              "  <div id=\"df-d2e12c14-33d4-44bf-b7ed-8c139771fe20\">\n",
              "    <div class=\"colab-df-container\">\n",
              "      <div>\n",
              "<style scoped>\n",
              "    .dataframe tbody tr th:only-of-type {\n",
              "        vertical-align: middle;\n",
              "    }\n",
              "\n",
              "    .dataframe tbody tr th {\n",
              "        vertical-align: top;\n",
              "    }\n",
              "\n",
              "    .dataframe thead th {\n",
              "        text-align: right;\n",
              "    }\n",
              "</style>\n",
              "<table border=\"1\" class=\"dataframe\">\n",
              "  <thead>\n",
              "    <tr style=\"text-align: right;\">\n",
              "      <th></th>\n",
              "      <th>Date</th>\n",
              "      <th>Location</th>\n",
              "      <th>MinTemp</th>\n",
              "      <th>MaxTemp</th>\n",
              "      <th>Rainfall</th>\n",
              "      <th>Evaporation</th>\n",
              "      <th>Sunshine</th>\n",
              "      <th>WindGustDir</th>\n",
              "      <th>WindGustSpeed</th>\n",
              "      <th>WindDir9am</th>\n",
              "      <th>...</th>\n",
              "      <th>Humidity3pm</th>\n",
              "      <th>Pressure9am</th>\n",
              "      <th>Pressure3pm</th>\n",
              "      <th>Cloud9am</th>\n",
              "      <th>Cloud3pm</th>\n",
              "      <th>Temp9am</th>\n",
              "      <th>Temp3pm</th>\n",
              "      <th>RainToday</th>\n",
              "      <th>RISK_MM</th>\n",
              "      <th>RainTomorrow</th>\n",
              "    </tr>\n",
              "  </thead>\n",
              "  <tbody>\n",
              "    <tr>\n",
              "      <th>0</th>\n",
              "      <td>5/18/2009</td>\n",
              "      <td>Hobart</td>\n",
              "      <td>5.1</td>\n",
              "      <td>14.3</td>\n",
              "      <td>0.0</td>\n",
              "      <td>1.8</td>\n",
              "      <td>8.9</td>\n",
              "      <td>NW</td>\n",
              "      <td>30.0</td>\n",
              "      <td>WSW</td>\n",
              "      <td>...</td>\n",
              "      <td>47.0</td>\n",
              "      <td>1023.1</td>\n",
              "      <td>1022.2</td>\n",
              "      <td>1.0</td>\n",
              "      <td>1.0</td>\n",
              "      <td>9.1</td>\n",
              "      <td>13.3</td>\n",
              "      <td>No</td>\n",
              "      <td>0.0</td>\n",
              "      <td>No</td>\n",
              "    </tr>\n",
              "    <tr>\n",
              "      <th>1</th>\n",
              "      <td>7/3/2009</td>\n",
              "      <td>Launceston</td>\n",
              "      <td>1.1</td>\n",
              "      <td>14.5</td>\n",
              "      <td>0.4</td>\n",
              "      <td>NaN</td>\n",
              "      <td>NaN</td>\n",
              "      <td>SSW</td>\n",
              "      <td>50.0</td>\n",
              "      <td>E</td>\n",
              "      <td>...</td>\n",
              "      <td>46.0</td>\n",
              "      <td>1001.5</td>\n",
              "      <td>1002.4</td>\n",
              "      <td>NaN</td>\n",
              "      <td>NaN</td>\n",
              "      <td>1.3</td>\n",
              "      <td>13.7</td>\n",
              "      <td>No</td>\n",
              "      <td>0.0</td>\n",
              "      <td>No</td>\n",
              "    </tr>\n",
              "    <tr>\n",
              "      <th>2</th>\n",
              "      <td>2/18/2010</td>\n",
              "      <td>Williamtown</td>\n",
              "      <td>19.7</td>\n",
              "      <td>26.2</td>\n",
              "      <td>0.0</td>\n",
              "      <td>7.2</td>\n",
              "      <td>7.2</td>\n",
              "      <td>SSE</td>\n",
              "      <td>41.0</td>\n",
              "      <td>SSE</td>\n",
              "      <td>...</td>\n",
              "      <td>50.0</td>\n",
              "      <td>1020.9</td>\n",
              "      <td>1021.9</td>\n",
              "      <td>6.0</td>\n",
              "      <td>4.0</td>\n",
              "      <td>22.7</td>\n",
              "      <td>24.4</td>\n",
              "      <td>No</td>\n",
              "      <td>0.2</td>\n",
              "      <td>No</td>\n",
              "    </tr>\n",
              "    <tr>\n",
              "      <th>3</th>\n",
              "      <td>3/4/2010</td>\n",
              "      <td>PerthAirport</td>\n",
              "      <td>16.6</td>\n",
              "      <td>28.0</td>\n",
              "      <td>0.0</td>\n",
              "      <td>9.0</td>\n",
              "      <td>11.3</td>\n",
              "      <td>SW</td>\n",
              "      <td>54.0</td>\n",
              "      <td>SSE</td>\n",
              "      <td>...</td>\n",
              "      <td>41.0</td>\n",
              "      <td>1018.3</td>\n",
              "      <td>1014.9</td>\n",
              "      <td>6.0</td>\n",
              "      <td>1.0</td>\n",
              "      <td>20.0</td>\n",
              "      <td>26.1</td>\n",
              "      <td>No</td>\n",
              "      <td>0.0</td>\n",
              "      <td>No</td>\n",
              "    </tr>\n",
              "    <tr>\n",
              "      <th>4</th>\n",
              "      <td>9/9/2010</td>\n",
              "      <td>GoldCoast</td>\n",
              "      <td>14.6</td>\n",
              "      <td>25.3</td>\n",
              "      <td>0.0</td>\n",
              "      <td>NaN</td>\n",
              "      <td>NaN</td>\n",
              "      <td>NNW</td>\n",
              "      <td>43.0</td>\n",
              "      <td>WNW</td>\n",
              "      <td>...</td>\n",
              "      <td>67.0</td>\n",
              "      <td>1020.3</td>\n",
              "      <td>1015.0</td>\n",
              "      <td>NaN</td>\n",
              "      <td>NaN</td>\n",
              "      <td>22.2</td>\n",
              "      <td>22.6</td>\n",
              "      <td>No</td>\n",
              "      <td>0.4</td>\n",
              "      <td>No</td>\n",
              "    </tr>\n",
              "  </tbody>\n",
              "</table>\n",
              "<p>5 rows × 24 columns</p>\n",
              "</div>\n",
              "      <button class=\"colab-df-convert\" onclick=\"convertToInteractive('df-d2e12c14-33d4-44bf-b7ed-8c139771fe20')\"\n",
              "              title=\"Convert this dataframe to an interactive table.\"\n",
              "              style=\"display:none;\">\n",
              "        \n",
              "  <svg xmlns=\"http://www.w3.org/2000/svg\" height=\"24px\"viewBox=\"0 0 24 24\"\n",
              "       width=\"24px\">\n",
              "    <path d=\"M0 0h24v24H0V0z\" fill=\"none\"/>\n",
              "    <path d=\"M18.56 5.44l.94 2.06.94-2.06 2.06-.94-2.06-.94-.94-2.06-.94 2.06-2.06.94zm-11 1L8.5 8.5l.94-2.06 2.06-.94-2.06-.94L8.5 2.5l-.94 2.06-2.06.94zm10 10l.94 2.06.94-2.06 2.06-.94-2.06-.94-.94-2.06-.94 2.06-2.06.94z\"/><path d=\"M17.41 7.96l-1.37-1.37c-.4-.4-.92-.59-1.43-.59-.52 0-1.04.2-1.43.59L10.3 9.45l-7.72 7.72c-.78.78-.78 2.05 0 2.83L4 21.41c.39.39.9.59 1.41.59.51 0 1.02-.2 1.41-.59l7.78-7.78 2.81-2.81c.8-.78.8-2.07 0-2.86zM5.41 20L4 18.59l7.72-7.72 1.47 1.35L5.41 20z\"/>\n",
              "  </svg>\n",
              "      </button>\n",
              "      \n",
              "  <style>\n",
              "    .colab-df-container {\n",
              "      display:flex;\n",
              "      flex-wrap:wrap;\n",
              "      gap: 12px;\n",
              "    }\n",
              "\n",
              "    .colab-df-convert {\n",
              "      background-color: #E8F0FE;\n",
              "      border: none;\n",
              "      border-radius: 50%;\n",
              "      cursor: pointer;\n",
              "      display: none;\n",
              "      fill: #1967D2;\n",
              "      height: 32px;\n",
              "      padding: 0 0 0 0;\n",
              "      width: 32px;\n",
              "    }\n",
              "\n",
              "    .colab-df-convert:hover {\n",
              "      background-color: #E2EBFA;\n",
              "      box-shadow: 0px 1px 2px rgba(60, 64, 67, 0.3), 0px 1px 3px 1px rgba(60, 64, 67, 0.15);\n",
              "      fill: #174EA6;\n",
              "    }\n",
              "\n",
              "    [theme=dark] .colab-df-convert {\n",
              "      background-color: #3B4455;\n",
              "      fill: #D2E3FC;\n",
              "    }\n",
              "\n",
              "    [theme=dark] .colab-df-convert:hover {\n",
              "      background-color: #434B5C;\n",
              "      box-shadow: 0px 1px 3px 1px rgba(0, 0, 0, 0.15);\n",
              "      filter: drop-shadow(0px 1px 2px rgba(0, 0, 0, 0.3));\n",
              "      fill: #FFFFFF;\n",
              "    }\n",
              "  </style>\n",
              "\n",
              "      <script>\n",
              "        const buttonEl =\n",
              "          document.querySelector('#df-d2e12c14-33d4-44bf-b7ed-8c139771fe20 button.colab-df-convert');\n",
              "        buttonEl.style.display =\n",
              "          google.colab.kernel.accessAllowed ? 'block' : 'none';\n",
              "\n",
              "        async function convertToInteractive(key) {\n",
              "          const element = document.querySelector('#df-d2e12c14-33d4-44bf-b7ed-8c139771fe20');\n",
              "          const dataTable =\n",
              "            await google.colab.kernel.invokeFunction('convertToInteractive',\n",
              "                                                     [key], {});\n",
              "          if (!dataTable) return;\n",
              "\n",
              "          const docLinkHtml = 'Like what you see? Visit the ' +\n",
              "            '<a target=\"_blank\" href=https://colab.research.google.com/notebooks/data_table.ipynb>data table notebook</a>'\n",
              "            + ' to learn more about interactive tables.';\n",
              "          element.innerHTML = '';\n",
              "          dataTable['output_type'] = 'display_data';\n",
              "          await google.colab.output.renderOutput(dataTable, element);\n",
              "          const docLink = document.createElement('div');\n",
              "          docLink.innerHTML = docLinkHtml;\n",
              "          element.appendChild(docLink);\n",
              "        }\n",
              "      </script>\n",
              "    </div>\n",
              "  </div>\n",
              "  "
            ]
          },
          "metadata": {},
          "execution_count": 245
        }
      ],
      "source": [
        "# preview the dataset\n"
      ]
    },
    {
      "cell_type": "code",
      "execution_count": null,
      "metadata": {
        "id": "1alAq58JY5Fn",
        "outputId": "3defec6a-830c-4fb6-d29d-df64f3482538",
        "colab": {
          "base_uri": "https://localhost:8080/"
        }
      },
      "outputs": [
        {
          "output_type": "execute_result",
          "data": {
            "text/plain": [
              "Index(['Date', 'Location', 'MinTemp', 'MaxTemp', 'Rainfall', 'Evaporation',\n",
              "       'Sunshine', 'WindGustDir', 'WindGustSpeed', 'WindDir9am', 'WindDir3pm',\n",
              "       'WindSpeed9am', 'WindSpeed3pm', 'Humidity9am', 'Humidity3pm',\n",
              "       'Pressure9am', 'Pressure3pm', 'Cloud9am', 'Cloud3pm', 'Temp9am',\n",
              "       'Temp3pm', 'RainToday', 'RISK_MM', 'RainTomorrow'],\n",
              "      dtype='object')"
            ]
          },
          "metadata": {},
          "execution_count": 246
        }
      ],
      "source": [
        "col_names = df.columns\n",
        "\n",
        "col_names"
      ]
    },
    {
      "cell_type": "markdown",
      "metadata": {
        "id": "s_tmZiuQY5Fn"
      },
      "source": [
        "### Drop  RISK_MM variable\n",
        "\n",
        "It is given in the dataset description, that we should drop the `RISK_MM` feature variable from the dataset description. So, we \n",
        "should drop it as follows-"
      ]
    },
    {
      "cell_type": "code",
      "execution_count": null,
      "metadata": {
        "id": "splmVfFSY5Fn"
      },
      "outputs": [],
      "source": [
        ""
      ]
    },
    {
      "cell_type": "code",
      "execution_count": null,
      "metadata": {
        "id": "Cj3LxpIsY5Fo",
        "outputId": "75b9d201-ea6e-49b7-8158-a14cb8c33ef8",
        "colab": {
          "base_uri": "https://localhost:8080/"
        }
      },
      "outputs": [
        {
          "output_type": "stream",
          "name": "stdout",
          "text": [
            "<class 'pandas.core.frame.DataFrame'>\n",
            "RangeIndex: 36881 entries, 0 to 36880\n",
            "Data columns (total 23 columns):\n",
            " #   Column         Non-Null Count  Dtype  \n",
            "---  ------         --------------  -----  \n",
            " 0   Date           36881 non-null  object \n",
            " 1   Location       36881 non-null  object \n",
            " 2   MinTemp        36543 non-null  float64\n",
            " 3   MaxTemp        36639 non-null  float64\n",
            " 4   Rainfall       36255 non-null  float64\n",
            " 5   Evaporation    24035 non-null  float64\n",
            " 6   Sunshine       23317 non-null  float64\n",
            " 7   WindGustDir    33513 non-null  object \n",
            " 8   WindGustSpeed  33520 non-null  float64\n",
            " 9   WindDir9am     34072 non-null  object \n",
            " 10  WindDir3pm     35919 non-null  object \n",
            " 11  WindSpeed9am   36219 non-null  float64\n",
            " 12  WindSpeed3pm   36235 non-null  float64\n",
            " 13  Humidity9am    36311 non-null  float64\n",
            " 14  Humidity3pm    36370 non-null  float64\n",
            " 15  Pressure9am    33309 non-null  float64\n",
            " 16  Pressure3pm    33329 non-null  float64\n",
            " 17  Cloud9am       24381 non-null  float64\n",
            " 18  Cloud3pm       23899 non-null  float64\n",
            " 19  Temp9am        36394 non-null  float64\n",
            " 20  Temp3pm        36437 non-null  float64\n",
            " 21  RainToday      36255 non-null  object \n",
            " 22  RainTomorrow   36261 non-null  object \n",
            "dtypes: float64(16), object(7)\n",
            "memory usage: 6.5+ MB\n"
          ]
        }
      ],
      "source": [
        "# view summary of dataset\n"
      ]
    },
    {
      "cell_type": "markdown",
      "metadata": {
        "id": "qRVkEBdVY5Fo"
      },
      "source": [
        "### Types of variables\n",
        "\n",
        "\n",
        "In this section, I segregate the dataset into categorical and numerical variables. There are a mixture of categorical and numerical variables in the dataset. Categorical variables have data type object. Numerical variables have data type float64.\n",
        "\n",
        "\n",
        "First of all, I will find categorical variables."
      ]
    },
    {
      "cell_type": "code",
      "execution_count": null,
      "metadata": {
        "id": "T6_TE57cY5Fo",
        "outputId": "9c959f7d-1d7b-4cae-c7c0-b96db9d12c83",
        "colab": {
          "base_uri": "https://localhost:8080/"
        }
      },
      "outputs": [
        {
          "output_type": "stream",
          "name": "stdout",
          "text": [
            "There are 7 categorical variables\n",
            "\n",
            "The categorical variables are : ['Date', 'Location', 'WindGustDir', 'WindDir9am', 'WindDir3pm', 'RainToday', 'RainTomorrow']\n"
          ]
        }
      ],
      "source": [
        "# find categorical variables\n",
        "\n"
      ]
    },
    {
      "cell_type": "code",
      "execution_count": null,
      "metadata": {
        "id": "guJ232leY5Fp",
        "outputId": "dfc9d4d3-b9a6-48b4-efac-02da671e6a66",
        "colab": {
          "base_uri": "https://localhost:8080/",
          "height": 206
        }
      },
      "outputs": [
        {
          "output_type": "execute_result",
          "data": {
            "text/plain": [
              "        Date      Location WindGustDir WindDir9am WindDir3pm RainToday  \\\n",
              "0  5/18/2009        Hobart          NW        WSW        SSE        No   \n",
              "1   7/3/2009    Launceston         SSW          E         SW        No   \n",
              "2  2/18/2010   Williamtown         SSE        SSE        SSE        No   \n",
              "3   3/4/2010  PerthAirport          SW        SSE         SW        No   \n",
              "4   9/9/2010     GoldCoast         NNW        WNW          N        No   \n",
              "\n",
              "  RainTomorrow  \n",
              "0           No  \n",
              "1           No  \n",
              "2           No  \n",
              "3           No  \n",
              "4           No  "
            ],
            "text/html": [
              "\n",
              "  <div id=\"df-a212e53c-9269-4be0-8be3-a57bf7d4a4ec\">\n",
              "    <div class=\"colab-df-container\">\n",
              "      <div>\n",
              "<style scoped>\n",
              "    .dataframe tbody tr th:only-of-type {\n",
              "        vertical-align: middle;\n",
              "    }\n",
              "\n",
              "    .dataframe tbody tr th {\n",
              "        vertical-align: top;\n",
              "    }\n",
              "\n",
              "    .dataframe thead th {\n",
              "        text-align: right;\n",
              "    }\n",
              "</style>\n",
              "<table border=\"1\" class=\"dataframe\">\n",
              "  <thead>\n",
              "    <tr style=\"text-align: right;\">\n",
              "      <th></th>\n",
              "      <th>Date</th>\n",
              "      <th>Location</th>\n",
              "      <th>WindGustDir</th>\n",
              "      <th>WindDir9am</th>\n",
              "      <th>WindDir3pm</th>\n",
              "      <th>RainToday</th>\n",
              "      <th>RainTomorrow</th>\n",
              "    </tr>\n",
              "  </thead>\n",
              "  <tbody>\n",
              "    <tr>\n",
              "      <th>0</th>\n",
              "      <td>5/18/2009</td>\n",
              "      <td>Hobart</td>\n",
              "      <td>NW</td>\n",
              "      <td>WSW</td>\n",
              "      <td>SSE</td>\n",
              "      <td>No</td>\n",
              "      <td>No</td>\n",
              "    </tr>\n",
              "    <tr>\n",
              "      <th>1</th>\n",
              "      <td>7/3/2009</td>\n",
              "      <td>Launceston</td>\n",
              "      <td>SSW</td>\n",
              "      <td>E</td>\n",
              "      <td>SW</td>\n",
              "      <td>No</td>\n",
              "      <td>No</td>\n",
              "    </tr>\n",
              "    <tr>\n",
              "      <th>2</th>\n",
              "      <td>2/18/2010</td>\n",
              "      <td>Williamtown</td>\n",
              "      <td>SSE</td>\n",
              "      <td>SSE</td>\n",
              "      <td>SSE</td>\n",
              "      <td>No</td>\n",
              "      <td>No</td>\n",
              "    </tr>\n",
              "    <tr>\n",
              "      <th>3</th>\n",
              "      <td>3/4/2010</td>\n",
              "      <td>PerthAirport</td>\n",
              "      <td>SW</td>\n",
              "      <td>SSE</td>\n",
              "      <td>SW</td>\n",
              "      <td>No</td>\n",
              "      <td>No</td>\n",
              "    </tr>\n",
              "    <tr>\n",
              "      <th>4</th>\n",
              "      <td>9/9/2010</td>\n",
              "      <td>GoldCoast</td>\n",
              "      <td>NNW</td>\n",
              "      <td>WNW</td>\n",
              "      <td>N</td>\n",
              "      <td>No</td>\n",
              "      <td>No</td>\n",
              "    </tr>\n",
              "  </tbody>\n",
              "</table>\n",
              "</div>\n",
              "      <button class=\"colab-df-convert\" onclick=\"convertToInteractive('df-a212e53c-9269-4be0-8be3-a57bf7d4a4ec')\"\n",
              "              title=\"Convert this dataframe to an interactive table.\"\n",
              "              style=\"display:none;\">\n",
              "        \n",
              "  <svg xmlns=\"http://www.w3.org/2000/svg\" height=\"24px\"viewBox=\"0 0 24 24\"\n",
              "       width=\"24px\">\n",
              "    <path d=\"M0 0h24v24H0V0z\" fill=\"none\"/>\n",
              "    <path d=\"M18.56 5.44l.94 2.06.94-2.06 2.06-.94-2.06-.94-.94-2.06-.94 2.06-2.06.94zm-11 1L8.5 8.5l.94-2.06 2.06-.94-2.06-.94L8.5 2.5l-.94 2.06-2.06.94zm10 10l.94 2.06.94-2.06 2.06-.94-2.06-.94-.94-2.06-.94 2.06-2.06.94z\"/><path d=\"M17.41 7.96l-1.37-1.37c-.4-.4-.92-.59-1.43-.59-.52 0-1.04.2-1.43.59L10.3 9.45l-7.72 7.72c-.78.78-.78 2.05 0 2.83L4 21.41c.39.39.9.59 1.41.59.51 0 1.02-.2 1.41-.59l7.78-7.78 2.81-2.81c.8-.78.8-2.07 0-2.86zM5.41 20L4 18.59l7.72-7.72 1.47 1.35L5.41 20z\"/>\n",
              "  </svg>\n",
              "      </button>\n",
              "      \n",
              "  <style>\n",
              "    .colab-df-container {\n",
              "      display:flex;\n",
              "      flex-wrap:wrap;\n",
              "      gap: 12px;\n",
              "    }\n",
              "\n",
              "    .colab-df-convert {\n",
              "      background-color: #E8F0FE;\n",
              "      border: none;\n",
              "      border-radius: 50%;\n",
              "      cursor: pointer;\n",
              "      display: none;\n",
              "      fill: #1967D2;\n",
              "      height: 32px;\n",
              "      padding: 0 0 0 0;\n",
              "      width: 32px;\n",
              "    }\n",
              "\n",
              "    .colab-df-convert:hover {\n",
              "      background-color: #E2EBFA;\n",
              "      box-shadow: 0px 1px 2px rgba(60, 64, 67, 0.3), 0px 1px 3px 1px rgba(60, 64, 67, 0.15);\n",
              "      fill: #174EA6;\n",
              "    }\n",
              "\n",
              "    [theme=dark] .colab-df-convert {\n",
              "      background-color: #3B4455;\n",
              "      fill: #D2E3FC;\n",
              "    }\n",
              "\n",
              "    [theme=dark] .colab-df-convert:hover {\n",
              "      background-color: #434B5C;\n",
              "      box-shadow: 0px 1px 3px 1px rgba(0, 0, 0, 0.15);\n",
              "      filter: drop-shadow(0px 1px 2px rgba(0, 0, 0, 0.3));\n",
              "      fill: #FFFFFF;\n",
              "    }\n",
              "  </style>\n",
              "\n",
              "      <script>\n",
              "        const buttonEl =\n",
              "          document.querySelector('#df-a212e53c-9269-4be0-8be3-a57bf7d4a4ec button.colab-df-convert');\n",
              "        buttonEl.style.display =\n",
              "          google.colab.kernel.accessAllowed ? 'block' : 'none';\n",
              "\n",
              "        async function convertToInteractive(key) {\n",
              "          const element = document.querySelector('#df-a212e53c-9269-4be0-8be3-a57bf7d4a4ec');\n",
              "          const dataTable =\n",
              "            await google.colab.kernel.invokeFunction('convertToInteractive',\n",
              "                                                     [key], {});\n",
              "          if (!dataTable) return;\n",
              "\n",
              "          const docLinkHtml = 'Like what you see? Visit the ' +\n",
              "            '<a target=\"_blank\" href=https://colab.research.google.com/notebooks/data_table.ipynb>data table notebook</a>'\n",
              "            + ' to learn more about interactive tables.';\n",
              "          element.innerHTML = '';\n",
              "          dataTable['output_type'] = 'display_data';\n",
              "          await google.colab.output.renderOutput(dataTable, element);\n",
              "          const docLink = document.createElement('div');\n",
              "          docLink.innerHTML = docLinkHtml;\n",
              "          element.appendChild(docLink);\n",
              "        }\n",
              "      </script>\n",
              "    </div>\n",
              "  </div>\n",
              "  "
            ]
          },
          "metadata": {},
          "execution_count": 250
        }
      ],
      "source": [
        "# view the categorical variables\n",
        "\n"
      ]
    },
    {
      "cell_type": "markdown",
      "metadata": {
        "id": "Fzo4DszHY5Fp"
      },
      "source": [
        "### Summary of categorical variables\n",
        "\n",
        "\n",
        "- There is a date variable. It is denoted by `Date` column.\n",
        "\n",
        "\n",
        "- There are 6 categorical variables. These are given by `Location`, `WindGustDir`, `WindDir9am`, `WindDir3pm`, `RainToday` and  `RainTomorrow`.\n",
        "\n",
        "\n",
        "- There are two binary categorical variables - `RainToday` and  `RainTomorrow`.\n",
        "\n",
        "\n",
        "- `RainTomorrow` is the target variable."
      ]
    },
    {
      "cell_type": "markdown",
      "metadata": {
        "id": "u6KrFgRVY5Fq"
      },
      "source": [
        "## Explore problems within categorical variables\n",
        "\n",
        "\n",
        "First, I will explore the categorical variables.\n",
        "\n",
        "\n",
        "### Missing values in categorical variables"
      ]
    },
    {
      "cell_type": "code",
      "execution_count": null,
      "metadata": {
        "id": "Q7VewSThY5Fq",
        "outputId": "43088bf8-08b2-4774-b08d-b8c8a5d5f8c0",
        "colab": {
          "base_uri": "https://localhost:8080/"
        }
      },
      "outputs": [
        {
          "output_type": "execute_result",
          "data": {
            "text/plain": [
              "Date               0\n",
              "Location           0\n",
              "WindGustDir     3368\n",
              "WindDir9am      2809\n",
              "WindDir3pm       962\n",
              "RainToday        626\n",
              "RainTomorrow     620\n",
              "dtype: int64"
            ]
          },
          "metadata": {},
          "execution_count": 251
        }
      ],
      "source": [
        "# check missing values in categorical variables\n"
      ]
    },
    {
      "cell_type": "code",
      "execution_count": null,
      "metadata": {
        "id": "d3ce2IYEY5Fq",
        "outputId": "9459926d-f5bf-4568-d327-592555a34bc7",
        "colab": {
          "base_uri": "https://localhost:8080/"
        }
      },
      "outputs": [
        {
          "output_type": "stream",
          "name": "stdout",
          "text": [
            "WindGustDir     3368\n",
            "WindDir9am      2809\n",
            "WindDir3pm       962\n",
            "RainToday        626\n",
            "RainTomorrow     620\n",
            "dtype: int64\n"
          ]
        }
      ],
      "source": [
        "# print categorical variables containing missing values\n",
        "\n"
      ]
    },
    {
      "cell_type": "markdown",
      "metadata": {
        "id": "m8ao2sAUY5Fq"
      },
      "source": [
        "We can see that there are only 4 categorical variables in the dataset which contains missing values. These are `WindGustDir`, `WindDir9am`, `WindDir3pm` and `RainToday`."
      ]
    },
    {
      "cell_type": "markdown",
      "metadata": {
        "id": "eSBjf3IsY5Fq"
      },
      "source": [
        "### Frequency counts of categorical variables\n",
        "\n",
        "\n",
        "Now, I will check the frequency counts of categorical variables."
      ]
    },
    {
      "cell_type": "code",
      "execution_count": null,
      "metadata": {
        "id": "3kE30mToY5Fr",
        "outputId": "e4846e42-dc2c-4185-a21a-3cb71da2bb23",
        "colab": {
          "base_uri": "https://localhost:8080/"
        }
      },
      "outputs": [
        {
          "output_type": "stream",
          "name": "stdout",
          "text": [
            "3/3/2009      42\n",
            "7/9/2010      40\n",
            "10/28/2011    40\n",
            "5/24/2009     40\n",
            "2/1/2010      40\n",
            "              ..\n",
            "12/3/2007      1\n",
            "5/6/2008       1\n",
            "12/15/2007     1\n",
            "11/10/2007     1\n",
            "11/23/2007     1\n",
            "Name: Date, Length: 1473, dtype: int64\n",
            "Canberra            1085\n",
            "Sydney               971\n",
            "Melbourne            904\n",
            "Perth                899\n",
            "Hobart               893\n",
            "Adelaide             887\n",
            "Brisbane             887\n",
            "Darwin               881\n",
            "Ballarat             813\n",
            "Bendigo              811\n",
            "Cairns               805\n",
            "Albany               802\n",
            "SydneyAirport        801\n",
            "NorahHead            796\n",
            "Albury               795\n",
            "Launceston           795\n",
            "Williamtown          794\n",
            "Moree                793\n",
            "MountGambier         793\n",
            "AliceSprings         792\n",
            "MountGinini          789\n",
            "BadgerysCreek        788\n",
            "Newcastle            782\n",
            "Tuggeranong          782\n",
            "Townsville           777\n",
            "GoldCoast            777\n",
            "MelbourneAirport     774\n",
            "Mildura              769\n",
            "Richmond             769\n",
            "Walpole              768\n",
            "Woomera              766\n",
            "Witchcliffe          765\n",
            "CoffsHarbour         765\n",
            "Cobar                763\n",
            "PearceRAAF           763\n",
            "Portland             763\n",
            "SalmonGums           759\n",
            "Dartmoor             757\n",
            "Nuriootpa            756\n",
            "NorfolkIsland        756\n",
            "WaggaWagga           755\n",
            "Watsonia             755\n",
            "Wollongong           752\n",
            "Penrith              750\n",
            "Sale                 746\n",
            "PerthAirport         738\n",
            "Name: Location, dtype: int64\n",
            "SE     2403\n",
            "W      2375\n",
            "SSE    2330\n",
            "N      2328\n",
            "S      2317\n",
            "SW     2272\n",
            "E      2209\n",
            "WSW    2206\n",
            "SSW    2139\n",
            "WNW    2052\n",
            "ENE    2026\n",
            "NW     1940\n",
            "ESE    1894\n",
            "NE     1769\n",
            "NNE    1663\n",
            "NNW    1590\n",
            "Name: WindGustDir, dtype: int64\n",
            "N      2862\n",
            "SE     2421\n",
            "E      2375\n",
            "SSE    2301\n",
            "S      2233\n",
            "W      2218\n",
            "ENE    2090\n",
            "SW     2085\n",
            "NW     2077\n",
            "NNE    2059\n",
            "NNW    2017\n",
            "NE     1941\n",
            "SSW    1895\n",
            "ESE    1864\n",
            "WNW    1860\n",
            "WSW    1774\n",
            "Name: WindDir9am, dtype: int64\n",
            "SE     2939\n",
            "S      2547\n",
            "W      2486\n",
            "WSW    2410\n",
            "SSE    2381\n",
            "SW     2377\n",
            "N      2278\n",
            "E      2252\n",
            "WNW    2208\n",
            "NW     2178\n",
            "ESE    2163\n",
            "NE     2136\n",
            "ENE    2063\n",
            "SSW    1994\n",
            "NNW    1860\n",
            "NNE    1647\n",
            "Name: WindDir3pm, dtype: int64\n",
            "No     27756\n",
            "Yes     8499\n",
            "Name: RainToday, dtype: int64\n",
            "No     27732\n",
            "Yes     8529\n",
            "Name: RainTomorrow, dtype: int64\n"
          ]
        }
      ],
      "source": [
        "# view frequency of categorical variables\n"
      ]
    },
    {
      "cell_type": "code",
      "execution_count": null,
      "metadata": {
        "id": "Jz0CtnNOY5Fr",
        "outputId": "1be558e8-4caf-42c4-fe88-8073f1798c0b",
        "colab": {
          "base_uri": "https://localhost:8080/"
        }
      },
      "outputs": [
        {
          "output_type": "stream",
          "name": "stdout",
          "text": [
            "3/3/2009      0.001139\n",
            "7/9/2010      0.001085\n",
            "10/28/2011    0.001085\n",
            "5/24/2009     0.001085\n",
            "2/1/2010      0.001085\n",
            "                ...   \n",
            "12/3/2007     0.000027\n",
            "5/6/2008      0.000027\n",
            "12/15/2007    0.000027\n",
            "11/10/2007    0.000027\n",
            "11/23/2007    0.000027\n",
            "Name: Date, Length: 1473, dtype: float64\n",
            "Canberra            0.029419\n",
            "Sydney              0.026328\n",
            "Melbourne           0.024511\n",
            "Perth               0.024376\n",
            "Hobart              0.024213\n",
            "Adelaide            0.024050\n",
            "Brisbane            0.024050\n",
            "Darwin              0.023888\n",
            "Ballarat            0.022044\n",
            "Bendigo             0.021990\n",
            "Cairns              0.021827\n",
            "Albany              0.021746\n",
            "SydneyAirport       0.021719\n",
            "NorahHead           0.021583\n",
            "Albury              0.021556\n",
            "Launceston          0.021556\n",
            "Williamtown         0.021529\n",
            "Moree               0.021502\n",
            "MountGambier        0.021502\n",
            "AliceSprings        0.021474\n",
            "MountGinini         0.021393\n",
            "BadgerysCreek       0.021366\n",
            "Newcastle           0.021203\n",
            "Tuggeranong         0.021203\n",
            "Townsville          0.021068\n",
            "GoldCoast           0.021068\n",
            "MelbourneAirport    0.020986\n",
            "Mildura             0.020851\n",
            "Richmond            0.020851\n",
            "Walpole             0.020824\n",
            "Woomera             0.020770\n",
            "Witchcliffe         0.020742\n",
            "CoffsHarbour        0.020742\n",
            "Cobar               0.020688\n",
            "PearceRAAF          0.020688\n",
            "Portland            0.020688\n",
            "SalmonGums          0.020580\n",
            "Dartmoor            0.020525\n",
            "Nuriootpa           0.020498\n",
            "NorfolkIsland       0.020498\n",
            "WaggaWagga          0.020471\n",
            "Watsonia            0.020471\n",
            "Wollongong          0.020390\n",
            "Penrith             0.020336\n",
            "Sale                0.020227\n",
            "PerthAirport        0.020010\n",
            "Name: Location, dtype: float64\n",
            "SE     0.065156\n",
            "W      0.064396\n",
            "SSE    0.063176\n",
            "N      0.063122\n",
            "S      0.062824\n",
            "SW     0.061604\n",
            "E      0.059895\n",
            "WSW    0.059814\n",
            "SSW    0.057997\n",
            "WNW    0.055638\n",
            "ENE    0.054933\n",
            "NW     0.052602\n",
            "ESE    0.051354\n",
            "NE     0.047965\n",
            "NNE    0.045091\n",
            "NNW    0.043112\n",
            "Name: WindGustDir, dtype: float64\n",
            "N      0.077601\n",
            "SE     0.065644\n",
            "E      0.064396\n",
            "SSE    0.062390\n",
            "S      0.060546\n",
            "W      0.060139\n",
            "ENE    0.056669\n",
            "SW     0.056533\n",
            "NW     0.056316\n",
            "NNE    0.055828\n",
            "NNW    0.054689\n",
            "NE     0.052629\n",
            "SSW    0.051381\n",
            "ESE    0.050541\n",
            "WNW    0.050432\n",
            "WSW    0.048101\n",
            "Name: WindDir9am, dtype: float64\n",
            "SE     0.079689\n",
            "S      0.069060\n",
            "W      0.067406\n",
            "WSW    0.065345\n",
            "SSE    0.064559\n",
            "SW     0.064451\n",
            "N      0.061766\n",
            "E      0.061061\n",
            "WNW    0.059868\n",
            "NW     0.059055\n",
            "ESE    0.058648\n",
            "NE     0.057916\n",
            "ENE    0.055937\n",
            "SSW    0.054066\n",
            "NNW    0.050432\n",
            "NNE    0.044657\n",
            "Name: WindDir3pm, dtype: float64\n",
            "No     0.752583\n",
            "Yes    0.230444\n",
            "Name: RainToday, dtype: float64\n",
            "No     0.751932\n",
            "Yes    0.231257\n",
            "Name: RainTomorrow, dtype: float64\n"
          ]
        }
      ],
      "source": [
        "# view frequency distribution of categorical variables\n"
      ]
    },
    {
      "cell_type": "markdown",
      "metadata": {
        "id": "HgY9K5wZY5Fr"
      },
      "source": [
        "### Number of labels: cardinality\n",
        "\n",
        "\n",
        "The number of labels within a categorical variable is known as **cardinality**. A high number of labels within a variable is known as **high cardinality**. High cardinality may pose some serious problems in the machine learning model. So, I will check for high cardinality."
      ]
    },
    {
      "cell_type": "code",
      "execution_count": null,
      "metadata": {
        "id": "mdnKKADBY5Fs",
        "outputId": "8ca88700-ab71-4501-a8b2-f3c4080f4bad",
        "colab": {
          "base_uri": "https://localhost:8080/"
        }
      },
      "outputs": [
        {
          "output_type": "stream",
          "name": "stdout",
          "text": [
            "Date  contains  1473  labels\n",
            "Location  contains  46  labels\n",
            "WindGustDir  contains  17  labels\n",
            "WindDir9am  contains  17  labels\n",
            "WindDir3pm  contains  17  labels\n",
            "RainToday  contains  3  labels\n",
            "RainTomorrow  contains  3  labels\n"
          ]
        }
      ],
      "source": [
        "# check for cardinality in categorical variables\n"
      ]
    },
    {
      "cell_type": "markdown",
      "metadata": {
        "id": "udOvkoQhY5Fs"
      },
      "source": [
        "We can see that there is a `Date` variable which needs to be preprocessed. I will do preprocessing in the following section.\n",
        "\n",
        "\n",
        "All the other variables contain relatively smaller number of variables."
      ]
    },
    {
      "cell_type": "markdown",
      "metadata": {
        "id": "rXAkzHvoY5Fs"
      },
      "source": [
        "### Feature Engineering of Date Variable"
      ]
    },
    {
      "cell_type": "code",
      "execution_count": null,
      "metadata": {
        "id": "E93IffMcY5Fs",
        "outputId": "7f8f91e5-9637-4c28-d485-01a2c6b143d3",
        "colab": {
          "base_uri": "https://localhost:8080/"
        }
      },
      "outputs": [
        {
          "output_type": "execute_result",
          "data": {
            "text/plain": [
              "dtype('O')"
            ]
          },
          "metadata": {},
          "execution_count": 256
        }
      ],
      "source": [
        "#CHECK dtypes"
      ]
    },
    {
      "cell_type": "markdown",
      "metadata": {
        "id": "tP8t9E0aY5Ft"
      },
      "source": [
        "We can see that the data type of `Date` variable is object. I will parse the date currently coded as object into datetime format."
      ]
    },
    {
      "cell_type": "code",
      "execution_count": null,
      "metadata": {
        "id": "2Myi2Jv-Y5Ft"
      },
      "outputs": [],
      "source": [
        "# parse the dates, currently coded as strings, into datetime format\n"
      ]
    },
    {
      "cell_type": "code",
      "execution_count": null,
      "metadata": {
        "id": "vx_mJfpQY5Ft",
        "outputId": "2a9a23e4-0a62-4c8a-8051-ea93f4aa6d6d",
        "colab": {
          "base_uri": "https://localhost:8080/"
        }
      },
      "outputs": [
        {
          "output_type": "execute_result",
          "data": {
            "text/plain": [
              "0    2009\n",
              "1    2009\n",
              "2    2010\n",
              "3    2010\n",
              "4    2010\n",
              "Name: Year, dtype: int64"
            ]
          },
          "metadata": {},
          "execution_count": 258
        }
      ],
      "source": [
        "# extract year from date\n",
        "\n"
      ]
    },
    {
      "cell_type": "code",
      "execution_count": null,
      "metadata": {
        "id": "qsoGXaXCY5Ft",
        "outputId": "ee26ce0c-14dc-48b9-97bc-9c830a075c2b",
        "colab": {
          "base_uri": "https://localhost:8080/"
        }
      },
      "outputs": [
        {
          "output_type": "execute_result",
          "data": {
            "text/plain": [
              "0    5\n",
              "1    7\n",
              "2    2\n",
              "3    3\n",
              "4    9\n",
              "Name: Month, dtype: int64"
            ]
          },
          "metadata": {},
          "execution_count": 259
        }
      ],
      "source": [
        "# extract month from date\n",
        "\n"
      ]
    },
    {
      "cell_type": "code",
      "execution_count": null,
      "metadata": {
        "id": "3fQlQ1aSY5Fu",
        "outputId": "89b0f87a-178a-48a7-a1ae-326fe9340a67",
        "colab": {
          "base_uri": "https://localhost:8080/"
        }
      },
      "outputs": [
        {
          "output_type": "execute_result",
          "data": {
            "text/plain": [
              "0    18\n",
              "1     3\n",
              "2    18\n",
              "3     4\n",
              "4     9\n",
              "Name: Day, dtype: int64"
            ]
          },
          "metadata": {},
          "execution_count": 260
        }
      ],
      "source": [
        "# extract day from date\n",
        "\n"
      ]
    },
    {
      "cell_type": "code",
      "execution_count": null,
      "metadata": {
        "id": "PZ0CiYstY5Fu",
        "outputId": "f7a8ffe3-c46c-4016-9b0f-333fa32359fd",
        "colab": {
          "base_uri": "https://localhost:8080/"
        }
      },
      "outputs": [
        {
          "output_type": "stream",
          "name": "stdout",
          "text": [
            "<class 'pandas.core.frame.DataFrame'>\n",
            "RangeIndex: 36881 entries, 0 to 36880\n",
            "Data columns (total 26 columns):\n",
            " #   Column         Non-Null Count  Dtype         \n",
            "---  ------         --------------  -----         \n",
            " 0   Date           36881 non-null  datetime64[ns]\n",
            " 1   Location       36881 non-null  object        \n",
            " 2   MinTemp        36543 non-null  float64       \n",
            " 3   MaxTemp        36639 non-null  float64       \n",
            " 4   Rainfall       36255 non-null  float64       \n",
            " 5   Evaporation    24035 non-null  float64       \n",
            " 6   Sunshine       23317 non-null  float64       \n",
            " 7   WindGustDir    33513 non-null  object        \n",
            " 8   WindGustSpeed  33520 non-null  float64       \n",
            " 9   WindDir9am     34072 non-null  object        \n",
            " 10  WindDir3pm     35919 non-null  object        \n",
            " 11  WindSpeed9am   36219 non-null  float64       \n",
            " 12  WindSpeed3pm   36235 non-null  float64       \n",
            " 13  Humidity9am    36311 non-null  float64       \n",
            " 14  Humidity3pm    36370 non-null  float64       \n",
            " 15  Pressure9am    33309 non-null  float64       \n",
            " 16  Pressure3pm    33329 non-null  float64       \n",
            " 17  Cloud9am       24381 non-null  float64       \n",
            " 18  Cloud3pm       23899 non-null  float64       \n",
            " 19  Temp9am        36394 non-null  float64       \n",
            " 20  Temp3pm        36437 non-null  float64       \n",
            " 21  RainToday      36255 non-null  object        \n",
            " 22  RainTomorrow   36261 non-null  object        \n",
            " 23  Year           36881 non-null  int64         \n",
            " 24  Month          36881 non-null  int64         \n",
            " 25  Day            36881 non-null  int64         \n",
            "dtypes: datetime64[ns](1), float64(16), int64(3), object(6)\n",
            "memory usage: 7.3+ MB\n"
          ]
        }
      ],
      "source": [
        "# again view the summary of dataset\n",
        "\n"
      ]
    },
    {
      "cell_type": "markdown",
      "metadata": {
        "id": "NY1uIpxUY5Fu"
      },
      "source": [
        "We can see that there are three additional columns created from `Date` variable. Now, I will drop the original `Date` variable from the dataset."
      ]
    },
    {
      "cell_type": "code",
      "execution_count": null,
      "metadata": {
        "id": "t1H3oKMgY5Fu"
      },
      "outputs": [],
      "source": [
        "# drop the original Date variable\n",
        "\n"
      ]
    },
    {
      "cell_type": "code",
      "execution_count": null,
      "metadata": {
        "id": "bE7J8b-uY5Fu",
        "outputId": "7b124c6c-a922-4c49-d694-43101f1d4510",
        "colab": {
          "base_uri": "https://localhost:8080/",
          "height": 300
        }
      },
      "outputs": [
        {
          "output_type": "execute_result",
          "data": {
            "text/plain": [
              "       Location  MinTemp  MaxTemp  Rainfall  Evaporation  Sunshine  \\\n",
              "0        Hobart      5.1     14.3       0.0          1.8       8.9   \n",
              "1    Launceston      1.1     14.5       0.4          NaN       NaN   \n",
              "2   Williamtown     19.7     26.2       0.0          7.2       7.2   \n",
              "3  PerthAirport     16.6     28.0       0.0          9.0      11.3   \n",
              "4     GoldCoast     14.6     25.3       0.0          NaN       NaN   \n",
              "\n",
              "  WindGustDir  WindGustSpeed WindDir9am WindDir3pm  ...  Pressure3pm  \\\n",
              "0          NW           30.0        WSW        SSE  ...       1022.2   \n",
              "1         SSW           50.0          E         SW  ...       1002.4   \n",
              "2         SSE           41.0        SSE        SSE  ...       1021.9   \n",
              "3          SW           54.0        SSE         SW  ...       1014.9   \n",
              "4         NNW           43.0        WNW          N  ...       1015.0   \n",
              "\n",
              "   Cloud9am  Cloud3pm  Temp9am  Temp3pm  RainToday  RainTomorrow  Year  Month  \\\n",
              "0       1.0       1.0      9.1     13.3         No            No  2009      5   \n",
              "1       NaN       NaN      1.3     13.7         No            No  2009      7   \n",
              "2       6.0       4.0     22.7     24.4         No            No  2010      2   \n",
              "3       6.0       1.0     20.0     26.1         No            No  2010      3   \n",
              "4       NaN       NaN     22.2     22.6         No            No  2010      9   \n",
              "\n",
              "   Day  \n",
              "0   18  \n",
              "1    3  \n",
              "2   18  \n",
              "3    4  \n",
              "4    9  \n",
              "\n",
              "[5 rows x 25 columns]"
            ],
            "text/html": [
              "\n",
              "  <div id=\"df-5061601a-8d35-4fa9-94ac-ee3ce1c416ec\">\n",
              "    <div class=\"colab-df-container\">\n",
              "      <div>\n",
              "<style scoped>\n",
              "    .dataframe tbody tr th:only-of-type {\n",
              "        vertical-align: middle;\n",
              "    }\n",
              "\n",
              "    .dataframe tbody tr th {\n",
              "        vertical-align: top;\n",
              "    }\n",
              "\n",
              "    .dataframe thead th {\n",
              "        text-align: right;\n",
              "    }\n",
              "</style>\n",
              "<table border=\"1\" class=\"dataframe\">\n",
              "  <thead>\n",
              "    <tr style=\"text-align: right;\">\n",
              "      <th></th>\n",
              "      <th>Location</th>\n",
              "      <th>MinTemp</th>\n",
              "      <th>MaxTemp</th>\n",
              "      <th>Rainfall</th>\n",
              "      <th>Evaporation</th>\n",
              "      <th>Sunshine</th>\n",
              "      <th>WindGustDir</th>\n",
              "      <th>WindGustSpeed</th>\n",
              "      <th>WindDir9am</th>\n",
              "      <th>WindDir3pm</th>\n",
              "      <th>...</th>\n",
              "      <th>Pressure3pm</th>\n",
              "      <th>Cloud9am</th>\n",
              "      <th>Cloud3pm</th>\n",
              "      <th>Temp9am</th>\n",
              "      <th>Temp3pm</th>\n",
              "      <th>RainToday</th>\n",
              "      <th>RainTomorrow</th>\n",
              "      <th>Year</th>\n",
              "      <th>Month</th>\n",
              "      <th>Day</th>\n",
              "    </tr>\n",
              "  </thead>\n",
              "  <tbody>\n",
              "    <tr>\n",
              "      <th>0</th>\n",
              "      <td>Hobart</td>\n",
              "      <td>5.1</td>\n",
              "      <td>14.3</td>\n",
              "      <td>0.0</td>\n",
              "      <td>1.8</td>\n",
              "      <td>8.9</td>\n",
              "      <td>NW</td>\n",
              "      <td>30.0</td>\n",
              "      <td>WSW</td>\n",
              "      <td>SSE</td>\n",
              "      <td>...</td>\n",
              "      <td>1022.2</td>\n",
              "      <td>1.0</td>\n",
              "      <td>1.0</td>\n",
              "      <td>9.1</td>\n",
              "      <td>13.3</td>\n",
              "      <td>No</td>\n",
              "      <td>No</td>\n",
              "      <td>2009</td>\n",
              "      <td>5</td>\n",
              "      <td>18</td>\n",
              "    </tr>\n",
              "    <tr>\n",
              "      <th>1</th>\n",
              "      <td>Launceston</td>\n",
              "      <td>1.1</td>\n",
              "      <td>14.5</td>\n",
              "      <td>0.4</td>\n",
              "      <td>NaN</td>\n",
              "      <td>NaN</td>\n",
              "      <td>SSW</td>\n",
              "      <td>50.0</td>\n",
              "      <td>E</td>\n",
              "      <td>SW</td>\n",
              "      <td>...</td>\n",
              "      <td>1002.4</td>\n",
              "      <td>NaN</td>\n",
              "      <td>NaN</td>\n",
              "      <td>1.3</td>\n",
              "      <td>13.7</td>\n",
              "      <td>No</td>\n",
              "      <td>No</td>\n",
              "      <td>2009</td>\n",
              "      <td>7</td>\n",
              "      <td>3</td>\n",
              "    </tr>\n",
              "    <tr>\n",
              "      <th>2</th>\n",
              "      <td>Williamtown</td>\n",
              "      <td>19.7</td>\n",
              "      <td>26.2</td>\n",
              "      <td>0.0</td>\n",
              "      <td>7.2</td>\n",
              "      <td>7.2</td>\n",
              "      <td>SSE</td>\n",
              "      <td>41.0</td>\n",
              "      <td>SSE</td>\n",
              "      <td>SSE</td>\n",
              "      <td>...</td>\n",
              "      <td>1021.9</td>\n",
              "      <td>6.0</td>\n",
              "      <td>4.0</td>\n",
              "      <td>22.7</td>\n",
              "      <td>24.4</td>\n",
              "      <td>No</td>\n",
              "      <td>No</td>\n",
              "      <td>2010</td>\n",
              "      <td>2</td>\n",
              "      <td>18</td>\n",
              "    </tr>\n",
              "    <tr>\n",
              "      <th>3</th>\n",
              "      <td>PerthAirport</td>\n",
              "      <td>16.6</td>\n",
              "      <td>28.0</td>\n",
              "      <td>0.0</td>\n",
              "      <td>9.0</td>\n",
              "      <td>11.3</td>\n",
              "      <td>SW</td>\n",
              "      <td>54.0</td>\n",
              "      <td>SSE</td>\n",
              "      <td>SW</td>\n",
              "      <td>...</td>\n",
              "      <td>1014.9</td>\n",
              "      <td>6.0</td>\n",
              "      <td>1.0</td>\n",
              "      <td>20.0</td>\n",
              "      <td>26.1</td>\n",
              "      <td>No</td>\n",
              "      <td>No</td>\n",
              "      <td>2010</td>\n",
              "      <td>3</td>\n",
              "      <td>4</td>\n",
              "    </tr>\n",
              "    <tr>\n",
              "      <th>4</th>\n",
              "      <td>GoldCoast</td>\n",
              "      <td>14.6</td>\n",
              "      <td>25.3</td>\n",
              "      <td>0.0</td>\n",
              "      <td>NaN</td>\n",
              "      <td>NaN</td>\n",
              "      <td>NNW</td>\n",
              "      <td>43.0</td>\n",
              "      <td>WNW</td>\n",
              "      <td>N</td>\n",
              "      <td>...</td>\n",
              "      <td>1015.0</td>\n",
              "      <td>NaN</td>\n",
              "      <td>NaN</td>\n",
              "      <td>22.2</td>\n",
              "      <td>22.6</td>\n",
              "      <td>No</td>\n",
              "      <td>No</td>\n",
              "      <td>2010</td>\n",
              "      <td>9</td>\n",
              "      <td>9</td>\n",
              "    </tr>\n",
              "  </tbody>\n",
              "</table>\n",
              "<p>5 rows × 25 columns</p>\n",
              "</div>\n",
              "      <button class=\"colab-df-convert\" onclick=\"convertToInteractive('df-5061601a-8d35-4fa9-94ac-ee3ce1c416ec')\"\n",
              "              title=\"Convert this dataframe to an interactive table.\"\n",
              "              style=\"display:none;\">\n",
              "        \n",
              "  <svg xmlns=\"http://www.w3.org/2000/svg\" height=\"24px\"viewBox=\"0 0 24 24\"\n",
              "       width=\"24px\">\n",
              "    <path d=\"M0 0h24v24H0V0z\" fill=\"none\"/>\n",
              "    <path d=\"M18.56 5.44l.94 2.06.94-2.06 2.06-.94-2.06-.94-.94-2.06-.94 2.06-2.06.94zm-11 1L8.5 8.5l.94-2.06 2.06-.94-2.06-.94L8.5 2.5l-.94 2.06-2.06.94zm10 10l.94 2.06.94-2.06 2.06-.94-2.06-.94-.94-2.06-.94 2.06-2.06.94z\"/><path d=\"M17.41 7.96l-1.37-1.37c-.4-.4-.92-.59-1.43-.59-.52 0-1.04.2-1.43.59L10.3 9.45l-7.72 7.72c-.78.78-.78 2.05 0 2.83L4 21.41c.39.39.9.59 1.41.59.51 0 1.02-.2 1.41-.59l7.78-7.78 2.81-2.81c.8-.78.8-2.07 0-2.86zM5.41 20L4 18.59l7.72-7.72 1.47 1.35L5.41 20z\"/>\n",
              "  </svg>\n",
              "      </button>\n",
              "      \n",
              "  <style>\n",
              "    .colab-df-container {\n",
              "      display:flex;\n",
              "      flex-wrap:wrap;\n",
              "      gap: 12px;\n",
              "    }\n",
              "\n",
              "    .colab-df-convert {\n",
              "      background-color: #E8F0FE;\n",
              "      border: none;\n",
              "      border-radius: 50%;\n",
              "      cursor: pointer;\n",
              "      display: none;\n",
              "      fill: #1967D2;\n",
              "      height: 32px;\n",
              "      padding: 0 0 0 0;\n",
              "      width: 32px;\n",
              "    }\n",
              "\n",
              "    .colab-df-convert:hover {\n",
              "      background-color: #E2EBFA;\n",
              "      box-shadow: 0px 1px 2px rgba(60, 64, 67, 0.3), 0px 1px 3px 1px rgba(60, 64, 67, 0.15);\n",
              "      fill: #174EA6;\n",
              "    }\n",
              "\n",
              "    [theme=dark] .colab-df-convert {\n",
              "      background-color: #3B4455;\n",
              "      fill: #D2E3FC;\n",
              "    }\n",
              "\n",
              "    [theme=dark] .colab-df-convert:hover {\n",
              "      background-color: #434B5C;\n",
              "      box-shadow: 0px 1px 3px 1px rgba(0, 0, 0, 0.15);\n",
              "      filter: drop-shadow(0px 1px 2px rgba(0, 0, 0, 0.3));\n",
              "      fill: #FFFFFF;\n",
              "    }\n",
              "  </style>\n",
              "\n",
              "      <script>\n",
              "        const buttonEl =\n",
              "          document.querySelector('#df-5061601a-8d35-4fa9-94ac-ee3ce1c416ec button.colab-df-convert');\n",
              "        buttonEl.style.display =\n",
              "          google.colab.kernel.accessAllowed ? 'block' : 'none';\n",
              "\n",
              "        async function convertToInteractive(key) {\n",
              "          const element = document.querySelector('#df-5061601a-8d35-4fa9-94ac-ee3ce1c416ec');\n",
              "          const dataTable =\n",
              "            await google.colab.kernel.invokeFunction('convertToInteractive',\n",
              "                                                     [key], {});\n",
              "          if (!dataTable) return;\n",
              "\n",
              "          const docLinkHtml = 'Like what you see? Visit the ' +\n",
              "            '<a target=\"_blank\" href=https://colab.research.google.com/notebooks/data_table.ipynb>data table notebook</a>'\n",
              "            + ' to learn more about interactive tables.';\n",
              "          element.innerHTML = '';\n",
              "          dataTable['output_type'] = 'display_data';\n",
              "          await google.colab.output.renderOutput(dataTable, element);\n",
              "          const docLink = document.createElement('div');\n",
              "          docLink.innerHTML = docLinkHtml;\n",
              "          element.appendChild(docLink);\n",
              "        }\n",
              "      </script>\n",
              "    </div>\n",
              "  </div>\n",
              "  "
            ]
          },
          "metadata": {},
          "execution_count": 263
        }
      ],
      "source": [
        "# preview the dataset again\n",
        "\n",
        "df.head()"
      ]
    },
    {
      "cell_type": "markdown",
      "metadata": {
        "id": "VJOf_W9cY5Fv"
      },
      "source": [
        "Now, we can see that the `Date` variable has been removed from the dataset.\n"
      ]
    },
    {
      "cell_type": "markdown",
      "metadata": {
        "id": "db_2ShkrY5Fv"
      },
      "source": [
        "### Explore Categorical Variables\n",
        "\n",
        "\n",
        "Now, I will explore the categorical variables one by one. "
      ]
    },
    {
      "cell_type": "code",
      "execution_count": null,
      "metadata": {
        "id": "Wk0aBbVVY5Fv",
        "outputId": "0eddd839-b17e-4a72-f381-1365e059b2db",
        "colab": {
          "base_uri": "https://localhost:8080/"
        }
      },
      "outputs": [
        {
          "output_type": "stream",
          "name": "stdout",
          "text": [
            "There are 6 categorical variables\n",
            "\n",
            "The categorical variables are : ['Location', 'WindGustDir', 'WindDir9am', 'WindDir3pm', 'RainToday', 'RainTomorrow']\n"
          ]
        }
      ],
      "source": [
        "# find categorical variables\n"
      ]
    },
    {
      "cell_type": "markdown",
      "metadata": {
        "id": "DdgaSE7CY5Fv"
      },
      "source": [
        "We can see that there are 6 categorical variables in the dataset. The `Date` variable has been removed. First, I will check missing values in categorical variables."
      ]
    },
    {
      "cell_type": "code",
      "execution_count": null,
      "metadata": {
        "id": "RCAp6bagY5Fv",
        "outputId": "6bde24e1-1a59-45d1-b482-6be5abb5f7de",
        "colab": {
          "base_uri": "https://localhost:8080/"
        }
      },
      "outputs": [
        {
          "output_type": "execute_result",
          "data": {
            "text/plain": [
              "Location           0\n",
              "WindGustDir     3368\n",
              "WindDir9am      2809\n",
              "WindDir3pm       962\n",
              "RainToday        626\n",
              "RainTomorrow     620\n",
              "dtype: int64"
            ]
          },
          "metadata": {},
          "execution_count": 265
        }
      ],
      "source": [
        "# check for missing values in categorical variables \n"
      ]
    },
    {
      "cell_type": "markdown",
      "metadata": {
        "id": "LZgf3rwTY5Fw"
      },
      "source": [
        "We can see that `WindGustDir`, `WindDir9am`, `WindDir3pm`, `RainToday` variables contain missing values. I will explore these variables one by one."
      ]
    },
    {
      "cell_type": "markdown",
      "metadata": {
        "id": "BUAsTfcKY5Fw"
      },
      "source": [
        "### Explore `Location` variable"
      ]
    },
    {
      "cell_type": "code",
      "execution_count": null,
      "metadata": {
        "id": "qXB4bQ7SY5Fw",
        "outputId": "c094ab03-c8d7-4814-cf6a-20618ba49fc4",
        "colab": {
          "base_uri": "https://localhost:8080/"
        }
      },
      "outputs": [
        {
          "output_type": "stream",
          "name": "stdout",
          "text": [
            "Location contains 46 labels\n"
          ]
        }
      ],
      "source": [
        "# print number of labels in Location variable\n"
      ]
    },
    {
      "cell_type": "code",
      "execution_count": null,
      "metadata": {
        "id": "9i0BSplQY5Fw",
        "outputId": "9902ae82-6240-4cdc-9624-3197669310b8",
        "colab": {
          "base_uri": "https://localhost:8080/"
        }
      },
      "outputs": [
        {
          "output_type": "execute_result",
          "data": {
            "text/plain": [
              "array(['Hobart', 'Launceston', 'Williamtown', 'PerthAirport', 'GoldCoast',\n",
              "       'Mildura', 'Nuriootpa', 'NorahHead', 'Townsville', 'MountGambier',\n",
              "       'MelbourneAirport', 'SydneyAirport', 'Darwin', 'Newcastle',\n",
              "       'Watsonia', 'Walpole', 'CoffsHarbour', 'MountGinini', 'Sale',\n",
              "       'PearceRAAF', 'Adelaide', 'Albury', 'Richmond', 'Cairns',\n",
              "       'BadgerysCreek', 'AliceSprings', 'Bendigo', 'SalmonGums',\n",
              "       'Canberra', 'Ballarat', 'Witchcliffe', 'Woomera', 'Penrith',\n",
              "       'WaggaWagga', 'Dartmoor', 'Perth', 'Cobar', 'Sydney', 'Melbourne',\n",
              "       'NorfolkIsland', 'Tuggeranong', 'Albany', 'Moree', 'Wollongong',\n",
              "       'Portland', 'Brisbane'], dtype=object)"
            ]
          },
          "metadata": {},
          "execution_count": 267
        }
      ],
      "source": [
        "# check labels in location variable\n"
      ]
    },
    {
      "cell_type": "code",
      "execution_count": null,
      "metadata": {
        "id": "tgP552U4Y5Fw",
        "outputId": "d78fb75e-8ac3-4d1f-8560-252b08d99ad7",
        "colab": {
          "base_uri": "https://localhost:8080/"
        }
      },
      "outputs": [
        {
          "output_type": "execute_result",
          "data": {
            "text/plain": [
              "Canberra            1085\n",
              "Sydney               971\n",
              "Melbourne            904\n",
              "Perth                899\n",
              "Hobart               893\n",
              "Adelaide             887\n",
              "Brisbane             887\n",
              "Darwin               881\n",
              "Ballarat             813\n",
              "Bendigo              811\n",
              "Cairns               805\n",
              "Albany               802\n",
              "SydneyAirport        801\n",
              "NorahHead            796\n",
              "Albury               795\n",
              "Launceston           795\n",
              "Williamtown          794\n",
              "Moree                793\n",
              "MountGambier         793\n",
              "AliceSprings         792\n",
              "MountGinini          789\n",
              "BadgerysCreek        788\n",
              "Newcastle            782\n",
              "Tuggeranong          782\n",
              "Townsville           777\n",
              "GoldCoast            777\n",
              "MelbourneAirport     774\n",
              "Mildura              769\n",
              "Richmond             769\n",
              "Walpole              768\n",
              "Woomera              766\n",
              "Witchcliffe          765\n",
              "CoffsHarbour         765\n",
              "Cobar                763\n",
              "PearceRAAF           763\n",
              "Portland             763\n",
              "SalmonGums           759\n",
              "Dartmoor             757\n",
              "Nuriootpa            756\n",
              "NorfolkIsland        756\n",
              "WaggaWagga           755\n",
              "Watsonia             755\n",
              "Wollongong           752\n",
              "Penrith              750\n",
              "Sale                 746\n",
              "PerthAirport         738\n",
              "Name: Location, dtype: int64"
            ]
          },
          "metadata": {},
          "execution_count": 268
        }
      ],
      "source": [
        "# check frequency distribution of values in Location variable\n"
      ]
    },
    {
      "cell_type": "code",
      "execution_count": null,
      "metadata": {
        "id": "AY4FsNqOY5Fx",
        "outputId": "0df4313b-d9eb-4080-c3cb-9f82e0df7007",
        "colab": {
          "base_uri": "https://localhost:8080/",
          "height": 300
        }
      },
      "outputs": [
        {
          "output_type": "execute_result",
          "data": {
            "text/plain": [
              "   Albany  Albury  AliceSprings  BadgerysCreek  Ballarat  Bendigo  Brisbane  \\\n",
              "0       0       0             0              0         0        0         0   \n",
              "1       0       0             0              0         0        0         0   \n",
              "2       0       0             0              0         0        0         0   \n",
              "3       0       0             0              0         0        0         0   \n",
              "4       0       0             0              0         0        0         0   \n",
              "\n",
              "   Cairns  Canberra  Cobar  ...  SydneyAirport  Townsville  Tuggeranong  \\\n",
              "0       0         0      0  ...              0           0            0   \n",
              "1       0         0      0  ...              0           0            0   \n",
              "2       0         0      0  ...              0           0            0   \n",
              "3       0         0      0  ...              0           0            0   \n",
              "4       0         0      0  ...              0           0            0   \n",
              "\n",
              "   WaggaWagga  Walpole  Watsonia  Williamtown  Witchcliffe  Wollongong  \\\n",
              "0           0        0         0            0            0           0   \n",
              "1           0        0         0            0            0           0   \n",
              "2           0        0         0            1            0           0   \n",
              "3           0        0         0            0            0           0   \n",
              "4           0        0         0            0            0           0   \n",
              "\n",
              "   Woomera  \n",
              "0        0  \n",
              "1        0  \n",
              "2        0  \n",
              "3        0  \n",
              "4        0  \n",
              "\n",
              "[5 rows x 45 columns]"
            ],
            "text/html": [
              "\n",
              "  <div id=\"df-645b21ee-47de-4e87-b2a1-7aac35ebb4c7\">\n",
              "    <div class=\"colab-df-container\">\n",
              "      <div>\n",
              "<style scoped>\n",
              "    .dataframe tbody tr th:only-of-type {\n",
              "        vertical-align: middle;\n",
              "    }\n",
              "\n",
              "    .dataframe tbody tr th {\n",
              "        vertical-align: top;\n",
              "    }\n",
              "\n",
              "    .dataframe thead th {\n",
              "        text-align: right;\n",
              "    }\n",
              "</style>\n",
              "<table border=\"1\" class=\"dataframe\">\n",
              "  <thead>\n",
              "    <tr style=\"text-align: right;\">\n",
              "      <th></th>\n",
              "      <th>Albany</th>\n",
              "      <th>Albury</th>\n",
              "      <th>AliceSprings</th>\n",
              "      <th>BadgerysCreek</th>\n",
              "      <th>Ballarat</th>\n",
              "      <th>Bendigo</th>\n",
              "      <th>Brisbane</th>\n",
              "      <th>Cairns</th>\n",
              "      <th>Canberra</th>\n",
              "      <th>Cobar</th>\n",
              "      <th>...</th>\n",
              "      <th>SydneyAirport</th>\n",
              "      <th>Townsville</th>\n",
              "      <th>Tuggeranong</th>\n",
              "      <th>WaggaWagga</th>\n",
              "      <th>Walpole</th>\n",
              "      <th>Watsonia</th>\n",
              "      <th>Williamtown</th>\n",
              "      <th>Witchcliffe</th>\n",
              "      <th>Wollongong</th>\n",
              "      <th>Woomera</th>\n",
              "    </tr>\n",
              "  </thead>\n",
              "  <tbody>\n",
              "    <tr>\n",
              "      <th>0</th>\n",
              "      <td>0</td>\n",
              "      <td>0</td>\n",
              "      <td>0</td>\n",
              "      <td>0</td>\n",
              "      <td>0</td>\n",
              "      <td>0</td>\n",
              "      <td>0</td>\n",
              "      <td>0</td>\n",
              "      <td>0</td>\n",
              "      <td>0</td>\n",
              "      <td>...</td>\n",
              "      <td>0</td>\n",
              "      <td>0</td>\n",
              "      <td>0</td>\n",
              "      <td>0</td>\n",
              "      <td>0</td>\n",
              "      <td>0</td>\n",
              "      <td>0</td>\n",
              "      <td>0</td>\n",
              "      <td>0</td>\n",
              "      <td>0</td>\n",
              "    </tr>\n",
              "    <tr>\n",
              "      <th>1</th>\n",
              "      <td>0</td>\n",
              "      <td>0</td>\n",
              "      <td>0</td>\n",
              "      <td>0</td>\n",
              "      <td>0</td>\n",
              "      <td>0</td>\n",
              "      <td>0</td>\n",
              "      <td>0</td>\n",
              "      <td>0</td>\n",
              "      <td>0</td>\n",
              "      <td>...</td>\n",
              "      <td>0</td>\n",
              "      <td>0</td>\n",
              "      <td>0</td>\n",
              "      <td>0</td>\n",
              "      <td>0</td>\n",
              "      <td>0</td>\n",
              "      <td>0</td>\n",
              "      <td>0</td>\n",
              "      <td>0</td>\n",
              "      <td>0</td>\n",
              "    </tr>\n",
              "    <tr>\n",
              "      <th>2</th>\n",
              "      <td>0</td>\n",
              "      <td>0</td>\n",
              "      <td>0</td>\n",
              "      <td>0</td>\n",
              "      <td>0</td>\n",
              "      <td>0</td>\n",
              "      <td>0</td>\n",
              "      <td>0</td>\n",
              "      <td>0</td>\n",
              "      <td>0</td>\n",
              "      <td>...</td>\n",
              "      <td>0</td>\n",
              "      <td>0</td>\n",
              "      <td>0</td>\n",
              "      <td>0</td>\n",
              "      <td>0</td>\n",
              "      <td>0</td>\n",
              "      <td>1</td>\n",
              "      <td>0</td>\n",
              "      <td>0</td>\n",
              "      <td>0</td>\n",
              "    </tr>\n",
              "    <tr>\n",
              "      <th>3</th>\n",
              "      <td>0</td>\n",
              "      <td>0</td>\n",
              "      <td>0</td>\n",
              "      <td>0</td>\n",
              "      <td>0</td>\n",
              "      <td>0</td>\n",
              "      <td>0</td>\n",
              "      <td>0</td>\n",
              "      <td>0</td>\n",
              "      <td>0</td>\n",
              "      <td>...</td>\n",
              "      <td>0</td>\n",
              "      <td>0</td>\n",
              "      <td>0</td>\n",
              "      <td>0</td>\n",
              "      <td>0</td>\n",
              "      <td>0</td>\n",
              "      <td>0</td>\n",
              "      <td>0</td>\n",
              "      <td>0</td>\n",
              "      <td>0</td>\n",
              "    </tr>\n",
              "    <tr>\n",
              "      <th>4</th>\n",
              "      <td>0</td>\n",
              "      <td>0</td>\n",
              "      <td>0</td>\n",
              "      <td>0</td>\n",
              "      <td>0</td>\n",
              "      <td>0</td>\n",
              "      <td>0</td>\n",
              "      <td>0</td>\n",
              "      <td>0</td>\n",
              "      <td>0</td>\n",
              "      <td>...</td>\n",
              "      <td>0</td>\n",
              "      <td>0</td>\n",
              "      <td>0</td>\n",
              "      <td>0</td>\n",
              "      <td>0</td>\n",
              "      <td>0</td>\n",
              "      <td>0</td>\n",
              "      <td>0</td>\n",
              "      <td>0</td>\n",
              "      <td>0</td>\n",
              "    </tr>\n",
              "  </tbody>\n",
              "</table>\n",
              "<p>5 rows × 45 columns</p>\n",
              "</div>\n",
              "      <button class=\"colab-df-convert\" onclick=\"convertToInteractive('df-645b21ee-47de-4e87-b2a1-7aac35ebb4c7')\"\n",
              "              title=\"Convert this dataframe to an interactive table.\"\n",
              "              style=\"display:none;\">\n",
              "        \n",
              "  <svg xmlns=\"http://www.w3.org/2000/svg\" height=\"24px\"viewBox=\"0 0 24 24\"\n",
              "       width=\"24px\">\n",
              "    <path d=\"M0 0h24v24H0V0z\" fill=\"none\"/>\n",
              "    <path d=\"M18.56 5.44l.94 2.06.94-2.06 2.06-.94-2.06-.94-.94-2.06-.94 2.06-2.06.94zm-11 1L8.5 8.5l.94-2.06 2.06-.94-2.06-.94L8.5 2.5l-.94 2.06-2.06.94zm10 10l.94 2.06.94-2.06 2.06-.94-2.06-.94-.94-2.06-.94 2.06-2.06.94z\"/><path d=\"M17.41 7.96l-1.37-1.37c-.4-.4-.92-.59-1.43-.59-.52 0-1.04.2-1.43.59L10.3 9.45l-7.72 7.72c-.78.78-.78 2.05 0 2.83L4 21.41c.39.39.9.59 1.41.59.51 0 1.02-.2 1.41-.59l7.78-7.78 2.81-2.81c.8-.78.8-2.07 0-2.86zM5.41 20L4 18.59l7.72-7.72 1.47 1.35L5.41 20z\"/>\n",
              "  </svg>\n",
              "      </button>\n",
              "      \n",
              "  <style>\n",
              "    .colab-df-container {\n",
              "      display:flex;\n",
              "      flex-wrap:wrap;\n",
              "      gap: 12px;\n",
              "    }\n",
              "\n",
              "    .colab-df-convert {\n",
              "      background-color: #E8F0FE;\n",
              "      border: none;\n",
              "      border-radius: 50%;\n",
              "      cursor: pointer;\n",
              "      display: none;\n",
              "      fill: #1967D2;\n",
              "      height: 32px;\n",
              "      padding: 0 0 0 0;\n",
              "      width: 32px;\n",
              "    }\n",
              "\n",
              "    .colab-df-convert:hover {\n",
              "      background-color: #E2EBFA;\n",
              "      box-shadow: 0px 1px 2px rgba(60, 64, 67, 0.3), 0px 1px 3px 1px rgba(60, 64, 67, 0.15);\n",
              "      fill: #174EA6;\n",
              "    }\n",
              "\n",
              "    [theme=dark] .colab-df-convert {\n",
              "      background-color: #3B4455;\n",
              "      fill: #D2E3FC;\n",
              "    }\n",
              "\n",
              "    [theme=dark] .colab-df-convert:hover {\n",
              "      background-color: #434B5C;\n",
              "      box-shadow: 0px 1px 3px 1px rgba(0, 0, 0, 0.15);\n",
              "      filter: drop-shadow(0px 1px 2px rgba(0, 0, 0, 0.3));\n",
              "      fill: #FFFFFF;\n",
              "    }\n",
              "  </style>\n",
              "\n",
              "      <script>\n",
              "        const buttonEl =\n",
              "          document.querySelector('#df-645b21ee-47de-4e87-b2a1-7aac35ebb4c7 button.colab-df-convert');\n",
              "        buttonEl.style.display =\n",
              "          google.colab.kernel.accessAllowed ? 'block' : 'none';\n",
              "\n",
              "        async function convertToInteractive(key) {\n",
              "          const element = document.querySelector('#df-645b21ee-47de-4e87-b2a1-7aac35ebb4c7');\n",
              "          const dataTable =\n",
              "            await google.colab.kernel.invokeFunction('convertToInteractive',\n",
              "                                                     [key], {});\n",
              "          if (!dataTable) return;\n",
              "\n",
              "          const docLinkHtml = 'Like what you see? Visit the ' +\n",
              "            '<a target=\"_blank\" href=https://colab.research.google.com/notebooks/data_table.ipynb>data table notebook</a>'\n",
              "            + ' to learn more about interactive tables.';\n",
              "          element.innerHTML = '';\n",
              "          dataTable['output_type'] = 'display_data';\n",
              "          await google.colab.output.renderOutput(dataTable, element);\n",
              "          const docLink = document.createElement('div');\n",
              "          docLink.innerHTML = docLinkHtml;\n",
              "          element.appendChild(docLink);\n",
              "        }\n",
              "      </script>\n",
              "    </div>\n",
              "  </div>\n",
              "  "
            ]
          },
          "metadata": {},
          "execution_count": 269
        }
      ],
      "source": [
        "# let's do One Hot Encoding of Location variable\n",
        "# get k-1 dummy variables after One Hot Encoding \n",
        "# preview the dataset with head() method\n",
        "\n",
        "pd.get_dummies(df.Location, drop_first=True).head()"
      ]
    },
    {
      "cell_type": "markdown",
      "metadata": {
        "id": "hL6Qg90RY5Fx"
      },
      "source": [
        "### Explore `WindGustDir` variable"
      ]
    },
    {
      "cell_type": "code",
      "execution_count": null,
      "metadata": {
        "id": "RVc6pimxY5Fx",
        "outputId": "6b6367be-9dc5-40d9-a676-1e2b275b0fca",
        "colab": {
          "base_uri": "https://localhost:8080/"
        }
      },
      "outputs": [
        {
          "output_type": "stream",
          "name": "stdout",
          "text": [
            "WindGustDir contains 17 labels\n"
          ]
        }
      ],
      "source": [
        "# print number of labels in WindGustDir variable\n",
        "\n"
      ]
    },
    {
      "cell_type": "code",
      "execution_count": null,
      "metadata": {
        "id": "TT8gW_7UY5Fx",
        "outputId": "d09daa22-4dca-4889-83de-7fb476863802",
        "colab": {
          "base_uri": "https://localhost:8080/"
        }
      },
      "outputs": [
        {
          "output_type": "execute_result",
          "data": {
            "text/plain": [
              "array(['NW', 'SSW', 'SSE', 'SW', 'NNW', 'N', 'SE', 'E', 'S', 'WSW', 'W',\n",
              "       nan, 'NE', 'NNE', 'WNW', 'ESE', 'ENE'], dtype=object)"
            ]
          },
          "metadata": {},
          "execution_count": 271
        }
      ],
      "source": [
        "# check labels in WindGustDir variable\n",
        "\n"
      ]
    },
    {
      "cell_type": "code",
      "execution_count": null,
      "metadata": {
        "id": "b0wnTTfLY5Fy",
        "outputId": "0e4a24e1-f0dc-4bc1-8492-47c5c21c1df7",
        "colab": {
          "base_uri": "https://localhost:8080/"
        }
      },
      "outputs": [
        {
          "output_type": "execute_result",
          "data": {
            "text/plain": [
              "SE     2403\n",
              "W      2375\n",
              "SSE    2330\n",
              "N      2328\n",
              "S      2317\n",
              "SW     2272\n",
              "E      2209\n",
              "WSW    2206\n",
              "SSW    2139\n",
              "WNW    2052\n",
              "ENE    2026\n",
              "NW     1940\n",
              "ESE    1894\n",
              "NE     1769\n",
              "NNE    1663\n",
              "NNW    1590\n",
              "Name: WindGustDir, dtype: int64"
            ]
          },
          "metadata": {},
          "execution_count": 272
        }
      ],
      "source": [
        "# check frequency distribution of values in WindGustDir variable\n",
        "\n"
      ]
    },
    {
      "cell_type": "code",
      "source": [
        "#pandas.get_dummies() is used for data manipulation. \n",
        "#It converts categorical data into dummy or indicator variables.\n",
        "import pandas as pd\n",
        " \n",
        "con = pd.Series(list('abcba'))\n",
        "print(pd.get_dummies(con))"
      ],
      "metadata": {
        "colab": {
          "base_uri": "https://localhost:8080/"
        },
        "id": "X_sB-BmYf2Ed",
        "outputId": "c42995a2-656b-4126-f760-42b6d91aec2d"
      },
      "execution_count": null,
      "outputs": [
        {
          "output_type": "stream",
          "name": "stdout",
          "text": [
            "   a  b  c\n",
            "0  1  0  0\n",
            "1  0  1  0\n",
            "2  0  0  1\n",
            "3  0  1  0\n",
            "4  1  0  0\n"
          ]
        }
      ]
    },
    {
      "cell_type": "code",
      "execution_count": null,
      "metadata": {
        "id": "kpUT0J-hY5Fy",
        "outputId": "cf285a2d-9e02-44eb-cd50-aca9088c0949",
        "colab": {
          "base_uri": "https://localhost:8080/",
          "height": 206
        }
      },
      "outputs": [
        {
          "output_type": "execute_result",
          "data": {
            "text/plain": [
              "   ENE  ESE  N  NE  NNE  NNW  NW  S  SE  SSE  SSW  SW  W  WNW  WSW  NaN\n",
              "0    0    0  0   0    0    0   1  0   0    0    0   0  0    0    0    0\n",
              "1    0    0  0   0    0    0   0  0   0    0    1   0  0    0    0    0\n",
              "2    0    0  0   0    0    0   0  0   0    1    0   0  0    0    0    0\n",
              "3    0    0  0   0    0    0   0  0   0    0    0   1  0    0    0    0\n",
              "4    0    0  0   0    0    1   0  0   0    0    0   0  0    0    0    0"
            ],
            "text/html": [
              "\n",
              "  <div id=\"df-f79a868e-7454-4e92-a7c1-ef2b38e96afc\">\n",
              "    <div class=\"colab-df-container\">\n",
              "      <div>\n",
              "<style scoped>\n",
              "    .dataframe tbody tr th:only-of-type {\n",
              "        vertical-align: middle;\n",
              "    }\n",
              "\n",
              "    .dataframe tbody tr th {\n",
              "        vertical-align: top;\n",
              "    }\n",
              "\n",
              "    .dataframe thead th {\n",
              "        text-align: right;\n",
              "    }\n",
              "</style>\n",
              "<table border=\"1\" class=\"dataframe\">\n",
              "  <thead>\n",
              "    <tr style=\"text-align: right;\">\n",
              "      <th></th>\n",
              "      <th>ENE</th>\n",
              "      <th>ESE</th>\n",
              "      <th>N</th>\n",
              "      <th>NE</th>\n",
              "      <th>NNE</th>\n",
              "      <th>NNW</th>\n",
              "      <th>NW</th>\n",
              "      <th>S</th>\n",
              "      <th>SE</th>\n",
              "      <th>SSE</th>\n",
              "      <th>SSW</th>\n",
              "      <th>SW</th>\n",
              "      <th>W</th>\n",
              "      <th>WNW</th>\n",
              "      <th>WSW</th>\n",
              "      <th>NaN</th>\n",
              "    </tr>\n",
              "  </thead>\n",
              "  <tbody>\n",
              "    <tr>\n",
              "      <th>0</th>\n",
              "      <td>0</td>\n",
              "      <td>0</td>\n",
              "      <td>0</td>\n",
              "      <td>0</td>\n",
              "      <td>0</td>\n",
              "      <td>0</td>\n",
              "      <td>1</td>\n",
              "      <td>0</td>\n",
              "      <td>0</td>\n",
              "      <td>0</td>\n",
              "      <td>0</td>\n",
              "      <td>0</td>\n",
              "      <td>0</td>\n",
              "      <td>0</td>\n",
              "      <td>0</td>\n",
              "      <td>0</td>\n",
              "    </tr>\n",
              "    <tr>\n",
              "      <th>1</th>\n",
              "      <td>0</td>\n",
              "      <td>0</td>\n",
              "      <td>0</td>\n",
              "      <td>0</td>\n",
              "      <td>0</td>\n",
              "      <td>0</td>\n",
              "      <td>0</td>\n",
              "      <td>0</td>\n",
              "      <td>0</td>\n",
              "      <td>0</td>\n",
              "      <td>1</td>\n",
              "      <td>0</td>\n",
              "      <td>0</td>\n",
              "      <td>0</td>\n",
              "      <td>0</td>\n",
              "      <td>0</td>\n",
              "    </tr>\n",
              "    <tr>\n",
              "      <th>2</th>\n",
              "      <td>0</td>\n",
              "      <td>0</td>\n",
              "      <td>0</td>\n",
              "      <td>0</td>\n",
              "      <td>0</td>\n",
              "      <td>0</td>\n",
              "      <td>0</td>\n",
              "      <td>0</td>\n",
              "      <td>0</td>\n",
              "      <td>1</td>\n",
              "      <td>0</td>\n",
              "      <td>0</td>\n",
              "      <td>0</td>\n",
              "      <td>0</td>\n",
              "      <td>0</td>\n",
              "      <td>0</td>\n",
              "    </tr>\n",
              "    <tr>\n",
              "      <th>3</th>\n",
              "      <td>0</td>\n",
              "      <td>0</td>\n",
              "      <td>0</td>\n",
              "      <td>0</td>\n",
              "      <td>0</td>\n",
              "      <td>0</td>\n",
              "      <td>0</td>\n",
              "      <td>0</td>\n",
              "      <td>0</td>\n",
              "      <td>0</td>\n",
              "      <td>0</td>\n",
              "      <td>1</td>\n",
              "      <td>0</td>\n",
              "      <td>0</td>\n",
              "      <td>0</td>\n",
              "      <td>0</td>\n",
              "    </tr>\n",
              "    <tr>\n",
              "      <th>4</th>\n",
              "      <td>0</td>\n",
              "      <td>0</td>\n",
              "      <td>0</td>\n",
              "      <td>0</td>\n",
              "      <td>0</td>\n",
              "      <td>1</td>\n",
              "      <td>0</td>\n",
              "      <td>0</td>\n",
              "      <td>0</td>\n",
              "      <td>0</td>\n",
              "      <td>0</td>\n",
              "      <td>0</td>\n",
              "      <td>0</td>\n",
              "      <td>0</td>\n",
              "      <td>0</td>\n",
              "      <td>0</td>\n",
              "    </tr>\n",
              "  </tbody>\n",
              "</table>\n",
              "</div>\n",
              "      <button class=\"colab-df-convert\" onclick=\"convertToInteractive('df-f79a868e-7454-4e92-a7c1-ef2b38e96afc')\"\n",
              "              title=\"Convert this dataframe to an interactive table.\"\n",
              "              style=\"display:none;\">\n",
              "        \n",
              "  <svg xmlns=\"http://www.w3.org/2000/svg\" height=\"24px\"viewBox=\"0 0 24 24\"\n",
              "       width=\"24px\">\n",
              "    <path d=\"M0 0h24v24H0V0z\" fill=\"none\"/>\n",
              "    <path d=\"M18.56 5.44l.94 2.06.94-2.06 2.06-.94-2.06-.94-.94-2.06-.94 2.06-2.06.94zm-11 1L8.5 8.5l.94-2.06 2.06-.94-2.06-.94L8.5 2.5l-.94 2.06-2.06.94zm10 10l.94 2.06.94-2.06 2.06-.94-2.06-.94-.94-2.06-.94 2.06-2.06.94z\"/><path d=\"M17.41 7.96l-1.37-1.37c-.4-.4-.92-.59-1.43-.59-.52 0-1.04.2-1.43.59L10.3 9.45l-7.72 7.72c-.78.78-.78 2.05 0 2.83L4 21.41c.39.39.9.59 1.41.59.51 0 1.02-.2 1.41-.59l7.78-7.78 2.81-2.81c.8-.78.8-2.07 0-2.86zM5.41 20L4 18.59l7.72-7.72 1.47 1.35L5.41 20z\"/>\n",
              "  </svg>\n",
              "      </button>\n",
              "      \n",
              "  <style>\n",
              "    .colab-df-container {\n",
              "      display:flex;\n",
              "      flex-wrap:wrap;\n",
              "      gap: 12px;\n",
              "    }\n",
              "\n",
              "    .colab-df-convert {\n",
              "      background-color: #E8F0FE;\n",
              "      border: none;\n",
              "      border-radius: 50%;\n",
              "      cursor: pointer;\n",
              "      display: none;\n",
              "      fill: #1967D2;\n",
              "      height: 32px;\n",
              "      padding: 0 0 0 0;\n",
              "      width: 32px;\n",
              "    }\n",
              "\n",
              "    .colab-df-convert:hover {\n",
              "      background-color: #E2EBFA;\n",
              "      box-shadow: 0px 1px 2px rgba(60, 64, 67, 0.3), 0px 1px 3px 1px rgba(60, 64, 67, 0.15);\n",
              "      fill: #174EA6;\n",
              "    }\n",
              "\n",
              "    [theme=dark] .colab-df-convert {\n",
              "      background-color: #3B4455;\n",
              "      fill: #D2E3FC;\n",
              "    }\n",
              "\n",
              "    [theme=dark] .colab-df-convert:hover {\n",
              "      background-color: #434B5C;\n",
              "      box-shadow: 0px 1px 3px 1px rgba(0, 0, 0, 0.15);\n",
              "      filter: drop-shadow(0px 1px 2px rgba(0, 0, 0, 0.3));\n",
              "      fill: #FFFFFF;\n",
              "    }\n",
              "  </style>\n",
              "\n",
              "      <script>\n",
              "        const buttonEl =\n",
              "          document.querySelector('#df-f79a868e-7454-4e92-a7c1-ef2b38e96afc button.colab-df-convert');\n",
              "        buttonEl.style.display =\n",
              "          google.colab.kernel.accessAllowed ? 'block' : 'none';\n",
              "\n",
              "        async function convertToInteractive(key) {\n",
              "          const element = document.querySelector('#df-f79a868e-7454-4e92-a7c1-ef2b38e96afc');\n",
              "          const dataTable =\n",
              "            await google.colab.kernel.invokeFunction('convertToInteractive',\n",
              "                                                     [key], {});\n",
              "          if (!dataTable) return;\n",
              "\n",
              "          const docLinkHtml = 'Like what you see? Visit the ' +\n",
              "            '<a target=\"_blank\" href=https://colab.research.google.com/notebooks/data_table.ipynb>data table notebook</a>'\n",
              "            + ' to learn more about interactive tables.';\n",
              "          element.innerHTML = '';\n",
              "          dataTable['output_type'] = 'display_data';\n",
              "          await google.colab.output.renderOutput(dataTable, element);\n",
              "          const docLink = document.createElement('div');\n",
              "          docLink.innerHTML = docLinkHtml;\n",
              "          element.appendChild(docLink);\n",
              "        }\n",
              "      </script>\n",
              "    </div>\n",
              "  </div>\n",
              "  "
            ]
          },
          "metadata": {},
          "execution_count": 274
        }
      ],
      "source": [
        "# let's do One Hot Encoding of WindGustDir variable\n",
        "# get k-1 dummy variables after One Hot Encoding \n",
        "# also add an additional dummy variable to indicate there was missing data\n",
        "# preview the dataset with head() method\n",
        "\n"
      ]
    },
    {
      "cell_type": "code",
      "execution_count": null,
      "metadata": {
        "id": "Q_vpI54_Y5Fy",
        "outputId": "f2a079e9-a6ff-4f63-97cb-ef36258860b2",
        "colab": {
          "base_uri": "https://localhost:8080/"
        }
      },
      "outputs": [
        {
          "output_type": "execute_result",
          "data": {
            "text/plain": [
              "ENE    2026\n",
              "ESE    1894\n",
              "N      2328\n",
              "NE     1769\n",
              "NNE    1663\n",
              "NNW    1590\n",
              "NW     1940\n",
              "S      2317\n",
              "SE     2403\n",
              "SSE    2330\n",
              "SSW    2139\n",
              "SW     2272\n",
              "W      2375\n",
              "WNW    2052\n",
              "WSW    2206\n",
              "NaN    3368\n",
              "dtype: int64"
            ]
          },
          "metadata": {},
          "execution_count": 275
        }
      ],
      "source": [
        "# sum the number of 1s per boolean variable over the rows of the dataset\n",
        "# it will tell us how many observations we have for each category\n",
        "\n",
        "pd.get_dummies(df.WindGustDir, drop_first=True, dummy_na=True).sum(axis=0)"
      ]
    },
    {
      "cell_type": "markdown",
      "metadata": {
        "id": "vtJTwJBBY5Fy"
      },
      "source": [
        "We can see that there are 9330 missing values in WindGustDir variable."
      ]
    },
    {
      "cell_type": "markdown",
      "metadata": {
        "id": "5viDr84DY5Fz"
      },
      "source": [
        "### Explore `WindDir9am` variable"
      ]
    },
    {
      "cell_type": "code",
      "execution_count": null,
      "metadata": {
        "id": "5E2rya6NY5Fz",
        "outputId": "7c605f8c-041a-4cf2-8b4a-1f06694f5722",
        "colab": {
          "base_uri": "https://localhost:8080/"
        }
      },
      "outputs": [
        {
          "output_type": "stream",
          "name": "stdout",
          "text": [
            "WindDir9am contains 17 labels\n"
          ]
        }
      ],
      "source": [
        "# print number of labels in WindDir9am variable\n"
      ]
    },
    {
      "cell_type": "code",
      "execution_count": null,
      "metadata": {
        "id": "HI6d_y7uY5Fz",
        "outputId": "7755d994-af66-4535-810a-2d93a70eddc7",
        "colab": {
          "base_uri": "https://localhost:8080/"
        }
      },
      "outputs": [
        {
          "output_type": "execute_result",
          "data": {
            "text/plain": [
              "array(['WSW', 'E', 'SSE', 'WNW', 'ENE', 'ESE', 'NW', nan, 'NE', 'SE',\n",
              "       'NNW', 'N', 'W', 'NNE', 'S', 'SW', 'SSW'], dtype=object)"
            ]
          },
          "metadata": {},
          "execution_count": 277
        }
      ],
      "source": [
        "# check labels in WindDir9am variable\n",
        "\n"
      ]
    },
    {
      "cell_type": "code",
      "execution_count": null,
      "metadata": {
        "id": "LDsNq6yXY5Fz",
        "outputId": "f4e426cc-41a8-415f-e3ee-73ab4abbe5b1",
        "colab": {
          "base_uri": "https://localhost:8080/"
        }
      },
      "outputs": [
        {
          "output_type": "execute_result",
          "data": {
            "text/plain": [
              "N      2862\n",
              "SE     2421\n",
              "E      2375\n",
              "SSE    2301\n",
              "S      2233\n",
              "W      2218\n",
              "ENE    2090\n",
              "SW     2085\n",
              "NW     2077\n",
              "NNE    2059\n",
              "NNW    2017\n",
              "NE     1941\n",
              "SSW    1895\n",
              "ESE    1864\n",
              "WNW    1860\n",
              "WSW    1774\n",
              "Name: WindDir9am, dtype: int64"
            ]
          },
          "metadata": {},
          "execution_count": 278
        }
      ],
      "source": [
        "# check frequency distribution of values in WindDir9am variable\n"
      ]
    },
    {
      "cell_type": "code",
      "execution_count": null,
      "metadata": {
        "id": "kan4kb6DY5Fz",
        "outputId": "d3530354-89ad-4bcc-a956-e2a045c459e3",
        "colab": {
          "base_uri": "https://localhost:8080/",
          "height": 206
        }
      },
      "outputs": [
        {
          "output_type": "execute_result",
          "data": {
            "text/plain": [
              "   ENE  ESE  N  NE  NNE  NNW  NW  S  SE  SSE  SSW  SW  W  WNW  WSW  NaN\n",
              "0    0    0  0   0    0    0   0  0   0    0    0   0  0    0    1    0\n",
              "1    0    0  0   0    0    0   0  0   0    0    0   0  0    0    0    0\n",
              "2    0    0  0   0    0    0   0  0   0    1    0   0  0    0    0    0\n",
              "3    0    0  0   0    0    0   0  0   0    1    0   0  0    0    0    0\n",
              "4    0    0  0   0    0    0   0  0   0    0    0   0  0    1    0    0"
            ],
            "text/html": [
              "\n",
              "  <div id=\"df-5a03d740-0d7b-4b9a-8b7d-491dd81665f9\">\n",
              "    <div class=\"colab-df-container\">\n",
              "      <div>\n",
              "<style scoped>\n",
              "    .dataframe tbody tr th:only-of-type {\n",
              "        vertical-align: middle;\n",
              "    }\n",
              "\n",
              "    .dataframe tbody tr th {\n",
              "        vertical-align: top;\n",
              "    }\n",
              "\n",
              "    .dataframe thead th {\n",
              "        text-align: right;\n",
              "    }\n",
              "</style>\n",
              "<table border=\"1\" class=\"dataframe\">\n",
              "  <thead>\n",
              "    <tr style=\"text-align: right;\">\n",
              "      <th></th>\n",
              "      <th>ENE</th>\n",
              "      <th>ESE</th>\n",
              "      <th>N</th>\n",
              "      <th>NE</th>\n",
              "      <th>NNE</th>\n",
              "      <th>NNW</th>\n",
              "      <th>NW</th>\n",
              "      <th>S</th>\n",
              "      <th>SE</th>\n",
              "      <th>SSE</th>\n",
              "      <th>SSW</th>\n",
              "      <th>SW</th>\n",
              "      <th>W</th>\n",
              "      <th>WNW</th>\n",
              "      <th>WSW</th>\n",
              "      <th>NaN</th>\n",
              "    </tr>\n",
              "  </thead>\n",
              "  <tbody>\n",
              "    <tr>\n",
              "      <th>0</th>\n",
              "      <td>0</td>\n",
              "      <td>0</td>\n",
              "      <td>0</td>\n",
              "      <td>0</td>\n",
              "      <td>0</td>\n",
              "      <td>0</td>\n",
              "      <td>0</td>\n",
              "      <td>0</td>\n",
              "      <td>0</td>\n",
              "      <td>0</td>\n",
              "      <td>0</td>\n",
              "      <td>0</td>\n",
              "      <td>0</td>\n",
              "      <td>0</td>\n",
              "      <td>1</td>\n",
              "      <td>0</td>\n",
              "    </tr>\n",
              "    <tr>\n",
              "      <th>1</th>\n",
              "      <td>0</td>\n",
              "      <td>0</td>\n",
              "      <td>0</td>\n",
              "      <td>0</td>\n",
              "      <td>0</td>\n",
              "      <td>0</td>\n",
              "      <td>0</td>\n",
              "      <td>0</td>\n",
              "      <td>0</td>\n",
              "      <td>0</td>\n",
              "      <td>0</td>\n",
              "      <td>0</td>\n",
              "      <td>0</td>\n",
              "      <td>0</td>\n",
              "      <td>0</td>\n",
              "      <td>0</td>\n",
              "    </tr>\n",
              "    <tr>\n",
              "      <th>2</th>\n",
              "      <td>0</td>\n",
              "      <td>0</td>\n",
              "      <td>0</td>\n",
              "      <td>0</td>\n",
              "      <td>0</td>\n",
              "      <td>0</td>\n",
              "      <td>0</td>\n",
              "      <td>0</td>\n",
              "      <td>0</td>\n",
              "      <td>1</td>\n",
              "      <td>0</td>\n",
              "      <td>0</td>\n",
              "      <td>0</td>\n",
              "      <td>0</td>\n",
              "      <td>0</td>\n",
              "      <td>0</td>\n",
              "    </tr>\n",
              "    <tr>\n",
              "      <th>3</th>\n",
              "      <td>0</td>\n",
              "      <td>0</td>\n",
              "      <td>0</td>\n",
              "      <td>0</td>\n",
              "      <td>0</td>\n",
              "      <td>0</td>\n",
              "      <td>0</td>\n",
              "      <td>0</td>\n",
              "      <td>0</td>\n",
              "      <td>1</td>\n",
              "      <td>0</td>\n",
              "      <td>0</td>\n",
              "      <td>0</td>\n",
              "      <td>0</td>\n",
              "      <td>0</td>\n",
              "      <td>0</td>\n",
              "    </tr>\n",
              "    <tr>\n",
              "      <th>4</th>\n",
              "      <td>0</td>\n",
              "      <td>0</td>\n",
              "      <td>0</td>\n",
              "      <td>0</td>\n",
              "      <td>0</td>\n",
              "      <td>0</td>\n",
              "      <td>0</td>\n",
              "      <td>0</td>\n",
              "      <td>0</td>\n",
              "      <td>0</td>\n",
              "      <td>0</td>\n",
              "      <td>0</td>\n",
              "      <td>0</td>\n",
              "      <td>1</td>\n",
              "      <td>0</td>\n",
              "      <td>0</td>\n",
              "    </tr>\n",
              "  </tbody>\n",
              "</table>\n",
              "</div>\n",
              "      <button class=\"colab-df-convert\" onclick=\"convertToInteractive('df-5a03d740-0d7b-4b9a-8b7d-491dd81665f9')\"\n",
              "              title=\"Convert this dataframe to an interactive table.\"\n",
              "              style=\"display:none;\">\n",
              "        \n",
              "  <svg xmlns=\"http://www.w3.org/2000/svg\" height=\"24px\"viewBox=\"0 0 24 24\"\n",
              "       width=\"24px\">\n",
              "    <path d=\"M0 0h24v24H0V0z\" fill=\"none\"/>\n",
              "    <path d=\"M18.56 5.44l.94 2.06.94-2.06 2.06-.94-2.06-.94-.94-2.06-.94 2.06-2.06.94zm-11 1L8.5 8.5l.94-2.06 2.06-.94-2.06-.94L8.5 2.5l-.94 2.06-2.06.94zm10 10l.94 2.06.94-2.06 2.06-.94-2.06-.94-.94-2.06-.94 2.06-2.06.94z\"/><path d=\"M17.41 7.96l-1.37-1.37c-.4-.4-.92-.59-1.43-.59-.52 0-1.04.2-1.43.59L10.3 9.45l-7.72 7.72c-.78.78-.78 2.05 0 2.83L4 21.41c.39.39.9.59 1.41.59.51 0 1.02-.2 1.41-.59l7.78-7.78 2.81-2.81c.8-.78.8-2.07 0-2.86zM5.41 20L4 18.59l7.72-7.72 1.47 1.35L5.41 20z\"/>\n",
              "  </svg>\n",
              "      </button>\n",
              "      \n",
              "  <style>\n",
              "    .colab-df-container {\n",
              "      display:flex;\n",
              "      flex-wrap:wrap;\n",
              "      gap: 12px;\n",
              "    }\n",
              "\n",
              "    .colab-df-convert {\n",
              "      background-color: #E8F0FE;\n",
              "      border: none;\n",
              "      border-radius: 50%;\n",
              "      cursor: pointer;\n",
              "      display: none;\n",
              "      fill: #1967D2;\n",
              "      height: 32px;\n",
              "      padding: 0 0 0 0;\n",
              "      width: 32px;\n",
              "    }\n",
              "\n",
              "    .colab-df-convert:hover {\n",
              "      background-color: #E2EBFA;\n",
              "      box-shadow: 0px 1px 2px rgba(60, 64, 67, 0.3), 0px 1px 3px 1px rgba(60, 64, 67, 0.15);\n",
              "      fill: #174EA6;\n",
              "    }\n",
              "\n",
              "    [theme=dark] .colab-df-convert {\n",
              "      background-color: #3B4455;\n",
              "      fill: #D2E3FC;\n",
              "    }\n",
              "\n",
              "    [theme=dark] .colab-df-convert:hover {\n",
              "      background-color: #434B5C;\n",
              "      box-shadow: 0px 1px 3px 1px rgba(0, 0, 0, 0.15);\n",
              "      filter: drop-shadow(0px 1px 2px rgba(0, 0, 0, 0.3));\n",
              "      fill: #FFFFFF;\n",
              "    }\n",
              "  </style>\n",
              "\n",
              "      <script>\n",
              "        const buttonEl =\n",
              "          document.querySelector('#df-5a03d740-0d7b-4b9a-8b7d-491dd81665f9 button.colab-df-convert');\n",
              "        buttonEl.style.display =\n",
              "          google.colab.kernel.accessAllowed ? 'block' : 'none';\n",
              "\n",
              "        async function convertToInteractive(key) {\n",
              "          const element = document.querySelector('#df-5a03d740-0d7b-4b9a-8b7d-491dd81665f9');\n",
              "          const dataTable =\n",
              "            await google.colab.kernel.invokeFunction('convertToInteractive',\n",
              "                                                     [key], {});\n",
              "          if (!dataTable) return;\n",
              "\n",
              "          const docLinkHtml = 'Like what you see? Visit the ' +\n",
              "            '<a target=\"_blank\" href=https://colab.research.google.com/notebooks/data_table.ipynb>data table notebook</a>'\n",
              "            + ' to learn more about interactive tables.';\n",
              "          element.innerHTML = '';\n",
              "          dataTable['output_type'] = 'display_data';\n",
              "          await google.colab.output.renderOutput(dataTable, element);\n",
              "          const docLink = document.createElement('div');\n",
              "          docLink.innerHTML = docLinkHtml;\n",
              "          element.appendChild(docLink);\n",
              "        }\n",
              "      </script>\n",
              "    </div>\n",
              "  </div>\n",
              "  "
            ]
          },
          "metadata": {},
          "execution_count": 279
        }
      ],
      "source": [
        "# let's do One Hot Encoding of WindDir9am variable\n",
        "# get k-1 dummy variables after One Hot Encoding \n",
        "# also add an additional dummy variable to indicate there was missing data\n",
        "# preview the dataset with head() method\n",
        "\n"
      ]
    },
    {
      "cell_type": "code",
      "execution_count": null,
      "metadata": {
        "id": "kxu4hC5uY5F2",
        "outputId": "a7c06d9a-c2dd-452c-8be7-c6b06c83bad7",
        "colab": {
          "base_uri": "https://localhost:8080/"
        }
      },
      "outputs": [
        {
          "output_type": "execute_result",
          "data": {
            "text/plain": [
              "ENE    2090\n",
              "ESE    1864\n",
              "N      2862\n",
              "NE     1941\n",
              "NNE    2059\n",
              "NNW    2017\n",
              "NW     2077\n",
              "S      2233\n",
              "SE     2421\n",
              "SSE    2301\n",
              "SSW    1895\n",
              "SW     2085\n",
              "W      2218\n",
              "WNW    1860\n",
              "WSW    1774\n",
              "NaN    2809\n",
              "dtype: int64"
            ]
          },
          "metadata": {},
          "execution_count": 280
        }
      ],
      "source": [
        "# sum the number of 1s per boolean variable over the rows of the dataset\n",
        "# it will tell us how many observations we have for each category\n",
        "\n",
        "pd.get_dummies(df.WindDir9am, drop_first=True, dummy_na=True).sum(axis=0)"
      ]
    },
    {
      "cell_type": "markdown",
      "metadata": {
        "id": "vXHrUbnZY5F3"
      },
      "source": [
        "We can see that there are 10013 missing values in the `WindDir9am` variable."
      ]
    },
    {
      "cell_type": "markdown",
      "metadata": {
        "id": "8CKgvn8bY5F3"
      },
      "source": [
        "### Explore `WindDir3pm` variable"
      ]
    },
    {
      "cell_type": "code",
      "execution_count": null,
      "metadata": {
        "id": "uI07iXNXY5F3",
        "outputId": "395a2fef-8f2a-423e-d3d0-7dbd69d1c67a",
        "colab": {
          "base_uri": "https://localhost:8080/"
        }
      },
      "outputs": [
        {
          "output_type": "stream",
          "name": "stdout",
          "text": [
            "WindDir3pm contains 17 labels\n"
          ]
        }
      ],
      "source": [
        "# print number of labels in WindDir3pm variable\n",
        "\n"
      ]
    },
    {
      "cell_type": "code",
      "execution_count": null,
      "metadata": {
        "id": "Diq3gLsNY5F3",
        "outputId": "dfdd92ba-4bdf-47e0-888b-7630dde173ea",
        "colab": {
          "base_uri": "https://localhost:8080/"
        }
      },
      "outputs": [
        {
          "output_type": "execute_result",
          "data": {
            "text/plain": [
              "array(['SSE', 'SW', 'N', 'NNE', 'S', 'E', 'W', 'SE', 'NW', nan, 'ESE',\n",
              "       'NE', 'ENE', 'WSW', 'WNW', 'SSW', 'NNW'], dtype=object)"
            ]
          },
          "metadata": {},
          "execution_count": 282
        }
      ],
      "source": [
        "# check labels in WindDir3pm variable\n"
      ]
    },
    {
      "cell_type": "code",
      "execution_count": null,
      "metadata": {
        "id": "9SnQ1mzzY5F3",
        "outputId": "17cce076-7e29-4271-e72c-aa144afbc187",
        "colab": {
          "base_uri": "https://localhost:8080/"
        }
      },
      "outputs": [
        {
          "output_type": "execute_result",
          "data": {
            "text/plain": [
              "SE     2939\n",
              "S      2547\n",
              "W      2486\n",
              "WSW    2410\n",
              "SSE    2381\n",
              "SW     2377\n",
              "N      2278\n",
              "E      2252\n",
              "WNW    2208\n",
              "NW     2178\n",
              "ESE    2163\n",
              "NE     2136\n",
              "ENE    2063\n",
              "SSW    1994\n",
              "NNW    1860\n",
              "NNE    1647\n",
              "Name: WindDir3pm, dtype: int64"
            ]
          },
          "metadata": {},
          "execution_count": 283
        }
      ],
      "source": [
        "# check frequency distribution of values in WindDir3pm variable\n",
        "\n"
      ]
    },
    {
      "cell_type": "code",
      "execution_count": null,
      "metadata": {
        "id": "-o7zfi3dY5F4",
        "outputId": "81755eb2-5c96-4a81-f196-972457ae57b5",
        "colab": {
          "base_uri": "https://localhost:8080/",
          "height": 206
        }
      },
      "outputs": [
        {
          "output_type": "execute_result",
          "data": {
            "text/plain": [
              "   ENE  ESE  N  NE  NNE  NNW  NW  S  SE  SSE  SSW  SW  W  WNW  WSW  NaN\n",
              "0    0    0  0   0    0    0   0  0   0    1    0   0  0    0    0    0\n",
              "1    0    0  0   0    0    0   0  0   0    0    0   1  0    0    0    0\n",
              "2    0    0  0   0    0    0   0  0   0    1    0   0  0    0    0    0\n",
              "3    0    0  0   0    0    0   0  0   0    0    0   1  0    0    0    0\n",
              "4    0    0  1   0    0    0   0  0   0    0    0   0  0    0    0    0"
            ],
            "text/html": [
              "\n",
              "  <div id=\"df-9dbabe86-6368-4cc4-b950-c424d33bb0b2\">\n",
              "    <div class=\"colab-df-container\">\n",
              "      <div>\n",
              "<style scoped>\n",
              "    .dataframe tbody tr th:only-of-type {\n",
              "        vertical-align: middle;\n",
              "    }\n",
              "\n",
              "    .dataframe tbody tr th {\n",
              "        vertical-align: top;\n",
              "    }\n",
              "\n",
              "    .dataframe thead th {\n",
              "        text-align: right;\n",
              "    }\n",
              "</style>\n",
              "<table border=\"1\" class=\"dataframe\">\n",
              "  <thead>\n",
              "    <tr style=\"text-align: right;\">\n",
              "      <th></th>\n",
              "      <th>ENE</th>\n",
              "      <th>ESE</th>\n",
              "      <th>N</th>\n",
              "      <th>NE</th>\n",
              "      <th>NNE</th>\n",
              "      <th>NNW</th>\n",
              "      <th>NW</th>\n",
              "      <th>S</th>\n",
              "      <th>SE</th>\n",
              "      <th>SSE</th>\n",
              "      <th>SSW</th>\n",
              "      <th>SW</th>\n",
              "      <th>W</th>\n",
              "      <th>WNW</th>\n",
              "      <th>WSW</th>\n",
              "      <th>NaN</th>\n",
              "    </tr>\n",
              "  </thead>\n",
              "  <tbody>\n",
              "    <tr>\n",
              "      <th>0</th>\n",
              "      <td>0</td>\n",
              "      <td>0</td>\n",
              "      <td>0</td>\n",
              "      <td>0</td>\n",
              "      <td>0</td>\n",
              "      <td>0</td>\n",
              "      <td>0</td>\n",
              "      <td>0</td>\n",
              "      <td>0</td>\n",
              "      <td>1</td>\n",
              "      <td>0</td>\n",
              "      <td>0</td>\n",
              "      <td>0</td>\n",
              "      <td>0</td>\n",
              "      <td>0</td>\n",
              "      <td>0</td>\n",
              "    </tr>\n",
              "    <tr>\n",
              "      <th>1</th>\n",
              "      <td>0</td>\n",
              "      <td>0</td>\n",
              "      <td>0</td>\n",
              "      <td>0</td>\n",
              "      <td>0</td>\n",
              "      <td>0</td>\n",
              "      <td>0</td>\n",
              "      <td>0</td>\n",
              "      <td>0</td>\n",
              "      <td>0</td>\n",
              "      <td>0</td>\n",
              "      <td>1</td>\n",
              "      <td>0</td>\n",
              "      <td>0</td>\n",
              "      <td>0</td>\n",
              "      <td>0</td>\n",
              "    </tr>\n",
              "    <tr>\n",
              "      <th>2</th>\n",
              "      <td>0</td>\n",
              "      <td>0</td>\n",
              "      <td>0</td>\n",
              "      <td>0</td>\n",
              "      <td>0</td>\n",
              "      <td>0</td>\n",
              "      <td>0</td>\n",
              "      <td>0</td>\n",
              "      <td>0</td>\n",
              "      <td>1</td>\n",
              "      <td>0</td>\n",
              "      <td>0</td>\n",
              "      <td>0</td>\n",
              "      <td>0</td>\n",
              "      <td>0</td>\n",
              "      <td>0</td>\n",
              "    </tr>\n",
              "    <tr>\n",
              "      <th>3</th>\n",
              "      <td>0</td>\n",
              "      <td>0</td>\n",
              "      <td>0</td>\n",
              "      <td>0</td>\n",
              "      <td>0</td>\n",
              "      <td>0</td>\n",
              "      <td>0</td>\n",
              "      <td>0</td>\n",
              "      <td>0</td>\n",
              "      <td>0</td>\n",
              "      <td>0</td>\n",
              "      <td>1</td>\n",
              "      <td>0</td>\n",
              "      <td>0</td>\n",
              "      <td>0</td>\n",
              "      <td>0</td>\n",
              "    </tr>\n",
              "    <tr>\n",
              "      <th>4</th>\n",
              "      <td>0</td>\n",
              "      <td>0</td>\n",
              "      <td>1</td>\n",
              "      <td>0</td>\n",
              "      <td>0</td>\n",
              "      <td>0</td>\n",
              "      <td>0</td>\n",
              "      <td>0</td>\n",
              "      <td>0</td>\n",
              "      <td>0</td>\n",
              "      <td>0</td>\n",
              "      <td>0</td>\n",
              "      <td>0</td>\n",
              "      <td>0</td>\n",
              "      <td>0</td>\n",
              "      <td>0</td>\n",
              "    </tr>\n",
              "  </tbody>\n",
              "</table>\n",
              "</div>\n",
              "      <button class=\"colab-df-convert\" onclick=\"convertToInteractive('df-9dbabe86-6368-4cc4-b950-c424d33bb0b2')\"\n",
              "              title=\"Convert this dataframe to an interactive table.\"\n",
              "              style=\"display:none;\">\n",
              "        \n",
              "  <svg xmlns=\"http://www.w3.org/2000/svg\" height=\"24px\"viewBox=\"0 0 24 24\"\n",
              "       width=\"24px\">\n",
              "    <path d=\"M0 0h24v24H0V0z\" fill=\"none\"/>\n",
              "    <path d=\"M18.56 5.44l.94 2.06.94-2.06 2.06-.94-2.06-.94-.94-2.06-.94 2.06-2.06.94zm-11 1L8.5 8.5l.94-2.06 2.06-.94-2.06-.94L8.5 2.5l-.94 2.06-2.06.94zm10 10l.94 2.06.94-2.06 2.06-.94-2.06-.94-.94-2.06-.94 2.06-2.06.94z\"/><path d=\"M17.41 7.96l-1.37-1.37c-.4-.4-.92-.59-1.43-.59-.52 0-1.04.2-1.43.59L10.3 9.45l-7.72 7.72c-.78.78-.78 2.05 0 2.83L4 21.41c.39.39.9.59 1.41.59.51 0 1.02-.2 1.41-.59l7.78-7.78 2.81-2.81c.8-.78.8-2.07 0-2.86zM5.41 20L4 18.59l7.72-7.72 1.47 1.35L5.41 20z\"/>\n",
              "  </svg>\n",
              "      </button>\n",
              "      \n",
              "  <style>\n",
              "    .colab-df-container {\n",
              "      display:flex;\n",
              "      flex-wrap:wrap;\n",
              "      gap: 12px;\n",
              "    }\n",
              "\n",
              "    .colab-df-convert {\n",
              "      background-color: #E8F0FE;\n",
              "      border: none;\n",
              "      border-radius: 50%;\n",
              "      cursor: pointer;\n",
              "      display: none;\n",
              "      fill: #1967D2;\n",
              "      height: 32px;\n",
              "      padding: 0 0 0 0;\n",
              "      width: 32px;\n",
              "    }\n",
              "\n",
              "    .colab-df-convert:hover {\n",
              "      background-color: #E2EBFA;\n",
              "      box-shadow: 0px 1px 2px rgba(60, 64, 67, 0.3), 0px 1px 3px 1px rgba(60, 64, 67, 0.15);\n",
              "      fill: #174EA6;\n",
              "    }\n",
              "\n",
              "    [theme=dark] .colab-df-convert {\n",
              "      background-color: #3B4455;\n",
              "      fill: #D2E3FC;\n",
              "    }\n",
              "\n",
              "    [theme=dark] .colab-df-convert:hover {\n",
              "      background-color: #434B5C;\n",
              "      box-shadow: 0px 1px 3px 1px rgba(0, 0, 0, 0.15);\n",
              "      filter: drop-shadow(0px 1px 2px rgba(0, 0, 0, 0.3));\n",
              "      fill: #FFFFFF;\n",
              "    }\n",
              "  </style>\n",
              "\n",
              "      <script>\n",
              "        const buttonEl =\n",
              "          document.querySelector('#df-9dbabe86-6368-4cc4-b950-c424d33bb0b2 button.colab-df-convert');\n",
              "        buttonEl.style.display =\n",
              "          google.colab.kernel.accessAllowed ? 'block' : 'none';\n",
              "\n",
              "        async function convertToInteractive(key) {\n",
              "          const element = document.querySelector('#df-9dbabe86-6368-4cc4-b950-c424d33bb0b2');\n",
              "          const dataTable =\n",
              "            await google.colab.kernel.invokeFunction('convertToInteractive',\n",
              "                                                     [key], {});\n",
              "          if (!dataTable) return;\n",
              "\n",
              "          const docLinkHtml = 'Like what you see? Visit the ' +\n",
              "            '<a target=\"_blank\" href=https://colab.research.google.com/notebooks/data_table.ipynb>data table notebook</a>'\n",
              "            + ' to learn more about interactive tables.';\n",
              "          element.innerHTML = '';\n",
              "          dataTable['output_type'] = 'display_data';\n",
              "          await google.colab.output.renderOutput(dataTable, element);\n",
              "          const docLink = document.createElement('div');\n",
              "          docLink.innerHTML = docLinkHtml;\n",
              "          element.appendChild(docLink);\n",
              "        }\n",
              "      </script>\n",
              "    </div>\n",
              "  </div>\n",
              "  "
            ]
          },
          "metadata": {},
          "execution_count": 284
        }
      ],
      "source": [
        "# let's do One Hot Encoding of WindDir3pm variable\n",
        "# get k-1 dummy variables after One Hot Encoding \n",
        "# also add an additional dummy variable to indicate there was missing data\n",
        "# preview the dataset with head() method\n",
        "\n"
      ]
    },
    {
      "cell_type": "code",
      "execution_count": null,
      "metadata": {
        "id": "JpYww0MiY5F4",
        "outputId": "29b7b834-df8d-49bc-a3b1-5d7f605205e0",
        "colab": {
          "base_uri": "https://localhost:8080/"
        }
      },
      "outputs": [
        {
          "output_type": "execute_result",
          "data": {
            "text/plain": [
              "ENE    2063\n",
              "ESE    2163\n",
              "N      2278\n",
              "NE     2136\n",
              "NNE    1647\n",
              "NNW    1860\n",
              "NW     2178\n",
              "S      2547\n",
              "SE     2939\n",
              "SSE    2381\n",
              "SSW    1994\n",
              "SW     2377\n",
              "W      2486\n",
              "WNW    2208\n",
              "WSW    2410\n",
              "NaN     962\n",
              "dtype: int64"
            ]
          },
          "metadata": {},
          "execution_count": 285
        }
      ],
      "source": [
        "# sum the number of 1s per boolean variable over the rows of the dataset\n",
        "# it will tell us how many observations we have for each category\n",
        "\n"
      ]
    },
    {
      "cell_type": "markdown",
      "metadata": {
        "id": "f1iOpHY0Y5F4"
      },
      "source": [
        "There are 3778 missing values in the `WindDir3pm` variable."
      ]
    },
    {
      "cell_type": "markdown",
      "metadata": {
        "id": "dgSEvmGIY5F4"
      },
      "source": [
        "### Explore `RainToday` variable"
      ]
    },
    {
      "cell_type": "code",
      "execution_count": null,
      "metadata": {
        "id": "vIJQrBThY5F4",
        "outputId": "e68265fa-0652-454f-dc1f-3fe74240c983",
        "colab": {
          "base_uri": "https://localhost:8080/"
        }
      },
      "outputs": [
        {
          "output_type": "stream",
          "name": "stdout",
          "text": [
            "RainToday contains 3 labels\n"
          ]
        }
      ],
      "source": [
        "# print number of labels in RainToday variable\n"
      ]
    },
    {
      "cell_type": "code",
      "execution_count": null,
      "metadata": {
        "id": "IyVQp1uTY5F4",
        "outputId": "a330c453-0056-4bdf-9d57-5e7312d4ad74",
        "colab": {
          "base_uri": "https://localhost:8080/"
        }
      },
      "outputs": [
        {
          "output_type": "execute_result",
          "data": {
            "text/plain": [
              "array(['No', 'Yes', nan], dtype=object)"
            ]
          },
          "metadata": {},
          "execution_count": 287
        }
      ],
      "source": [
        "# check labels in WindGustDir variable\n",
        "\n"
      ]
    },
    {
      "cell_type": "code",
      "execution_count": null,
      "metadata": {
        "id": "1-7Km4lVY5F5",
        "outputId": "b5732e79-3978-4f1e-a2d0-f123fb1459c9",
        "colab": {
          "base_uri": "https://localhost:8080/"
        }
      },
      "outputs": [
        {
          "output_type": "execute_result",
          "data": {
            "text/plain": [
              "No     27756\n",
              "Yes     8499\n",
              "Name: RainToday, dtype: int64"
            ]
          },
          "metadata": {},
          "execution_count": 288
        }
      ],
      "source": [
        "# check frequency distribution of values in WindGustDir variable\n"
      ]
    },
    {
      "cell_type": "code",
      "execution_count": null,
      "metadata": {
        "id": "oAmJp1v_Y5F5",
        "outputId": "d848ad64-d941-44f1-9919-10d89e803e1a",
        "colab": {
          "base_uri": "https://localhost:8080/",
          "height": 206
        }
      },
      "outputs": [
        {
          "output_type": "execute_result",
          "data": {
            "text/plain": [
              "   Yes  NaN\n",
              "0    0    0\n",
              "1    0    0\n",
              "2    0    0\n",
              "3    0    0\n",
              "4    0    0"
            ],
            "text/html": [
              "\n",
              "  <div id=\"df-217621bc-8054-441a-97a9-5f64d8187d52\">\n",
              "    <div class=\"colab-df-container\">\n",
              "      <div>\n",
              "<style scoped>\n",
              "    .dataframe tbody tr th:only-of-type {\n",
              "        vertical-align: middle;\n",
              "    }\n",
              "\n",
              "    .dataframe tbody tr th {\n",
              "        vertical-align: top;\n",
              "    }\n",
              "\n",
              "    .dataframe thead th {\n",
              "        text-align: right;\n",
              "    }\n",
              "</style>\n",
              "<table border=\"1\" class=\"dataframe\">\n",
              "  <thead>\n",
              "    <tr style=\"text-align: right;\">\n",
              "      <th></th>\n",
              "      <th>Yes</th>\n",
              "      <th>NaN</th>\n",
              "    </tr>\n",
              "  </thead>\n",
              "  <tbody>\n",
              "    <tr>\n",
              "      <th>0</th>\n",
              "      <td>0</td>\n",
              "      <td>0</td>\n",
              "    </tr>\n",
              "    <tr>\n",
              "      <th>1</th>\n",
              "      <td>0</td>\n",
              "      <td>0</td>\n",
              "    </tr>\n",
              "    <tr>\n",
              "      <th>2</th>\n",
              "      <td>0</td>\n",
              "      <td>0</td>\n",
              "    </tr>\n",
              "    <tr>\n",
              "      <th>3</th>\n",
              "      <td>0</td>\n",
              "      <td>0</td>\n",
              "    </tr>\n",
              "    <tr>\n",
              "      <th>4</th>\n",
              "      <td>0</td>\n",
              "      <td>0</td>\n",
              "    </tr>\n",
              "  </tbody>\n",
              "</table>\n",
              "</div>\n",
              "      <button class=\"colab-df-convert\" onclick=\"convertToInteractive('df-217621bc-8054-441a-97a9-5f64d8187d52')\"\n",
              "              title=\"Convert this dataframe to an interactive table.\"\n",
              "              style=\"display:none;\">\n",
              "        \n",
              "  <svg xmlns=\"http://www.w3.org/2000/svg\" height=\"24px\"viewBox=\"0 0 24 24\"\n",
              "       width=\"24px\">\n",
              "    <path d=\"M0 0h24v24H0V0z\" fill=\"none\"/>\n",
              "    <path d=\"M18.56 5.44l.94 2.06.94-2.06 2.06-.94-2.06-.94-.94-2.06-.94 2.06-2.06.94zm-11 1L8.5 8.5l.94-2.06 2.06-.94-2.06-.94L8.5 2.5l-.94 2.06-2.06.94zm10 10l.94 2.06.94-2.06 2.06-.94-2.06-.94-.94-2.06-.94 2.06-2.06.94z\"/><path d=\"M17.41 7.96l-1.37-1.37c-.4-.4-.92-.59-1.43-.59-.52 0-1.04.2-1.43.59L10.3 9.45l-7.72 7.72c-.78.78-.78 2.05 0 2.83L4 21.41c.39.39.9.59 1.41.59.51 0 1.02-.2 1.41-.59l7.78-7.78 2.81-2.81c.8-.78.8-2.07 0-2.86zM5.41 20L4 18.59l7.72-7.72 1.47 1.35L5.41 20z\"/>\n",
              "  </svg>\n",
              "      </button>\n",
              "      \n",
              "  <style>\n",
              "    .colab-df-container {\n",
              "      display:flex;\n",
              "      flex-wrap:wrap;\n",
              "      gap: 12px;\n",
              "    }\n",
              "\n",
              "    .colab-df-convert {\n",
              "      background-color: #E8F0FE;\n",
              "      border: none;\n",
              "      border-radius: 50%;\n",
              "      cursor: pointer;\n",
              "      display: none;\n",
              "      fill: #1967D2;\n",
              "      height: 32px;\n",
              "      padding: 0 0 0 0;\n",
              "      width: 32px;\n",
              "    }\n",
              "\n",
              "    .colab-df-convert:hover {\n",
              "      background-color: #E2EBFA;\n",
              "      box-shadow: 0px 1px 2px rgba(60, 64, 67, 0.3), 0px 1px 3px 1px rgba(60, 64, 67, 0.15);\n",
              "      fill: #174EA6;\n",
              "    }\n",
              "\n",
              "    [theme=dark] .colab-df-convert {\n",
              "      background-color: #3B4455;\n",
              "      fill: #D2E3FC;\n",
              "    }\n",
              "\n",
              "    [theme=dark] .colab-df-convert:hover {\n",
              "      background-color: #434B5C;\n",
              "      box-shadow: 0px 1px 3px 1px rgba(0, 0, 0, 0.15);\n",
              "      filter: drop-shadow(0px 1px 2px rgba(0, 0, 0, 0.3));\n",
              "      fill: #FFFFFF;\n",
              "    }\n",
              "  </style>\n",
              "\n",
              "      <script>\n",
              "        const buttonEl =\n",
              "          document.querySelector('#df-217621bc-8054-441a-97a9-5f64d8187d52 button.colab-df-convert');\n",
              "        buttonEl.style.display =\n",
              "          google.colab.kernel.accessAllowed ? 'block' : 'none';\n",
              "\n",
              "        async function convertToInteractive(key) {\n",
              "          const element = document.querySelector('#df-217621bc-8054-441a-97a9-5f64d8187d52');\n",
              "          const dataTable =\n",
              "            await google.colab.kernel.invokeFunction('convertToInteractive',\n",
              "                                                     [key], {});\n",
              "          if (!dataTable) return;\n",
              "\n",
              "          const docLinkHtml = 'Like what you see? Visit the ' +\n",
              "            '<a target=\"_blank\" href=https://colab.research.google.com/notebooks/data_table.ipynb>data table notebook</a>'\n",
              "            + ' to learn more about interactive tables.';\n",
              "          element.innerHTML = '';\n",
              "          dataTable['output_type'] = 'display_data';\n",
              "          await google.colab.output.renderOutput(dataTable, element);\n",
              "          const docLink = document.createElement('div');\n",
              "          docLink.innerHTML = docLinkHtml;\n",
              "          element.appendChild(docLink);\n",
              "        }\n",
              "      </script>\n",
              "    </div>\n",
              "  </div>\n",
              "  "
            ]
          },
          "metadata": {},
          "execution_count": 289
        }
      ],
      "source": [
        "# let's do One Hot Encoding of RainToday variable\n",
        "# get k-1 dummy variables after One Hot Encoding \n",
        "# also add an additional dummy variable to indicate there was missing data\n",
        "# preview the dataset with head() method\n",
        "\n"
      ]
    },
    {
      "cell_type": "code",
      "execution_count": null,
      "metadata": {
        "id": "s2WmxU-NY5F5",
        "outputId": "26a33f75-db6b-4a07-fee1-10188b5fa7ae",
        "colab": {
          "base_uri": "https://localhost:8080/"
        }
      },
      "outputs": [
        {
          "output_type": "execute_result",
          "data": {
            "text/plain": [
              "Yes    8499\n",
              "NaN     626\n",
              "dtype: int64"
            ]
          },
          "metadata": {},
          "execution_count": 290
        }
      ],
      "source": [
        "# sum the number of 1s per boolean variable over the rows of the dataset\n",
        "# it will tell us how many observations we have for each category\n",
        "\n"
      ]
    },
    {
      "cell_type": "markdown",
      "metadata": {
        "id": "c2SGKqIXY5F5"
      },
      "source": [
        "There are 1406 missing values in the `RainToday` variable."
      ]
    },
    {
      "cell_type": "markdown",
      "metadata": {
        "id": "2zsBoGW-Y5F5"
      },
      "source": [
        "### Explore Numerical Variables"
      ]
    },
    {
      "cell_type": "code",
      "execution_count": null,
      "metadata": {
        "id": "VQPQvBP1Y5F5",
        "outputId": "bfdde009-db62-4811-80bd-eda1b314535b",
        "colab": {
          "base_uri": "https://localhost:8080/"
        }
      },
      "outputs": [
        {
          "output_type": "stream",
          "name": "stdout",
          "text": [
            "There are 19 numerical variables\n",
            "\n",
            "The numerical variables are : ['MinTemp', 'MaxTemp', 'Rainfall', 'Evaporation', 'Sunshine', 'WindGustSpeed', 'WindSpeed9am', 'WindSpeed3pm', 'Humidity9am', 'Humidity3pm', 'Pressure9am', 'Pressure3pm', 'Cloud9am', 'Cloud3pm', 'Temp9am', 'Temp3pm', 'Year', 'Month', 'Day']\n"
          ]
        }
      ],
      "source": [
        "# find numerical variables\n",
        "\n"
      ]
    },
    {
      "cell_type": "code",
      "execution_count": null,
      "metadata": {
        "id": "Yp2VrjC7Y5F6",
        "outputId": "b5f2f61e-c34d-4c1a-82bb-e5729598573e",
        "colab": {
          "base_uri": "https://localhost:8080/",
          "height": 270
        }
      },
      "outputs": [
        {
          "output_type": "execute_result",
          "data": {
            "text/plain": [
              "   MinTemp  MaxTemp  Rainfall  Evaporation  Sunshine  WindGustSpeed  \\\n",
              "0      5.1     14.3       0.0          1.8       8.9           30.0   \n",
              "1      1.1     14.5       0.4          NaN       NaN           50.0   \n",
              "2     19.7     26.2       0.0          7.2       7.2           41.0   \n",
              "3     16.6     28.0       0.0          9.0      11.3           54.0   \n",
              "4     14.6     25.3       0.0          NaN       NaN           43.0   \n",
              "\n",
              "   WindSpeed9am  WindSpeed3pm  Humidity9am  Humidity3pm  Pressure9am  \\\n",
              "0           7.0           6.0         65.0         47.0       1023.1   \n",
              "1           7.0          24.0         99.0         46.0       1001.5   \n",
              "2          19.0          31.0         48.0         50.0       1020.9   \n",
              "3          28.0          33.0         50.0         41.0       1018.3   \n",
              "4           6.0          28.0         64.0         67.0       1020.3   \n",
              "\n",
              "   Pressure3pm  Cloud9am  Cloud3pm  Temp9am  Temp3pm  Year  Month  Day  \n",
              "0       1022.2       1.0       1.0      9.1     13.3  2009      5   18  \n",
              "1       1002.4       NaN       NaN      1.3     13.7  2009      7    3  \n",
              "2       1021.9       6.0       4.0     22.7     24.4  2010      2   18  \n",
              "3       1014.9       6.0       1.0     20.0     26.1  2010      3    4  \n",
              "4       1015.0       NaN       NaN     22.2     22.6  2010      9    9  "
            ],
            "text/html": [
              "\n",
              "  <div id=\"df-f9c16de6-2698-461a-804d-4dcefc5b44e9\">\n",
              "    <div class=\"colab-df-container\">\n",
              "      <div>\n",
              "<style scoped>\n",
              "    .dataframe tbody tr th:only-of-type {\n",
              "        vertical-align: middle;\n",
              "    }\n",
              "\n",
              "    .dataframe tbody tr th {\n",
              "        vertical-align: top;\n",
              "    }\n",
              "\n",
              "    .dataframe thead th {\n",
              "        text-align: right;\n",
              "    }\n",
              "</style>\n",
              "<table border=\"1\" class=\"dataframe\">\n",
              "  <thead>\n",
              "    <tr style=\"text-align: right;\">\n",
              "      <th></th>\n",
              "      <th>MinTemp</th>\n",
              "      <th>MaxTemp</th>\n",
              "      <th>Rainfall</th>\n",
              "      <th>Evaporation</th>\n",
              "      <th>Sunshine</th>\n",
              "      <th>WindGustSpeed</th>\n",
              "      <th>WindSpeed9am</th>\n",
              "      <th>WindSpeed3pm</th>\n",
              "      <th>Humidity9am</th>\n",
              "      <th>Humidity3pm</th>\n",
              "      <th>Pressure9am</th>\n",
              "      <th>Pressure3pm</th>\n",
              "      <th>Cloud9am</th>\n",
              "      <th>Cloud3pm</th>\n",
              "      <th>Temp9am</th>\n",
              "      <th>Temp3pm</th>\n",
              "      <th>Year</th>\n",
              "      <th>Month</th>\n",
              "      <th>Day</th>\n",
              "    </tr>\n",
              "  </thead>\n",
              "  <tbody>\n",
              "    <tr>\n",
              "      <th>0</th>\n",
              "      <td>5.1</td>\n",
              "      <td>14.3</td>\n",
              "      <td>0.0</td>\n",
              "      <td>1.8</td>\n",
              "      <td>8.9</td>\n",
              "      <td>30.0</td>\n",
              "      <td>7.0</td>\n",
              "      <td>6.0</td>\n",
              "      <td>65.0</td>\n",
              "      <td>47.0</td>\n",
              "      <td>1023.1</td>\n",
              "      <td>1022.2</td>\n",
              "      <td>1.0</td>\n",
              "      <td>1.0</td>\n",
              "      <td>9.1</td>\n",
              "      <td>13.3</td>\n",
              "      <td>2009</td>\n",
              "      <td>5</td>\n",
              "      <td>18</td>\n",
              "    </tr>\n",
              "    <tr>\n",
              "      <th>1</th>\n",
              "      <td>1.1</td>\n",
              "      <td>14.5</td>\n",
              "      <td>0.4</td>\n",
              "      <td>NaN</td>\n",
              "      <td>NaN</td>\n",
              "      <td>50.0</td>\n",
              "      <td>7.0</td>\n",
              "      <td>24.0</td>\n",
              "      <td>99.0</td>\n",
              "      <td>46.0</td>\n",
              "      <td>1001.5</td>\n",
              "      <td>1002.4</td>\n",
              "      <td>NaN</td>\n",
              "      <td>NaN</td>\n",
              "      <td>1.3</td>\n",
              "      <td>13.7</td>\n",
              "      <td>2009</td>\n",
              "      <td>7</td>\n",
              "      <td>3</td>\n",
              "    </tr>\n",
              "    <tr>\n",
              "      <th>2</th>\n",
              "      <td>19.7</td>\n",
              "      <td>26.2</td>\n",
              "      <td>0.0</td>\n",
              "      <td>7.2</td>\n",
              "      <td>7.2</td>\n",
              "      <td>41.0</td>\n",
              "      <td>19.0</td>\n",
              "      <td>31.0</td>\n",
              "      <td>48.0</td>\n",
              "      <td>50.0</td>\n",
              "      <td>1020.9</td>\n",
              "      <td>1021.9</td>\n",
              "      <td>6.0</td>\n",
              "      <td>4.0</td>\n",
              "      <td>22.7</td>\n",
              "      <td>24.4</td>\n",
              "      <td>2010</td>\n",
              "      <td>2</td>\n",
              "      <td>18</td>\n",
              "    </tr>\n",
              "    <tr>\n",
              "      <th>3</th>\n",
              "      <td>16.6</td>\n",
              "      <td>28.0</td>\n",
              "      <td>0.0</td>\n",
              "      <td>9.0</td>\n",
              "      <td>11.3</td>\n",
              "      <td>54.0</td>\n",
              "      <td>28.0</td>\n",
              "      <td>33.0</td>\n",
              "      <td>50.0</td>\n",
              "      <td>41.0</td>\n",
              "      <td>1018.3</td>\n",
              "      <td>1014.9</td>\n",
              "      <td>6.0</td>\n",
              "      <td>1.0</td>\n",
              "      <td>20.0</td>\n",
              "      <td>26.1</td>\n",
              "      <td>2010</td>\n",
              "      <td>3</td>\n",
              "      <td>4</td>\n",
              "    </tr>\n",
              "    <tr>\n",
              "      <th>4</th>\n",
              "      <td>14.6</td>\n",
              "      <td>25.3</td>\n",
              "      <td>0.0</td>\n",
              "      <td>NaN</td>\n",
              "      <td>NaN</td>\n",
              "      <td>43.0</td>\n",
              "      <td>6.0</td>\n",
              "      <td>28.0</td>\n",
              "      <td>64.0</td>\n",
              "      <td>67.0</td>\n",
              "      <td>1020.3</td>\n",
              "      <td>1015.0</td>\n",
              "      <td>NaN</td>\n",
              "      <td>NaN</td>\n",
              "      <td>22.2</td>\n",
              "      <td>22.6</td>\n",
              "      <td>2010</td>\n",
              "      <td>9</td>\n",
              "      <td>9</td>\n",
              "    </tr>\n",
              "  </tbody>\n",
              "</table>\n",
              "</div>\n",
              "      <button class=\"colab-df-convert\" onclick=\"convertToInteractive('df-f9c16de6-2698-461a-804d-4dcefc5b44e9')\"\n",
              "              title=\"Convert this dataframe to an interactive table.\"\n",
              "              style=\"display:none;\">\n",
              "        \n",
              "  <svg xmlns=\"http://www.w3.org/2000/svg\" height=\"24px\"viewBox=\"0 0 24 24\"\n",
              "       width=\"24px\">\n",
              "    <path d=\"M0 0h24v24H0V0z\" fill=\"none\"/>\n",
              "    <path d=\"M18.56 5.44l.94 2.06.94-2.06 2.06-.94-2.06-.94-.94-2.06-.94 2.06-2.06.94zm-11 1L8.5 8.5l.94-2.06 2.06-.94-2.06-.94L8.5 2.5l-.94 2.06-2.06.94zm10 10l.94 2.06.94-2.06 2.06-.94-2.06-.94-.94-2.06-.94 2.06-2.06.94z\"/><path d=\"M17.41 7.96l-1.37-1.37c-.4-.4-.92-.59-1.43-.59-.52 0-1.04.2-1.43.59L10.3 9.45l-7.72 7.72c-.78.78-.78 2.05 0 2.83L4 21.41c.39.39.9.59 1.41.59.51 0 1.02-.2 1.41-.59l7.78-7.78 2.81-2.81c.8-.78.8-2.07 0-2.86zM5.41 20L4 18.59l7.72-7.72 1.47 1.35L5.41 20z\"/>\n",
              "  </svg>\n",
              "      </button>\n",
              "      \n",
              "  <style>\n",
              "    .colab-df-container {\n",
              "      display:flex;\n",
              "      flex-wrap:wrap;\n",
              "      gap: 12px;\n",
              "    }\n",
              "\n",
              "    .colab-df-convert {\n",
              "      background-color: #E8F0FE;\n",
              "      border: none;\n",
              "      border-radius: 50%;\n",
              "      cursor: pointer;\n",
              "      display: none;\n",
              "      fill: #1967D2;\n",
              "      height: 32px;\n",
              "      padding: 0 0 0 0;\n",
              "      width: 32px;\n",
              "    }\n",
              "\n",
              "    .colab-df-convert:hover {\n",
              "      background-color: #E2EBFA;\n",
              "      box-shadow: 0px 1px 2px rgba(60, 64, 67, 0.3), 0px 1px 3px 1px rgba(60, 64, 67, 0.15);\n",
              "      fill: #174EA6;\n",
              "    }\n",
              "\n",
              "    [theme=dark] .colab-df-convert {\n",
              "      background-color: #3B4455;\n",
              "      fill: #D2E3FC;\n",
              "    }\n",
              "\n",
              "    [theme=dark] .colab-df-convert:hover {\n",
              "      background-color: #434B5C;\n",
              "      box-shadow: 0px 1px 3px 1px rgba(0, 0, 0, 0.15);\n",
              "      filter: drop-shadow(0px 1px 2px rgba(0, 0, 0, 0.3));\n",
              "      fill: #FFFFFF;\n",
              "    }\n",
              "  </style>\n",
              "\n",
              "      <script>\n",
              "        const buttonEl =\n",
              "          document.querySelector('#df-f9c16de6-2698-461a-804d-4dcefc5b44e9 button.colab-df-convert');\n",
              "        buttonEl.style.display =\n",
              "          google.colab.kernel.accessAllowed ? 'block' : 'none';\n",
              "\n",
              "        async function convertToInteractive(key) {\n",
              "          const element = document.querySelector('#df-f9c16de6-2698-461a-804d-4dcefc5b44e9');\n",
              "          const dataTable =\n",
              "            await google.colab.kernel.invokeFunction('convertToInteractive',\n",
              "                                                     [key], {});\n",
              "          if (!dataTable) return;\n",
              "\n",
              "          const docLinkHtml = 'Like what you see? Visit the ' +\n",
              "            '<a target=\"_blank\" href=https://colab.research.google.com/notebooks/data_table.ipynb>data table notebook</a>'\n",
              "            + ' to learn more about interactive tables.';\n",
              "          element.innerHTML = '';\n",
              "          dataTable['output_type'] = 'display_data';\n",
              "          await google.colab.output.renderOutput(dataTable, element);\n",
              "          const docLink = document.createElement('div');\n",
              "          docLink.innerHTML = docLinkHtml;\n",
              "          element.appendChild(docLink);\n",
              "        }\n",
              "      </script>\n",
              "    </div>\n",
              "  </div>\n",
              "  "
            ]
          },
          "metadata": {},
          "execution_count": 292
        }
      ],
      "source": [
        "# view the numerical variables\n",
        "\n"
      ]
    },
    {
      "cell_type": "markdown",
      "metadata": {
        "id": "k_VlwFfjY5F6"
      },
      "source": [
        "### Summary of numerical variables\n",
        "\n",
        "\n",
        "- There are 16 numerical variables. \n",
        "\n",
        "\n",
        "- These are given by `MinTemp`, `MaxTemp`, `Rainfall`, `Evaporation`, `Sunshine`, `WindGustSpeed`, `WindSpeed9am`, `WindSpeed3pm`, `Humidity9am`, `Humidity3pm`, `Pressure9am`, `Pressure3pm`, `Cloud9am`, `Cloud3pm`, `Temp9am` and `Temp3pm`.\n",
        "\n",
        "\n",
        "- All of the numerical variables are of continuous type."
      ]
    },
    {
      "cell_type": "markdown",
      "metadata": {
        "id": "4hIdlGgxY5F6"
      },
      "source": [
        "## Explore problems within numerical variables\n",
        "\n",
        "\n",
        "Now, I will explore the numerical variables.\n",
        "\n",
        "\n",
        "### Missing values in numerical variables"
      ]
    },
    {
      "cell_type": "code",
      "execution_count": null,
      "metadata": {
        "id": "rXyqE9ZZY5F6",
        "outputId": "b9e4ce06-6639-4ffe-b1b1-1dfeec8217be",
        "colab": {
          "base_uri": "https://localhost:8080/"
        }
      },
      "outputs": [
        {
          "output_type": "execute_result",
          "data": {
            "text/plain": [
              "MinTemp            338\n",
              "MaxTemp            242\n",
              "Rainfall           626\n",
              "Evaporation      12846\n",
              "Sunshine         13564\n",
              "WindGustSpeed     3361\n",
              "WindSpeed9am       662\n",
              "WindSpeed3pm       646\n",
              "Humidity9am        570\n",
              "Humidity3pm        511\n",
              "Pressure9am       3572\n",
              "Pressure3pm       3552\n",
              "Cloud9am         12500\n",
              "Cloud3pm         12982\n",
              "Temp9am            487\n",
              "Temp3pm            444\n",
              "Year                 0\n",
              "Month                0\n",
              "Day                  0\n",
              "dtype: int64"
            ]
          },
          "metadata": {},
          "execution_count": 293
        }
      ],
      "source": [
        "# check missing values in numerical variables\n",
        "\n"
      ]
    },
    {
      "cell_type": "markdown",
      "metadata": {
        "id": "AAfe5FOiY5F6"
      },
      "source": [
        "We can see that all the 16 numerical variables contain missing values."
      ]
    },
    {
      "cell_type": "markdown",
      "metadata": {
        "id": "_KP-_H1RY5F6"
      },
      "source": [
        "### Outliers in numerical variables"
      ]
    },
    {
      "cell_type": "code",
      "execution_count": null,
      "metadata": {
        "id": "uTdxLHfBY5F7",
        "outputId": "3b62bf44-e4ba-4440-fc13-b95a03ca1629",
        "colab": {
          "base_uri": "https://localhost:8080/"
        }
      },
      "outputs": [
        {
          "output_type": "stream",
          "name": "stdout",
          "text": [
            "       MinTemp  MaxTemp  Rainfall  Evaporation  Sunshine  WindGustSpeed  \\\n",
            "count  36543.0  36639.0   36255.0      24035.0   23317.0        33520.0   \n",
            "mean      12.0     23.0       3.0          5.0       8.0           40.0   \n",
            "std        6.0      7.0       9.0          4.0       4.0           14.0   \n",
            "min       -8.0     -3.0       0.0          0.0       0.0            7.0   \n",
            "25%        8.0     18.0       0.0          3.0       5.0           31.0   \n",
            "50%       12.0     22.0       0.0          5.0       8.0           39.0   \n",
            "75%       17.0     28.0       1.0          7.0      11.0           48.0   \n",
            "max       30.0     48.0     371.0         81.0      14.0          135.0   \n",
            "\n",
            "       WindSpeed9am  WindSpeed3pm  Humidity9am  Humidity3pm  Pressure9am  \\\n",
            "count       36219.0       36235.0      36311.0      36370.0      33309.0   \n",
            "mean           14.0          19.0         69.0         52.0       1017.0   \n",
            "std             9.0           9.0         18.0         20.0          7.0   \n",
            "min             0.0           0.0          2.0          1.0        983.0   \n",
            "25%             7.0          13.0         58.0         38.0       1012.0   \n",
            "50%            13.0          19.0         70.0         53.0       1017.0   \n",
            "75%            20.0          24.0         83.0         66.0       1022.0   \n",
            "max            87.0          87.0        100.0        100.0       1041.0   \n",
            "\n",
            "       Pressure3pm  Cloud9am  Cloud3pm  Temp9am  Temp3pm     Year    Month  \\\n",
            "count      33329.0   24381.0   23899.0  36394.0  36437.0  36881.0  36881.0   \n",
            "mean        1015.0       4.0       4.0     17.0     21.0   2010.0      7.0   \n",
            "std            7.0       3.0       3.0      6.0      7.0      1.0      4.0   \n",
            "min          980.0       0.0       0.0     -6.0     -5.0   2007.0      1.0   \n",
            "25%         1010.0       1.0       2.0     12.0     16.0   2009.0      3.0   \n",
            "50%         1015.0       5.0       5.0     17.0     21.0   2010.0      7.0   \n",
            "75%         1020.0       7.0       7.0     22.0     26.0   2011.0     10.0   \n",
            "max         1040.0       9.0       8.0     38.0     46.0   2012.0     12.0   \n",
            "\n",
            "           Day  \n",
            "count  36881.0  \n",
            "mean      16.0  \n",
            "std        9.0  \n",
            "min        1.0  \n",
            "25%        8.0  \n",
            "50%       16.0  \n",
            "75%       23.0  \n",
            "max       31.0   2\n"
          ]
        }
      ],
      "source": [
        "# view summary statistics in numerical variables\n",
        "\n"
      ]
    },
    {
      "cell_type": "markdown",
      "metadata": {
        "id": "Fbn5IAwhY5F7"
      },
      "source": [
        "On closer inspection, we can see that the `Rainfall`, `Evaporation`, `WindSpeed9am` and `WindSpeed3pm` columns may contain outliers.\n",
        "\n",
        "\n",
        "I will draw boxplots to visualise outliers in the above variables. "
      ]
    },
    {
      "cell_type": "code",
      "execution_count": null,
      "metadata": {
        "id": "9c3VH6HPY5F7",
        "outputId": "467f71f6-3680-4fd9-97ed-68bee2535045",
        "colab": {
          "base_uri": "https://localhost:8080/",
          "height": 609
        }
      },
      "outputs": [
        {
          "output_type": "execute_result",
          "data": {
            "text/plain": [
              "Text(0, 0.5, 'WindSpeed3pm')"
            ]
          },
          "metadata": {},
          "execution_count": 295
        },
        {
          "output_type": "display_data",
          "data": {
            "text/plain": [
              "<Figure size 1080x720 with 4 Axes>"
            ],
            "image/png": "[encoded data removed]"
          },
          "metadata": {
            "needs_background": "light"
          }
        }
      ],
      "source": [
        "# draw boxplots to visualize outliers\n",
        "\n",
        "plt.figure(figsize=(15,10))\n",
        "\n",
        "\n",
        "plt.subplot(2, 2, 1)\n",
        "fig = df.boxplot(column='Rainfall')\n",
        "fig.set_title('')\n",
        "fig.set_ylabel('Rainfall')\n",
        "\n",
        "\n",
        "plt.subplot(2, 2, 2)\n",
        "fig = df.boxplot(column='Evaporation')\n",
        "fig.set_title('')\n",
        "fig.set_ylabel('Evaporation')\n",
        "\n",
        "\n",
        "plt.subplot(2, 2, 3)\n",
        "fig = df.boxplot(column='WindSpeed9am')\n",
        "fig.set_title('')\n",
        "fig.set_ylabel('WindSpeed9am')\n",
        "\n",
        "\n",
        "plt.subplot(2, 2, 4)\n",
        "fig = df.boxplot(column='WindSpeed3pm')\n",
        "fig.set_title('')\n",
        "fig.set_ylabel('WindSpeed3pm')"
      ]
    },
    {
      "cell_type": "markdown",
      "metadata": {
        "id": "7NBwnh0LY5F7"
      },
      "source": [
        "The above boxplots confirm that there are lot of outliers in these variables."
      ]
    },
    {
      "cell_type": "markdown",
      "metadata": {
        "id": "q_nFLGTQY5F7"
      },
      "source": [
        "### Check the distribution of variables\n",
        "\n",
        "\n",
        "Now, I will plot the histograms to check distributions to find out if they are normal or skewed. If the variable follows normal distribution, then I will do `Extreme Value Analysis` otherwise if they are skewed, I will find IQR (Interquantile range)."
      ]
    },
    {
      "cell_type": "code",
      "execution_count": null,
      "metadata": {
        "id": "JKOiiyQRY5F7",
        "outputId": "a2bd7f95-2ad5-4099-e573-695515255ab1",
        "colab": {
          "base_uri": "https://localhost:8080/",
          "height": 623
        }
      },
      "outputs": [
        {
          "output_type": "execute_result",
          "data": {
            "text/plain": [
              "Text(0, 0.5, 'RainTomorrow')"
            ]
          },
          "metadata": {},
          "execution_count": 296
        },
        {
          "output_type": "display_data",
          "data": {
            "text/plain": [
              "<Figure size 1080x720 with 4 Axes>"
            ],
            "image/png": "[encoded data removed]"
          },
          "metadata": {
            "needs_background": "light"
          }
        }
      ],
      "source": [
        "# plot histogram to check distribution\n",
        "\n",
        "plt.figure(figsize=(15,10))\n",
        "\n",
        "\n",
        "plt.subplot(2, 2, 1)\n",
        "fig = df.Rainfall.hist(bins=10)\n",
        "fig.set_xlabel('Rainfall')\n",
        "fig.set_ylabel('RainTomorrow')\n",
        "\n",
        "\n",
        "plt.subplot(2, 2, 2)\n",
        "fig = df.Evaporation.hist(bins=10)\n",
        "fig.set_xlabel('Evaporation')\n",
        "fig.set_ylabel('RainTomorrow')\n",
        "\n",
        "\n",
        "plt.subplot(2, 2, 3)\n",
        "fig = df.WindSpeed9am.hist(bins=10)\n",
        "fig.set_xlabel('WindSpeed9am')\n",
        "fig.set_ylabel('RainTomorrow')\n",
        "\n",
        "\n",
        "plt.subplot(2, 2, 4)\n",
        "fig = df.WindSpeed3pm.hist(bins=10)\n",
        "fig.set_xlabel('WindSpeed3pm')\n",
        "fig.set_ylabel('RainTomorrow')"
      ]
    },
    {
      "cell_type": "markdown",
      "metadata": {
        "id": "QQALWAr4Y5F8"
      },
      "source": [
        "We can see that all the four variables are skewed. So, I will use interquantile range to find outliers."
      ]
    },
    {
      "cell_type": "code",
      "execution_count": null,
      "metadata": {
        "id": "fo2ErZozY5F8",
        "outputId": "621b8f75-104c-493e-aca8-fd4303913e31",
        "colab": {
          "base_uri": "https://localhost:8080/"
        }
      },
      "outputs": [
        {
          "output_type": "stream",
          "name": "stdout",
          "text": [
            "Rainfall outliers are values < -2.4000000000000004 or > 3.2\n"
          ]
        }
      ],
      "source": [
        "# find outliers for Rainfall variable\n",
        "\n",
        "IQR = df.Rainfall.quantile(0.75) - df.Rainfall.quantile(0.25)\n",
        "Lower_fence = df.Rainfall.quantile(0.25) - (IQR * 3)\n",
        "Upper_fence = df.Rainfall.quantile(0.75) + (IQR * 3)\n",
        "print('Rainfall outliers are values < {lowerboundary} or > {upperboundary}'.format(lowerboundary=Lower_fence, upperboundary=Upper_fence))\n"
      ]
    },
    {
      "cell_type": "markdown",
      "metadata": {
        "id": "XAD3--pDY5F8"
      },
      "source": [
        "For `Rainfall`, the minimum and maximum values are 0.0 and 371.0. So, the outliers are values > 3.2."
      ]
    },
    {
      "cell_type": "code",
      "execution_count": null,
      "metadata": {
        "id": "Tnq9WLR0Y5F8",
        "outputId": "f703e207-58cd-47fe-8e5e-2d8ba8865257",
        "colab": {
          "base_uri": "https://localhost:8080/"
        }
      },
      "outputs": [
        {
          "output_type": "stream",
          "name": "stdout",
          "text": [
            "Evaporation outliers are values < -10.600000000000001 or > 20.200000000000003\n"
          ]
        }
      ],
      "source": [
        "# find outliers for Evaporation variable\n"
      ]
    },
    {
      "cell_type": "markdown",
      "metadata": {
        "id": "IffP5m65Y5F8"
      },
      "source": [
        "For `Evaporation`, the minimum and maximum values are 0.0 and 145.0. So, the outliers are values > 21.8."
      ]
    },
    {
      "cell_type": "code",
      "execution_count": null,
      "metadata": {
        "id": "tehL0-gXY5F9",
        "outputId": "6f42c01c-abcf-44fe-b51f-cf359eab557f",
        "colab": {
          "base_uri": "https://localhost:8080/"
        }
      },
      "outputs": [
        {
          "output_type": "stream",
          "name": "stdout",
          "text": [
            "WindSpeed9am outliers are values < -32.0 or > 59.0\n"
          ]
        }
      ],
      "source": [
        "# find outliers for WindSpeed9am variable\n"
      ]
    },
    {
      "cell_type": "markdown",
      "metadata": {
        "id": "O2EX6bgEY5F9"
      },
      "source": [
        "For `WindSpeed9am`, the minimum and maximum values are 0.0 and 130.0. So, the outliers are values > 55.0."
      ]
    },
    {
      "cell_type": "code",
      "execution_count": null,
      "metadata": {
        "id": "9Lj6Vh9FY5F9",
        "outputId": "3fecd97d-6dae-424d-e7d8-8f8bfcdf7f0e",
        "colab": {
          "base_uri": "https://localhost:8080/"
        }
      },
      "outputs": [
        {
          "output_type": "stream",
          "name": "stdout",
          "text": [
            "WindSpeed3pm outliers are values < -20.0 or > 57.0\n"
          ]
        }
      ],
      "source": [
        "# find outliers for WindSpeed3pm variable\n",
        "\n",
        "IQR = df.WindSpeed3pm.quantile(0.75) - df.WindSpeed3pm.quantile(0.25)\n",
        "Lower_fence = df.WindSpeed3pm.quantile(0.25) - (IQR * 3)\n",
        "Upper_fence = df.WindSpeed3pm.quantile(0.75) + (IQR * 3)\n",
        "print('WindSpeed3pm outliers are values < {lowerboundary} or > {upperboundary}'.format(lowerboundary=Lower_fence, upperboundary=Upper_fence))\n"
      ]
    },
    {
      "cell_type": "markdown",
      "metadata": {
        "id": "I0WnEuzsY5F9"
      },
      "source": [
        "For `WindSpeed3pm`, the minimum and maximum values are 0.0 and 87.0. So, the outliers are values > 57.0."
      ]
    },
    {
      "cell_type": "markdown",
      "metadata": {
        "id": "NpJiLB42Y5F9"
      },
      "source": [
        "## 8. Declare feature vector and target variable"
      ]
    },
    {
      "cell_type": "code",
      "execution_count": null,
      "metadata": {
        "id": "pFpON3NaY5F-"
      },
      "outputs": [],
      "source": [
        "X = df.drop(['RainTomorrow'], axis=1)\n",
        "\n",
        "y = df['RainTomorrow']"
      ]
    },
    {
      "cell_type": "markdown",
      "metadata": {
        "id": "5LPpiGRoY5F-"
      },
      "source": [
        "## 9. Split data into separate training and test set"
      ]
    },
    {
      "cell_type": "code",
      "execution_count": null,
      "metadata": {
        "id": "zHrq1xIdY5F-"
      },
      "outputs": [],
      "source": [
        "# split X and y into training and testing sets\n",
        "\n",
        "\n"
      ]
    },
    {
      "cell_type": "code",
      "execution_count": null,
      "metadata": {
        "id": "4Nx-U4m7Y5F-",
        "outputId": "c0892bef-0a02-4975-f070-c2df6873bba5",
        "colab": {
          "base_uri": "https://localhost:8080/"
        }
      },
      "outputs": [
        {
          "output_type": "execute_result",
          "data": {
            "text/plain": [
              "((29504, 24), (7377, 24))"
            ]
          },
          "metadata": {},
          "execution_count": 303
        }
      ],
      "source": [
        "# check the shape of X_train and X_test\n",
        "\n"
      ]
    },
    {
      "cell_type": "markdown",
      "metadata": {
        "id": "x_niy1EDY5F-"
      },
      "source": [
        "## 10. Feature Engineering\n",
        "\n",
        "\n",
        "**Feature Engineering** is the process of transforming raw data into useful features that help us to understand our model better and increase its predictive power. I will carry out feature engineering on different types of variables.\n",
        "\n",
        "\n",
        "First, I will display the categorical and numerical variables again separately."
      ]
    },
    {
      "cell_type": "code",
      "execution_count": null,
      "metadata": {
        "id": "pw6U5cVmY5F-",
        "outputId": "bde705c4-4dad-4be8-84de-ef2ddb5dac3e",
        "colab": {
          "base_uri": "https://localhost:8080/"
        }
      },
      "outputs": [
        {
          "output_type": "execute_result",
          "data": {
            "text/plain": [
              "Location          object\n",
              "MinTemp          float64\n",
              "MaxTemp          float64\n",
              "Rainfall         float64\n",
              "Evaporation      float64\n",
              "Sunshine         float64\n",
              "WindGustDir       object\n",
              "WindGustSpeed    float64\n",
              "WindDir9am        object\n",
              "WindDir3pm        object\n",
              "WindSpeed9am     float64\n",
              "WindSpeed3pm     float64\n",
              "Humidity9am      float64\n",
              "Humidity3pm      float64\n",
              "Pressure9am      float64\n",
              "Pressure3pm      float64\n",
              "Cloud9am         float64\n",
              "Cloud3pm         float64\n",
              "Temp9am          float64\n",
              "Temp3pm          float64\n",
              "RainToday         object\n",
              "Year               int64\n",
              "Month              int64\n",
              "Day                int64\n",
              "dtype: object"
            ]
          },
          "metadata": {},
          "execution_count": 304
        }
      ],
      "source": [
        "# check data types in X_train\n"
      ]
    },
    {
      "cell_type": "code",
      "execution_count": null,
      "metadata": {
        "id": "V1zbd8i-Y5F_",
        "outputId": "a3a56821-ee47-4fc6-9f55-e516528751ee",
        "colab": {
          "base_uri": "https://localhost:8080/"
        }
      },
      "outputs": [
        {
          "output_type": "execute_result",
          "data": {
            "text/plain": [
              "['Location', 'WindGustDir', 'WindDir9am', 'WindDir3pm', 'RainToday']"
            ]
          },
          "metadata": {},
          "execution_count": 305
        }
      ],
      "source": [
        "# display categorical variables\n",
        "\n",
        "categorical = [col for col in X_train.columns if X_train[col].dtypes == 'O']\n",
        "\n",
        "categorical"
      ]
    },
    {
      "cell_type": "code",
      "execution_count": null,
      "metadata": {
        "id": "dZGm2TX2Y5F_",
        "outputId": "2f0c7be1-d448-43f8-a462-0e7aa340ad13",
        "colab": {
          "base_uri": "https://localhost:8080/"
        }
      },
      "outputs": [
        {
          "output_type": "execute_result",
          "data": {
            "text/plain": [
              "['MinTemp',\n",
              " 'MaxTemp',\n",
              " 'Rainfall',\n",
              " 'Evaporation',\n",
              " 'Sunshine',\n",
              " 'WindGustSpeed',\n",
              " 'WindSpeed9am',\n",
              " 'WindSpeed3pm',\n",
              " 'Humidity9am',\n",
              " 'Humidity3pm',\n",
              " 'Pressure9am',\n",
              " 'Pressure3pm',\n",
              " 'Cloud9am',\n",
              " 'Cloud3pm',\n",
              " 'Temp9am',\n",
              " 'Temp3pm',\n",
              " 'Year',\n",
              " 'Month',\n",
              " 'Day']"
            ]
          },
          "metadata": {},
          "execution_count": 306
        }
      ],
      "source": [
        "# display numerical variables\n"
      ]
    },
    {
      "cell_type": "markdown",
      "metadata": {
        "id": "lM2Zc_uhY5F_"
      },
      "source": [
        "### Engineering missing values in numerical variables\n",
        "\n"
      ]
    },
    {
      "cell_type": "code",
      "execution_count": null,
      "metadata": {
        "id": "z5sbFthZY5F_",
        "outputId": "3a45cc89-cfc2-4ebe-d504-294b4853d9c3",
        "colab": {
          "base_uri": "https://localhost:8080/"
        }
      },
      "outputs": [
        {
          "output_type": "execute_result",
          "data": {
            "text/plain": [
              "MinTemp            269\n",
              "MaxTemp            190\n",
              "Rainfall           500\n",
              "Evaporation      10284\n",
              "Sunshine         10879\n",
              "WindGustSpeed     2676\n",
              "WindSpeed9am       524\n",
              "WindSpeed3pm       524\n",
              "Humidity9am        442\n",
              "Humidity3pm        401\n",
              "Pressure9am       2867\n",
              "Pressure3pm       2862\n",
              "Cloud9am         10026\n",
              "Cloud3pm         10408\n",
              "Temp9am            379\n",
              "Temp3pm            350\n",
              "Year                 0\n",
              "Month                0\n",
              "Day                  0\n",
              "dtype: int64"
            ]
          },
          "metadata": {},
          "execution_count": 307
        }
      ],
      "source": [
        "# check missing values in numerical variables in X_train\n"
      ]
    },
    {
      "cell_type": "code",
      "execution_count": null,
      "metadata": {
        "id": "UjkyfWeHY5F_",
        "outputId": "3392c327-15f8-42a5-9e4e-86aff13f6d93",
        "colab": {
          "base_uri": "https://localhost:8080/"
        }
      },
      "outputs": [
        {
          "output_type": "execute_result",
          "data": {
            "text/plain": [
              "MinTemp            69\n",
              "MaxTemp            52\n",
              "Rainfall          126\n",
              "Evaporation      2562\n",
              "Sunshine         2685\n",
              "WindGustSpeed     685\n",
              "WindSpeed9am      138\n",
              "WindSpeed3pm      122\n",
              "Humidity9am       128\n",
              "Humidity3pm       110\n",
              "Pressure9am       705\n",
              "Pressure3pm       690\n",
              "Cloud9am         2474\n",
              "Cloud3pm         2574\n",
              "Temp9am           108\n",
              "Temp3pm            94\n",
              "Year                0\n",
              "Month               0\n",
              "Day                 0\n",
              "dtype: int64"
            ]
          },
          "metadata": {},
          "execution_count": 308
        }
      ],
      "source": [
        "# check missing values in numerical variables in X_test\n"
      ]
    },
    {
      "cell_type": "code",
      "execution_count": null,
      "metadata": {
        "id": "_DI54ywmY5F_",
        "outputId": "62057579-38c6-4cc8-8979-fe465c5f03ea",
        "colab": {
          "base_uri": "https://localhost:8080/"
        }
      },
      "outputs": [
        {
          "output_type": "stream",
          "name": "stdout",
          "text": [
            "MinTemp 0.0091\n",
            "MaxTemp 0.0064\n",
            "Rainfall 0.0169\n",
            "Evaporation 0.3486\n",
            "Sunshine 0.3687\n",
            "WindGustSpeed 0.0907\n",
            "WindSpeed9am 0.0178\n",
            "WindSpeed3pm 0.0178\n",
            "Humidity9am 0.015\n",
            "Humidity3pm 0.0136\n",
            "Pressure9am 0.0972\n",
            "Pressure3pm 0.097\n",
            "Cloud9am 0.3398\n",
            "Cloud3pm 0.3528\n",
            "Temp9am 0.0128\n",
            "Temp3pm 0.0119\n"
          ]
        }
      ],
      "source": [
        "# print percentage of missing values in the numerical variables in training set\n",
        "\n",
        "for col in numerical:\n",
        "    if X_train[col].isnull().mean()>0:\n",
        "        print(col, round(X_train[col].isnull().mean(),4))"
      ]
    },
    {
      "cell_type": "markdown",
      "metadata": {
        "id": "zSOAcNNiY5GA"
      },
      "source": [
        "### Assumption\n",
        "\n",
        "\n",
        "I assume that the data are missing completely at random (MCAR). There are two methods which can be used to impute missing values. One is mean or median imputation and other one is random sample imputation. When there are outliers in the dataset, we should use median imputation. So, I will use median imputation because median imputation is robust to outliers.\n",
        "\n",
        "\n",
        "I will impute missing values with the appropriate statistical measures of the data, in this case median. Imputation should be done over the training set, and then propagated to the test set. It means that the statistical measures to be used to fill missing values both in train and test set, should be extracted from the train set only. This is to avoid overfitting."
      ]
    },
    {
      "cell_type": "code",
      "execution_count": null,
      "metadata": {
        "id": "YVX0qNxhY5GA"
      },
      "outputs": [],
      "source": [
        "# impute missing values in X_train and X_test with respective column median in X_train\n",
        "\n",
        "for df1 in [X_train, X_test]:\n",
        "    for col in numerical:\n",
        "        col_median=X_train[col].median()\n",
        "        df1[col].fillna(col_median, inplace=True)           \n",
        "      "
      ]
    },
    {
      "cell_type": "code",
      "execution_count": null,
      "metadata": {
        "id": "jKVrUbPxY5GA",
        "outputId": "e4bee9ae-1c03-4c55-8485-8df73b9cf713",
        "colab": {
          "base_uri": "https://localhost:8080/"
        }
      },
      "outputs": [
        {
          "output_type": "execute_result",
          "data": {
            "text/plain": [
              "MinTemp          0\n",
              "MaxTemp          0\n",
              "Rainfall         0\n",
              "Evaporation      0\n",
              "Sunshine         0\n",
              "WindGustSpeed    0\n",
              "WindSpeed9am     0\n",
              "WindSpeed3pm     0\n",
              "Humidity9am      0\n",
              "Humidity3pm      0\n",
              "Pressure9am      0\n",
              "Pressure3pm      0\n",
              "Cloud9am         0\n",
              "Cloud3pm         0\n",
              "Temp9am          0\n",
              "Temp3pm          0\n",
              "Year             0\n",
              "Month            0\n",
              "Day              0\n",
              "dtype: int64"
            ]
          },
          "metadata": {},
          "execution_count": 311
        }
      ],
      "source": [
        "# check again missing values in numerical variables in X_train\n"
      ]
    },
    {
      "cell_type": "code",
      "execution_count": null,
      "metadata": {
        "id": "QVGQpwbJY5GA",
        "outputId": "98ea2942-fe56-4198-d325-3f96c112b7dc",
        "colab": {
          "base_uri": "https://localhost:8080/"
        }
      },
      "outputs": [
        {
          "output_type": "execute_result",
          "data": {
            "text/plain": [
              "MinTemp          0\n",
              "MaxTemp          0\n",
              "Rainfall         0\n",
              "Evaporation      0\n",
              "Sunshine         0\n",
              "WindGustSpeed    0\n",
              "WindSpeed9am     0\n",
              "WindSpeed3pm     0\n",
              "Humidity9am      0\n",
              "Humidity3pm      0\n",
              "Pressure9am      0\n",
              "Pressure3pm      0\n",
              "Cloud9am         0\n",
              "Cloud3pm         0\n",
              "Temp9am          0\n",
              "Temp3pm          0\n",
              "Year             0\n",
              "Month            0\n",
              "Day              0\n",
              "dtype: int64"
            ]
          },
          "metadata": {},
          "execution_count": 312
        }
      ],
      "source": [
        "# check missing values in numerical variables in X_test\n"
      ]
    },
    {
      "cell_type": "markdown",
      "metadata": {
        "id": "eIf0NxFKY5GB"
      },
      "source": [
        "Now, we can see that there are no missing values in the numerical columns of training and test set."
      ]
    },
    {
      "cell_type": "markdown",
      "metadata": {
        "id": "GM-WjbC1Y5GB"
      },
      "source": [
        "### Engineering missing values in categorical variables"
      ]
    },
    {
      "cell_type": "code",
      "execution_count": null,
      "metadata": {
        "id": "_-QwGgxRY5GB",
        "outputId": "67abf628-4c18-4b6c-b8eb-a2e7c33e43c3",
        "colab": {
          "base_uri": "https://localhost:8080/"
        }
      },
      "outputs": [
        {
          "output_type": "execute_result",
          "data": {
            "text/plain": [
              "Location       0.000000\n",
              "WindGustDir    0.090869\n",
              "WindDir9am     0.075515\n",
              "WindDir3pm     0.026573\n",
              "RainToday      0.016947\n",
              "dtype: float64"
            ]
          },
          "metadata": {},
          "execution_count": 313
        }
      ],
      "source": [
        "# print percentage of missing values in the categorical variables in training set\n"
      ]
    },
    {
      "cell_type": "code",
      "execution_count": null,
      "metadata": {
        "id": "upk17sUvY5GB",
        "outputId": "f3e2041d-6c2d-4fe6-969d-f429cfa6912b",
        "colab": {
          "base_uri": "https://localhost:8080/"
        }
      },
      "outputs": [
        {
          "output_type": "stream",
          "name": "stdout",
          "text": [
            "WindGustDir 0.09086903470715835\n",
            "WindDir9am 0.07551518438177875\n",
            "WindDir3pm 0.026572668112798264\n",
            "RainToday 0.016946854663774404\n"
          ]
        }
      ],
      "source": [
        "# print categorical variables with missing data\n",
        "\n",
        "for col in categorical:\n",
        "    if X_train[col].isnull().mean()>0:\n",
        "        print(col, (X_train[col].isnull().mean()))"
      ]
    },
    {
      "cell_type": "code",
      "execution_count": null,
      "metadata": {
        "id": "eqs1a-F3Y5GB"
      },
      "outputs": [],
      "source": [
        "# impute missing categorical variables with most frequent value"
      ]
    },
    {
      "cell_type": "code",
      "execution_count": null,
      "metadata": {
        "id": "Anes4sn_Y5GC",
        "outputId": "4633d904-06fa-4d55-eba6-4ce52086387d",
        "colab": {
          "base_uri": "https://localhost:8080/"
        }
      },
      "outputs": [
        {
          "output_type": "execute_result",
          "data": {
            "text/plain": [
              "Location       0\n",
              "WindGustDir    0\n",
              "WindDir9am     0\n",
              "WindDir3pm     0\n",
              "RainToday      0\n",
              "dtype: int64"
            ]
          },
          "metadata": {},
          "execution_count": 316
        }
      ],
      "source": [
        "# check missing values in categorical variables in X_train"
      ]
    },
    {
      "cell_type": "code",
      "execution_count": null,
      "metadata": {
        "id": "OEcF213iY5GC",
        "outputId": "0e7aa93c-2ac3-4201-8601-e5d93251d202",
        "colab": {
          "base_uri": "https://localhost:8080/"
        }
      },
      "outputs": [
        {
          "output_type": "execute_result",
          "data": {
            "text/plain": [
              "Location       0\n",
              "WindGustDir    0\n",
              "WindDir9am     0\n",
              "WindDir3pm     0\n",
              "RainToday      0\n",
              "dtype: int64"
            ]
          },
          "metadata": {},
          "execution_count": 317
        }
      ],
      "source": [
        "# check missing values in categorical variables in X_test\n"
      ]
    },
    {
      "cell_type": "markdown",
      "metadata": {
        "id": "4zEj3plUY5GC"
      },
      "source": [
        "As a final check, I will check for missing values in X_train and X_test."
      ]
    },
    {
      "cell_type": "code",
      "execution_count": null,
      "metadata": {
        "id": "phzHiMl4Y5GC",
        "outputId": "6ccdaa9f-3c0d-426c-9635-2921b26aa30b",
        "colab": {
          "base_uri": "https://localhost:8080/"
        }
      },
      "outputs": [
        {
          "output_type": "execute_result",
          "data": {
            "text/plain": [
              "Location         0\n",
              "MinTemp          0\n",
              "MaxTemp          0\n",
              "Rainfall         0\n",
              "Evaporation      0\n",
              "Sunshine         0\n",
              "WindGustDir      0\n",
              "WindGustSpeed    0\n",
              "WindDir9am       0\n",
              "WindDir3pm       0\n",
              "WindSpeed9am     0\n",
              "WindSpeed3pm     0\n",
              "Humidity9am      0\n",
              "Humidity3pm      0\n",
              "Pressure9am      0\n",
              "Pressure3pm      0\n",
              "Cloud9am         0\n",
              "Cloud3pm         0\n",
              "Temp9am          0\n",
              "Temp3pm          0\n",
              "RainToday        0\n",
              "Year             0\n",
              "Month            0\n",
              "Day              0\n",
              "dtype: int64"
            ]
          },
          "metadata": {},
          "execution_count": 318
        }
      ],
      "source": [
        "# check missing values in X_train\n"
      ]
    },
    {
      "cell_type": "code",
      "execution_count": null,
      "metadata": {
        "id": "mhHQEEgwY5GD",
        "outputId": "e1a18b82-198f-4426-89c5-1149dafca48d",
        "colab": {
          "base_uri": "https://localhost:8080/"
        }
      },
      "outputs": [
        {
          "output_type": "execute_result",
          "data": {
            "text/plain": [
              "Location         0\n",
              "MinTemp          0\n",
              "MaxTemp          0\n",
              "Rainfall         0\n",
              "Evaporation      0\n",
              "Sunshine         0\n",
              "WindGustDir      0\n",
              "WindGustSpeed    0\n",
              "WindDir9am       0\n",
              "WindDir3pm       0\n",
              "WindSpeed9am     0\n",
              "WindSpeed3pm     0\n",
              "Humidity9am      0\n",
              "Humidity3pm      0\n",
              "Pressure9am      0\n",
              "Pressure3pm      0\n",
              "Cloud9am         0\n",
              "Cloud3pm         0\n",
              "Temp9am          0\n",
              "Temp3pm          0\n",
              "RainToday        0\n",
              "Year             0\n",
              "Month            0\n",
              "Day              0\n",
              "dtype: int64"
            ]
          },
          "metadata": {},
          "execution_count": 319
        }
      ],
      "source": [
        "# check missing values in X_test\n"
      ]
    },
    {
      "cell_type": "markdown",
      "metadata": {
        "id": "8yucEEywY5GD"
      },
      "source": [
        "We can see that there are no missing values in X_train and X_test."
      ]
    },
    {
      "cell_type": "markdown",
      "metadata": {
        "id": "sabDMPvzY5GD"
      },
      "source": [
        "### Engineering outliers in numerical variables\n",
        "\n",
        "\n",
        "We have seen that the `Rainfall`, `Evaporation`, `WindSpeed9am` and `WindSpeed3pm` columns contain outliers. I will use top-coding approach to cap maximum values and remove outliers from the above variables."
      ]
    },
    {
      "cell_type": "code",
      "execution_count": null,
      "metadata": {
        "id": "bblpui9sY5GD"
      },
      "outputs": [],
      "source": [
        "def max_value(df3, variable, top):\n",
        "    return np.where(df3[variable]>top, top, df3[variable])\n",
        "\n",
        "for df3 in [X_train, X_test]:\n",
        "    df3['Rainfall'] = max_value(df3, 'Rainfall', 3.2)\n",
        "    df3['Evaporation'] = max_value(df3, 'Evaporation', 21.8)\n",
        "    df3['WindSpeed9am'] = max_value(df3, 'WindSpeed9am', 55)\n",
        "    df3['WindSpeed3pm'] = max_value(df3, 'WindSpeed3pm', 57)"
      ]
    },
    {
      "cell_type": "code",
      "execution_count": null,
      "metadata": {
        "id": "_gGBdkoTY5GD",
        "outputId": "2006c2d0-3758-4b5e-b597-40deced8b6bb",
        "colab": {
          "base_uri": "https://localhost:8080/"
        }
      },
      "outputs": [
        {
          "output_type": "execute_result",
          "data": {
            "text/plain": [
              "(3.2, 3.2)"
            ]
          },
          "metadata": {},
          "execution_count": 321
        }
      ],
      "source": [
        "# Find xtrain  & xtest rainfall max value \n",
        "X_train.Rainfall.max(), X_test.Rainfall.max()"
      ]
    },
    {
      "cell_type": "markdown",
      "metadata": {
        "id": "wRMA-VIcY5GE"
      },
      "source": [
        "We can now see that the outliers in `Rainfall`, `Evaporation`, `WindSpeed9am` and `WindSpeed3pm` columns are capped."
      ]
    },
    {
      "cell_type": "markdown",
      "metadata": {
        "id": "xMp1SlgQY5GE"
      },
      "source": [
        "### Encode categorical variables"
      ]
    },
    {
      "cell_type": "code",
      "execution_count": null,
      "metadata": {
        "id": "VLB0aqhdY5GE",
        "outputId": "f43a48c3-062e-46f2-c473-da1e1a60c9bd",
        "colab": {
          "base_uri": "https://localhost:8080/"
        }
      },
      "outputs": [
        {
          "output_type": "execute_result",
          "data": {
            "text/plain": [
              "['Location', 'WindGustDir', 'WindDir9am', 'WindDir3pm', 'RainToday']"
            ]
          },
          "metadata": {},
          "execution_count": 326
        }
      ],
      "source": [
        "categorical"
      ]
    },
    {
      "cell_type": "code",
      "execution_count": null,
      "metadata": {
        "id": "xD7VfXOpY5GF",
        "outputId": "55784e2b-a9f7-4e90-89f9-b4d9dd3b54d0",
        "colab": {
          "base_uri": "https://localhost:8080/",
          "height": 206
        }
      },
      "outputs": [
        {
          "output_type": "execute_result",
          "data": {
            "text/plain": [
              "           Location WindGustDir WindDir9am WindDir3pm RainToday\n",
              "17784     Newcastle           W          N         SE        No\n",
              "29428     Melbourne          SW          W         SW        No\n",
              "33597        Albury         ENE         SE        ESE       Yes\n",
              "25145  AliceSprings          SE          E        ESE        No\n",
              "8107         Albury          SE         SE          S        No"
            ],
            "text/html": [
              "\n",
              "  <div id=\"df-8239595e-14f0-4318-8707-fbbdd924cfba\">\n",
              "    <div class=\"colab-df-container\">\n",
              "      <div>\n",
              "<style scoped>\n",
              "    .dataframe tbody tr th:only-of-type {\n",
              "        vertical-align: middle;\n",
              "    }\n",
              "\n",
              "    .dataframe tbody tr th {\n",
              "        vertical-align: top;\n",
              "    }\n",
              "\n",
              "    .dataframe thead th {\n",
              "        text-align: right;\n",
              "    }\n",
              "</style>\n",
              "<table border=\"1\" class=\"dataframe\">\n",
              "  <thead>\n",
              "    <tr style=\"text-align: right;\">\n",
              "      <th></th>\n",
              "      <th>Location</th>\n",
              "      <th>WindGustDir</th>\n",
              "      <th>WindDir9am</th>\n",
              "      <th>WindDir3pm</th>\n",
              "      <th>RainToday</th>\n",
              "    </tr>\n",
              "  </thead>\n",
              "  <tbody>\n",
              "    <tr>\n",
              "      <th>17784</th>\n",
              "      <td>Newcastle</td>\n",
              "      <td>W</td>\n",
              "      <td>N</td>\n",
              "      <td>SE</td>\n",
              "      <td>No</td>\n",
              "    </tr>\n",
              "    <tr>\n",
              "      <th>29428</th>\n",
              "      <td>Melbourne</td>\n",
              "      <td>SW</td>\n",
              "      <td>W</td>\n",
              "      <td>SW</td>\n",
              "      <td>No</td>\n",
              "    </tr>\n",
              "    <tr>\n",
              "      <th>33597</th>\n",
              "      <td>Albury</td>\n",
              "      <td>ENE</td>\n",
              "      <td>SE</td>\n",
              "      <td>ESE</td>\n",
              "      <td>Yes</td>\n",
              "    </tr>\n",
              "    <tr>\n",
              "      <th>25145</th>\n",
              "      <td>AliceSprings</td>\n",
              "      <td>SE</td>\n",
              "      <td>E</td>\n",
              "      <td>ESE</td>\n",
              "      <td>No</td>\n",
              "    </tr>\n",
              "    <tr>\n",
              "      <th>8107</th>\n",
              "      <td>Albury</td>\n",
              "      <td>SE</td>\n",
              "      <td>SE</td>\n",
              "      <td>S</td>\n",
              "      <td>No</td>\n",
              "    </tr>\n",
              "  </tbody>\n",
              "</table>\n",
              "</div>\n",
              "      <button class=\"colab-df-convert\" onclick=\"convertToInteractive('df-8239595e-14f0-4318-8707-fbbdd924cfba')\"\n",
              "              title=\"Convert this dataframe to an interactive table.\"\n",
              "              style=\"display:none;\">\n",
              "        \n",
              "  <svg xmlns=\"http://www.w3.org/2000/svg\" height=\"24px\"viewBox=\"0 0 24 24\"\n",
              "       width=\"24px\">\n",
              "    <path d=\"M0 0h24v24H0V0z\" fill=\"none\"/>\n",
              "    <path d=\"M18.56 5.44l.94 2.06.94-2.06 2.06-.94-2.06-.94-.94-2.06-.94 2.06-2.06.94zm-11 1L8.5 8.5l.94-2.06 2.06-.94-2.06-.94L8.5 2.5l-.94 2.06-2.06.94zm10 10l.94 2.06.94-2.06 2.06-.94-2.06-.94-.94-2.06-.94 2.06-2.06.94z\"/><path d=\"M17.41 7.96l-1.37-1.37c-.4-.4-.92-.59-1.43-.59-.52 0-1.04.2-1.43.59L10.3 9.45l-7.72 7.72c-.78.78-.78 2.05 0 2.83L4 21.41c.39.39.9.59 1.41.59.51 0 1.02-.2 1.41-.59l7.78-7.78 2.81-2.81c.8-.78.8-2.07 0-2.86zM5.41 20L4 18.59l7.72-7.72 1.47 1.35L5.41 20z\"/>\n",
              "  </svg>\n",
              "      </button>\n",
              "      \n",
              "  <style>\n",
              "    .colab-df-container {\n",
              "      display:flex;\n",
              "      flex-wrap:wrap;\n",
              "      gap: 12px;\n",
              "    }\n",
              "\n",
              "    .colab-df-convert {\n",
              "      background-color: #E8F0FE;\n",
              "      border: none;\n",
              "      border-radius: 50%;\n",
              "      cursor: pointer;\n",
              "      display: none;\n",
              "      fill: #1967D2;\n",
              "      height: 32px;\n",
              "      padding: 0 0 0 0;\n",
              "      width: 32px;\n",
              "    }\n",
              "\n",
              "    .colab-df-convert:hover {\n",
              "      background-color: #E2EBFA;\n",
              "      box-shadow: 0px 1px 2px rgba(60, 64, 67, 0.3), 0px 1px 3px 1px rgba(60, 64, 67, 0.15);\n",
              "      fill: #174EA6;\n",
              "    }\n",
              "\n",
              "    [theme=dark] .colab-df-convert {\n",
              "      background-color: #3B4455;\n",
              "      fill: #D2E3FC;\n",
              "    }\n",
              "\n",
              "    [theme=dark] .colab-df-convert:hover {\n",
              "      background-color: #434B5C;\n",
              "      box-shadow: 0px 1px 3px 1px rgba(0, 0, 0, 0.15);\n",
              "      filter: drop-shadow(0px 1px 2px rgba(0, 0, 0, 0.3));\n",
              "      fill: #FFFFFF;\n",
              "    }\n",
              "  </style>\n",
              "\n",
              "      <script>\n",
              "        const buttonEl =\n",
              "          document.querySelector('#df-8239595e-14f0-4318-8707-fbbdd924cfba button.colab-df-convert');\n",
              "        buttonEl.style.display =\n",
              "          google.colab.kernel.accessAllowed ? 'block' : 'none';\n",
              "\n",
              "        async function convertToInteractive(key) {\n",
              "          const element = document.querySelector('#df-8239595e-14f0-4318-8707-fbbdd924cfba');\n",
              "          const dataTable =\n",
              "            await google.colab.kernel.invokeFunction('convertToInteractive',\n",
              "                                                     [key], {});\n",
              "          if (!dataTable) return;\n",
              "\n",
              "          const docLinkHtml = 'Like what you see? Visit the ' +\n",
              "            '<a target=\"_blank\" href=https://colab.research.google.com/notebooks/data_table.ipynb>data table notebook</a>'\n",
              "            + ' to learn more about interactive tables.';\n",
              "          element.innerHTML = '';\n",
              "          dataTable['output_type'] = 'display_data';\n",
              "          await google.colab.output.renderOutput(dataTable, element);\n",
              "          const docLink = document.createElement('div');\n",
              "          docLink.innerHTML = docLinkHtml;\n",
              "          element.appendChild(docLink);\n",
              "        }\n",
              "      </script>\n",
              "    </div>\n",
              "  </div>\n",
              "  "
            ]
          },
          "metadata": {},
          "execution_count": 327
        }
      ],
      "source": [
        "# print all categorical data head"
      ]
    },
    {
      "cell_type": "code",
      "source": [
        "!pip install --upgrade category_encoders"
      ],
      "metadata": {
        "colab": {
          "base_uri": "https://localhost:8080/"
        },
        "id": "ekNCtoWCjd7K",
        "outputId": "0aa4df33-749c-4550-dfe7-438d5c5fe3ab"
      },
      "execution_count": null,
      "outputs": [
        {
          "output_type": "stream",
          "name": "stdout",
          "text": [
            "Requirement already satisfied: category_encoders in /usr/local/lib/python3.7/dist-packages (2.4.0)\n",
            "Requirement already satisfied: patsy>=0.5.1 in /usr/local/lib/python3.7/dist-packages (from category_encoders) (0.5.2)\n",
            "Requirement already satisfied: numpy>=1.14.0 in /usr/local/lib/python3.7/dist-packages (from category_encoders) (1.21.5)\n",
            "Requirement already satisfied: scikit-learn>=0.20.0 in /usr/local/lib/python3.7/dist-packages (from category_encoders) (1.0.2)\n",
            "Requirement already satisfied: pandas>=0.21.1 in /usr/local/lib/python3.7/dist-packages (from category_encoders) (1.3.5)\n",
            "Requirement already satisfied: statsmodels>=0.9.0 in /usr/local/lib/python3.7/dist-packages (from category_encoders) (0.10.2)\n",
            "Requirement already satisfied: scipy>=1.0.0 in /usr/local/lib/python3.7/dist-packages (from category_encoders) (1.4.1)\n",
            "Requirement already satisfied: python-dateutil>=2.7.3 in /usr/local/lib/python3.7/dist-packages (from pandas>=0.21.1->category_encoders) (2.8.2)\n",
            "Requirement already satisfied: pytz>=2017.3 in /usr/local/lib/python3.7/dist-packages (from pandas>=0.21.1->category_encoders) (2018.9)\n",
            "Requirement already satisfied: six in /usr/local/lib/python3.7/dist-packages (from patsy>=0.5.1->category_encoders) (1.15.0)\n",
            "Requirement already satisfied: threadpoolctl>=2.0.0 in /usr/local/lib/python3.7/dist-packages (from scikit-learn>=0.20.0->category_encoders) (3.1.0)\n",
            "Requirement already satisfied: joblib>=0.11 in /usr/local/lib/python3.7/dist-packages (from scikit-learn>=0.20.0->category_encoders) (1.1.0)\n"
          ]
        }
      ]
    },
    {
      "cell_type": "code",
      "execution_count": null,
      "metadata": {
        "id": "vemiW_y7Y5GF"
      },
      "outputs": [],
      "source": [
        "# encode RainToday variable\n",
        "\n",
        "import category_encoders as ce\n",
        "\n",
        "encoder = ce.BinaryEncoder(cols=['RainToday'])\n",
        "\n",
        "X_train = encoder.fit_transform(X_train)\n",
        "\n",
        "X_test = encoder.transform(X_test)"
      ]
    },
    {
      "cell_type": "code",
      "execution_count": null,
      "metadata": {
        "id": "DVSUtkpMY5GF",
        "outputId": "2000e5e4-59c9-4318-cf96-d7af5e5cf693",
        "colab": {
          "base_uri": "https://localhost:8080/",
          "height": 300
        }
      },
      "outputs": [
        {
          "output_type": "execute_result",
          "data": {
            "text/plain": [
              "           Location  MinTemp  MaxTemp  Rainfall  Evaporation  Sunshine  \\\n",
              "17784     Newcastle     17.7     25.0       0.0          4.6       8.3   \n",
              "29428     Melbourne     19.1     24.0       0.0          2.2       1.0   \n",
              "33597        Albury      3.9     13.8       1.2          4.6       8.3   \n",
              "25145  AliceSprings     17.6     33.8       0.2         15.2      10.1   \n",
              "8107         Albury      4.6     19.0       0.0          4.6       8.3   \n",
              "\n",
              "      WindGustDir  WindGustSpeed WindDir9am WindDir3pm  ...  Pressure3pm  \\\n",
              "17784           W           39.0          N         SE  ...       1015.0   \n",
              "29428          SW           30.0          W         SW  ...       1001.5   \n",
              "33597         ENE           15.0         SE        ESE  ...       1021.7   \n",
              "25145          SE           50.0          E        ESE  ...       1010.1   \n",
              "8107           SE           22.0         SE          S  ...       1025.7   \n",
              "\n",
              "       Cloud9am  Cloud3pm  Temp9am  Temp3pm  RainToday_0  RainToday_1  Year  \\\n",
              "17784       6.0       6.0     20.5     24.0            0            1  2010   \n",
              "29428       8.0       8.0     19.8     20.8            0            1  2011   \n",
              "33597       5.0       5.0      9.3     13.3            1            0  2011   \n",
              "25145       5.0       4.0     26.1     32.6            0            1  2012   \n",
              "8107        5.0       5.0     11.2     17.3            0            1  2009   \n",
              "\n",
              "       Month  Day  \n",
              "17784      3   15  \n",
              "29428      3   22  \n",
              "33597      8   15  \n",
              "25145      1   12  \n",
              "8107      10   10  \n",
              "\n",
              "[5 rows x 25 columns]"
            ],
            "text/html": [
              "\n",
              "  <div id=\"df-7aac32dd-3d53-4bdf-9e3d-ed137ea52bcf\">\n",
              "    <div class=\"colab-df-container\">\n",
              "      <div>\n",
              "<style scoped>\n",
              "    .dataframe tbody tr th:only-of-type {\n",
              "        vertical-align: middle;\n",
              "    }\n",
              "\n",
              "    .dataframe tbody tr th {\n",
              "        vertical-align: top;\n",
              "    }\n",
              "\n",
              "    .dataframe thead th {\n",
              "        text-align: right;\n",
              "    }\n",
              "</style>\n",
              "<table border=\"1\" class=\"dataframe\">\n",
              "  <thead>\n",
              "    <tr style=\"text-align: right;\">\n",
              "      <th></th>\n",
              "      <th>Location</th>\n",
              "      <th>MinTemp</th>\n",
              "      <th>MaxTemp</th>\n",
              "      <th>Rainfall</th>\n",
              "      <th>Evaporation</th>\n",
              "      <th>Sunshine</th>\n",
              "      <th>WindGustDir</th>\n",
              "      <th>WindGustSpeed</th>\n",
              "      <th>WindDir9am</th>\n",
              "      <th>WindDir3pm</th>\n",
              "      <th>...</th>\n",
              "      <th>Pressure3pm</th>\n",
              "      <th>Cloud9am</th>\n",
              "      <th>Cloud3pm</th>\n",
              "      <th>Temp9am</th>\n",
              "      <th>Temp3pm</th>\n",
              "      <th>RainToday_0</th>\n",
              "      <th>RainToday_1</th>\n",
              "      <th>Year</th>\n",
              "      <th>Month</th>\n",
              "      <th>Day</th>\n",
              "    </tr>\n",
              "  </thead>\n",
              "  <tbody>\n",
              "    <tr>\n",
              "      <th>17784</th>\n",
              "      <td>Newcastle</td>\n",
              "      <td>17.7</td>\n",
              "      <td>25.0</td>\n",
              "      <td>0.0</td>\n",
              "      <td>4.6</td>\n",
              "      <td>8.3</td>\n",
              "      <td>W</td>\n",
              "      <td>39.0</td>\n",
              "      <td>N</td>\n",
              "      <td>SE</td>\n",
              "      <td>...</td>\n",
              "      <td>1015.0</td>\n",
              "      <td>6.0</td>\n",
              "      <td>6.0</td>\n",
              "      <td>20.5</td>\n",
              "      <td>24.0</td>\n",
              "      <td>0</td>\n",
              "      <td>1</td>\n",
              "      <td>2010</td>\n",
              "      <td>3</td>\n",
              "      <td>15</td>\n",
              "    </tr>\n",
              "    <tr>\n",
              "      <th>29428</th>\n",
              "      <td>Melbourne</td>\n",
              "      <td>19.1</td>\n",
              "      <td>24.0</td>\n",
              "      <td>0.0</td>\n",
              "      <td>2.2</td>\n",
              "      <td>1.0</td>\n",
              "      <td>SW</td>\n",
              "      <td>30.0</td>\n",
              "      <td>W</td>\n",
              "      <td>SW</td>\n",
              "      <td>...</td>\n",
              "      <td>1001.5</td>\n",
              "      <td>8.0</td>\n",
              "      <td>8.0</td>\n",
              "      <td>19.8</td>\n",
              "      <td>20.8</td>\n",
              "      <td>0</td>\n",
              "      <td>1</td>\n",
              "      <td>2011</td>\n",
              "      <td>3</td>\n",
              "      <td>22</td>\n",
              "    </tr>\n",
              "    <tr>\n",
              "      <th>33597</th>\n",
              "      <td>Albury</td>\n",
              "      <td>3.9</td>\n",
              "      <td>13.8</td>\n",
              "      <td>1.2</td>\n",
              "      <td>4.6</td>\n",
              "      <td>8.3</td>\n",
              "      <td>ENE</td>\n",
              "      <td>15.0</td>\n",
              "      <td>SE</td>\n",
              "      <td>ESE</td>\n",
              "      <td>...</td>\n",
              "      <td>1021.7</td>\n",
              "      <td>5.0</td>\n",
              "      <td>5.0</td>\n",
              "      <td>9.3</td>\n",
              "      <td>13.3</td>\n",
              "      <td>1</td>\n",
              "      <td>0</td>\n",
              "      <td>2011</td>\n",
              "      <td>8</td>\n",
              "      <td>15</td>\n",
              "    </tr>\n",
              "    <tr>\n",
              "      <th>25145</th>\n",
              "      <td>AliceSprings</td>\n",
              "      <td>17.6</td>\n",
              "      <td>33.8</td>\n",
              "      <td>0.2</td>\n",
              "      <td>15.2</td>\n",
              "      <td>10.1</td>\n",
              "      <td>SE</td>\n",
              "      <td>50.0</td>\n",
              "      <td>E</td>\n",
              "      <td>ESE</td>\n",
              "      <td>...</td>\n",
              "      <td>1010.1</td>\n",
              "      <td>5.0</td>\n",
              "      <td>4.0</td>\n",
              "      <td>26.1</td>\n",
              "      <td>32.6</td>\n",
              "      <td>0</td>\n",
              "      <td>1</td>\n",
              "      <td>2012</td>\n",
              "      <td>1</td>\n",
              "      <td>12</td>\n",
              "    </tr>\n",
              "    <tr>\n",
              "      <th>8107</th>\n",
              "      <td>Albury</td>\n",
              "      <td>4.6</td>\n",
              "      <td>19.0</td>\n",
              "      <td>0.0</td>\n",
              "      <td>4.6</td>\n",
              "      <td>8.3</td>\n",
              "      <td>SE</td>\n",
              "      <td>22.0</td>\n",
              "      <td>SE</td>\n",
              "      <td>S</td>\n",
              "      <td>...</td>\n",
              "      <td>1025.7</td>\n",
              "      <td>5.0</td>\n",
              "      <td>5.0</td>\n",
              "      <td>11.2</td>\n",
              "      <td>17.3</td>\n",
              "      <td>0</td>\n",
              "      <td>1</td>\n",
              "      <td>2009</td>\n",
              "      <td>10</td>\n",
              "      <td>10</td>\n",
              "    </tr>\n",
              "  </tbody>\n",
              "</table>\n",
              "<p>5 rows × 25 columns</p>\n",
              "</div>\n",
              "      <button class=\"colab-df-convert\" onclick=\"convertToInteractive('df-7aac32dd-3d53-4bdf-9e3d-ed137ea52bcf')\"\n",
              "              title=\"Convert this dataframe to an interactive table.\"\n",
              "              style=\"display:none;\">\n",
              "        \n",
              "  <svg xmlns=\"http://www.w3.org/2000/svg\" height=\"24px\"viewBox=\"0 0 24 24\"\n",
              "       width=\"24px\">\n",
              "    <path d=\"M0 0h24v24H0V0z\" fill=\"none\"/>\n",
              "    <path d=\"M18.56 5.44l.94 2.06.94-2.06 2.06-.94-2.06-.94-.94-2.06-.94 2.06-2.06.94zm-11 1L8.5 8.5l.94-2.06 2.06-.94-2.06-.94L8.5 2.5l-.94 2.06-2.06.94zm10 10l.94 2.06.94-2.06 2.06-.94-2.06-.94-.94-2.06-.94 2.06-2.06.94z\"/><path d=\"M17.41 7.96l-1.37-1.37c-.4-.4-.92-.59-1.43-.59-.52 0-1.04.2-1.43.59L10.3 9.45l-7.72 7.72c-.78.78-.78 2.05 0 2.83L4 21.41c.39.39.9.59 1.41.59.51 0 1.02-.2 1.41-.59l7.78-7.78 2.81-2.81c.8-.78.8-2.07 0-2.86zM5.41 20L4 18.59l7.72-7.72 1.47 1.35L5.41 20z\"/>\n",
              "  </svg>\n",
              "      </button>\n",
              "      \n",
              "  <style>\n",
              "    .colab-df-container {\n",
              "      display:flex;\n",
              "      flex-wrap:wrap;\n",
              "      gap: 12px;\n",
              "    }\n",
              "\n",
              "    .colab-df-convert {\n",
              "      background-color: #E8F0FE;\n",
              "      border: none;\n",
              "      border-radius: 50%;\n",
              "      cursor: pointer;\n",
              "      display: none;\n",
              "      fill: #1967D2;\n",
              "      height: 32px;\n",
              "      padding: 0 0 0 0;\n",
              "      width: 32px;\n",
              "    }\n",
              "\n",
              "    .colab-df-convert:hover {\n",
              "      background-color: #E2EBFA;\n",
              "      box-shadow: 0px 1px 2px rgba(60, 64, 67, 0.3), 0px 1px 3px 1px rgba(60, 64, 67, 0.15);\n",
              "      fill: #174EA6;\n",
              "    }\n",
              "\n",
              "    [theme=dark] .colab-df-convert {\n",
              "      background-color: #3B4455;\n",
              "      fill: #D2E3FC;\n",
              "    }\n",
              "\n",
              "    [theme=dark] .colab-df-convert:hover {\n",
              "      background-color: #434B5C;\n",
              "      box-shadow: 0px 1px 3px 1px rgba(0, 0, 0, 0.15);\n",
              "      filter: drop-shadow(0px 1px 2px rgba(0, 0, 0, 0.3));\n",
              "      fill: #FFFFFF;\n",
              "    }\n",
              "  </style>\n",
              "\n",
              "      <script>\n",
              "        const buttonEl =\n",
              "          document.querySelector('#df-7aac32dd-3d53-4bdf-9e3d-ed137ea52bcf button.colab-df-convert');\n",
              "        buttonEl.style.display =\n",
              "          google.colab.kernel.accessAllowed ? 'block' : 'none';\n",
              "\n",
              "        async function convertToInteractive(key) {\n",
              "          const element = document.querySelector('#df-7aac32dd-3d53-4bdf-9e3d-ed137ea52bcf');\n",
              "          const dataTable =\n",
              "            await google.colab.kernel.invokeFunction('convertToInteractive',\n",
              "                                                     [key], {});\n",
              "          if (!dataTable) return;\n",
              "\n",
              "          const docLinkHtml = 'Like what you see? Visit the ' +\n",
              "            '<a target=\"_blank\" href=https://colab.research.google.com/notebooks/data_table.ipynb>data table notebook</a>'\n",
              "            + ' to learn more about interactive tables.';\n",
              "          element.innerHTML = '';\n",
              "          dataTable['output_type'] = 'display_data';\n",
              "          await google.colab.output.renderOutput(dataTable, element);\n",
              "          const docLink = document.createElement('div');\n",
              "          docLink.innerHTML = docLinkHtml;\n",
              "          element.appendChild(docLink);\n",
              "        }\n",
              "      </script>\n",
              "    </div>\n",
              "  </div>\n",
              "  "
            ]
          },
          "metadata": {},
          "execution_count": 330
        }
      ],
      "source": [
        "X_train.head()"
      ]
    },
    {
      "cell_type": "markdown",
      "metadata": {
        "id": "2kx9xyqvY5GF"
      },
      "source": [
        "We can see that two additional variables `RainToday_0` and `RainToday_1` are created from `RainToday` variable.\n",
        "\n",
        "Now, I will create the `X_train` training set."
      ]
    },
    {
      "cell_type": "code",
      "execution_count": null,
      "metadata": {
        "id": "VGeXV42LY5GF"
      },
      "outputs": [],
      "source": [
        "X_train = pd.concat([X_train[numerical], X_train[['RainToday_0', 'RainToday_1']],\n",
        "                     pd.get_dummies(X_train.Location), \n",
        "                     pd.get_dummies(X_train.WindGustDir),\n",
        "                     pd.get_dummies(X_train.WindDir9am),\n",
        "                     pd.get_dummies(X_train.WindDir3pm)], axis=1)"
      ]
    },
    {
      "cell_type": "code",
      "execution_count": null,
      "metadata": {
        "id": "kO3jb_K7Y5GF",
        "outputId": "c23ea9ed-eaca-4ce9-b5be-7934d457e87a",
        "colab": {
          "base_uri": "https://localhost:8080/",
          "height": 300
        }
      },
      "outputs": [
        {
          "output_type": "execute_result",
          "data": {
            "text/plain": [
              "       MinTemp  MaxTemp  Rainfall  Evaporation  Sunshine  WindGustSpeed  \\\n",
              "17784     17.7     25.0       0.0          4.6       8.3           39.0   \n",
              "29428     19.1     24.0       0.0          2.2       1.0           30.0   \n",
              "33597      3.9     13.8       1.2          4.6       8.3           15.0   \n",
              "25145     17.6     33.8       0.2         15.2      10.1           50.0   \n",
              "8107       4.6     19.0       0.0          4.6       8.3           22.0   \n",
              "\n",
              "       WindSpeed9am  WindSpeed3pm  Humidity9am  Humidity3pm  ...  NNW  NW  S  \\\n",
              "17784           0.0           4.0         81.0         65.0  ...    0   0  0   \n",
              "29428           7.0          15.0         86.0         79.0  ...    0   0  0   \n",
              "33597           6.0           7.0         86.0         73.0  ...    0   0  0   \n",
              "25145          31.0          24.0         16.0         10.0  ...    0   0  0   \n",
              "8107           17.0           9.0         55.0         36.0  ...    0   0  1   \n",
              "\n",
              "       SE  SSE  SSW  SW  W  WNW  WSW  \n",
              "17784   1    0    0   0  0    0    0  \n",
              "29428   0    0    0   1  0    0    0  \n",
              "33597   0    0    0   0  0    0    0  \n",
              "25145   0    0    0   0  0    0    0  \n",
              "8107    0    0    0   0  0    0    0  \n",
              "\n",
              "[5 rows x 115 columns]"
            ],
            "text/html": [
              "\n",
              "  <div id=\"df-4c5b4e0a-e996-4aeb-95d2-3f8e861f58de\">\n",
              "    <div class=\"colab-df-container\">\n",
              "      <div>\n",
              "<style scoped>\n",
              "    .dataframe tbody tr th:only-of-type {\n",
              "        vertical-align: middle;\n",
              "    }\n",
              "\n",
              "    .dataframe tbody tr th {\n",
              "        vertical-align: top;\n",
              "    }\n",
              "\n",
              "    .dataframe thead th {\n",
              "        text-align: right;\n",
              "    }\n",
              "</style>\n",
              "<table border=\"1\" class=\"dataframe\">\n",
              "  <thead>\n",
              "    <tr style=\"text-align: right;\">\n",
              "      <th></th>\n",
              "      <th>MinTemp</th>\n",
              "      <th>MaxTemp</th>\n",
              "      <th>Rainfall</th>\n",
              "      <th>Evaporation</th>\n",
              "      <th>Sunshine</th>\n",
              "      <th>WindGustSpeed</th>\n",
              "      <th>WindSpeed9am</th>\n",
              "      <th>WindSpeed3pm</th>\n",
              "      <th>Humidity9am</th>\n",
              "      <th>Humidity3pm</th>\n",
              "      <th>...</th>\n",
              "      <th>NNW</th>\n",
              "      <th>NW</th>\n",
              "      <th>S</th>\n",
              "      <th>SE</th>\n",
              "      <th>SSE</th>\n",
              "      <th>SSW</th>\n",
              "      <th>SW</th>\n",
              "      <th>W</th>\n",
              "      <th>WNW</th>\n",
              "      <th>WSW</th>\n",
              "    </tr>\n",
              "  </thead>\n",
              "  <tbody>\n",
              "    <tr>\n",
              "      <th>17784</th>\n",
              "      <td>17.7</td>\n",
              "      <td>25.0</td>\n",
              "      <td>0.0</td>\n",
              "      <td>4.6</td>\n",
              "      <td>8.3</td>\n",
              "      <td>39.0</td>\n",
              "      <td>0.0</td>\n",
              "      <td>4.0</td>\n",
              "      <td>81.0</td>\n",
              "      <td>65.0</td>\n",
              "      <td>...</td>\n",
              "      <td>0</td>\n",
              "      <td>0</td>\n",
              "      <td>0</td>\n",
              "      <td>1</td>\n",
              "      <td>0</td>\n",
              "      <td>0</td>\n",
              "      <td>0</td>\n",
              "      <td>0</td>\n",
              "      <td>0</td>\n",
              "      <td>0</td>\n",
              "    </tr>\n",
              "    <tr>\n",
              "      <th>29428</th>\n",
              "      <td>19.1</td>\n",
              "      <td>24.0</td>\n",
              "      <td>0.0</td>\n",
              "      <td>2.2</td>\n",
              "      <td>1.0</td>\n",
              "      <td>30.0</td>\n",
              "      <td>7.0</td>\n",
              "      <td>15.0</td>\n",
              "      <td>86.0</td>\n",
              "      <td>79.0</td>\n",
              "      <td>...</td>\n",
              "      <td>0</td>\n",
              "      <td>0</td>\n",
              "      <td>0</td>\n",
              "      <td>0</td>\n",
              "      <td>0</td>\n",
              "      <td>0</td>\n",
              "      <td>1</td>\n",
              "      <td>0</td>\n",
              "      <td>0</td>\n",
              "      <td>0</td>\n",
              "    </tr>\n",
              "    <tr>\n",
              "      <th>33597</th>\n",
              "      <td>3.9</td>\n",
              "      <td>13.8</td>\n",
              "      <td>1.2</td>\n",
              "      <td>4.6</td>\n",
              "      <td>8.3</td>\n",
              "      <td>15.0</td>\n",
              "      <td>6.0</td>\n",
              "      <td>7.0</td>\n",
              "      <td>86.0</td>\n",
              "      <td>73.0</td>\n",
              "      <td>...</td>\n",
              "      <td>0</td>\n",
              "      <td>0</td>\n",
              "      <td>0</td>\n",
              "      <td>0</td>\n",
              "      <td>0</td>\n",
              "      <td>0</td>\n",
              "      <td>0</td>\n",
              "      <td>0</td>\n",
              "      <td>0</td>\n",
              "      <td>0</td>\n",
              "    </tr>\n",
              "    <tr>\n",
              "      <th>25145</th>\n",
              "      <td>17.6</td>\n",
              "      <td>33.8</td>\n",
              "      <td>0.2</td>\n",
              "      <td>15.2</td>\n",
              "      <td>10.1</td>\n",
              "      <td>50.0</td>\n",
              "      <td>31.0</td>\n",
              "      <td>24.0</td>\n",
              "      <td>16.0</td>\n",
              "      <td>10.0</td>\n",
              "      <td>...</td>\n",
              "      <td>0</td>\n",
              "      <td>0</td>\n",
              "      <td>0</td>\n",
              "      <td>0</td>\n",
              "      <td>0</td>\n",
              "      <td>0</td>\n",
              "      <td>0</td>\n",
              "      <td>0</td>\n",
              "      <td>0</td>\n",
              "      <td>0</td>\n",
              "    </tr>\n",
              "    <tr>\n",
              "      <th>8107</th>\n",
              "      <td>4.6</td>\n",
              "      <td>19.0</td>\n",
              "      <td>0.0</td>\n",
              "      <td>4.6</td>\n",
              "      <td>8.3</td>\n",
              "      <td>22.0</td>\n",
              "      <td>17.0</td>\n",
              "      <td>9.0</td>\n",
              "      <td>55.0</td>\n",
              "      <td>36.0</td>\n",
              "      <td>...</td>\n",
              "      <td>0</td>\n",
              "      <td>0</td>\n",
              "      <td>1</td>\n",
              "      <td>0</td>\n",
              "      <td>0</td>\n",
              "      <td>0</td>\n",
              "      <td>0</td>\n",
              "      <td>0</td>\n",
              "      <td>0</td>\n",
              "      <td>0</td>\n",
              "    </tr>\n",
              "  </tbody>\n",
              "</table>\n",
              "<p>5 rows × 115 columns</p>\n",
              "</div>\n",
              "      <button class=\"colab-df-convert\" onclick=\"convertToInteractive('df-4c5b4e0a-e996-4aeb-95d2-3f8e861f58de')\"\n",
              "              title=\"Convert this dataframe to an interactive table.\"\n",
              "              style=\"display:none;\">\n",
              "        \n",
              "  <svg xmlns=\"http://www.w3.org/2000/svg\" height=\"24px\"viewBox=\"0 0 24 24\"\n",
              "       width=\"24px\">\n",
              "    <path d=\"M0 0h24v24H0V0z\" fill=\"none\"/>\n",
              "    <path d=\"M18.56 5.44l.94 2.06.94-2.06 2.06-.94-2.06-.94-.94-2.06-.94 2.06-2.06.94zm-11 1L8.5 8.5l.94-2.06 2.06-.94-2.06-.94L8.5 2.5l-.94 2.06-2.06.94zm10 10l.94 2.06.94-2.06 2.06-.94-2.06-.94-.94-2.06-.94 2.06-2.06.94z\"/><path d=\"M17.41 7.96l-1.37-1.37c-.4-.4-.92-.59-1.43-.59-.52 0-1.04.2-1.43.59L10.3 9.45l-7.72 7.72c-.78.78-.78 2.05 0 2.83L4 21.41c.39.39.9.59 1.41.59.51 0 1.02-.2 1.41-.59l7.78-7.78 2.81-2.81c.8-.78.8-2.07 0-2.86zM5.41 20L4 18.59l7.72-7.72 1.47 1.35L5.41 20z\"/>\n",
              "  </svg>\n",
              "      </button>\n",
              "      \n",
              "  <style>\n",
              "    .colab-df-container {\n",
              "      display:flex;\n",
              "      flex-wrap:wrap;\n",
              "      gap: 12px;\n",
              "    }\n",
              "\n",
              "    .colab-df-convert {\n",
              "      background-color: #E8F0FE;\n",
              "      border: none;\n",
              "      border-radius: 50%;\n",
              "      cursor: pointer;\n",
              "      display: none;\n",
              "      fill: #1967D2;\n",
              "      height: 32px;\n",
              "      padding: 0 0 0 0;\n",
              "      width: 32px;\n",
              "    }\n",
              "\n",
              "    .colab-df-convert:hover {\n",
              "      background-color: #E2EBFA;\n",
              "      box-shadow: 0px 1px 2px rgba(60, 64, 67, 0.3), 0px 1px 3px 1px rgba(60, 64, 67, 0.15);\n",
              "      fill: #174EA6;\n",
              "    }\n",
              "\n",
              "    [theme=dark] .colab-df-convert {\n",
              "      background-color: #3B4455;\n",
              "      fill: #D2E3FC;\n",
              "    }\n",
              "\n",
              "    [theme=dark] .colab-df-convert:hover {\n",
              "      background-color: #434B5C;\n",
              "      box-shadow: 0px 1px 3px 1px rgba(0, 0, 0, 0.15);\n",
              "      filter: drop-shadow(0px 1px 2px rgba(0, 0, 0, 0.3));\n",
              "      fill: #FFFFFF;\n",
              "    }\n",
              "  </style>\n",
              "\n",
              "      <script>\n",
              "        const buttonEl =\n",
              "          document.querySelector('#df-4c5b4e0a-e996-4aeb-95d2-3f8e861f58de button.colab-df-convert');\n",
              "        buttonEl.style.display =\n",
              "          google.colab.kernel.accessAllowed ? 'block' : 'none';\n",
              "\n",
              "        async function convertToInteractive(key) {\n",
              "          const element = document.querySelector('#df-4c5b4e0a-e996-4aeb-95d2-3f8e861f58de');\n",
              "          const dataTable =\n",
              "            await google.colab.kernel.invokeFunction('convertToInteractive',\n",
              "                                                     [key], {});\n",
              "          if (!dataTable) return;\n",
              "\n",
              "          const docLinkHtml = 'Like what you see? Visit the ' +\n",
              "            '<a target=\"_blank\" href=https://colab.research.google.com/notebooks/data_table.ipynb>data table notebook</a>'\n",
              "            + ' to learn more about interactive tables.';\n",
              "          element.innerHTML = '';\n",
              "          dataTable['output_type'] = 'display_data';\n",
              "          await google.colab.output.renderOutput(dataTable, element);\n",
              "          const docLink = document.createElement('div');\n",
              "          docLink.innerHTML = docLinkHtml;\n",
              "          element.appendChild(docLink);\n",
              "        }\n",
              "      </script>\n",
              "    </div>\n",
              "  </div>\n",
              "  "
            ]
          },
          "metadata": {},
          "execution_count": 332
        }
      ],
      "source": [
        "X_train"
      ]
    },
    {
      "cell_type": "markdown",
      "metadata": {
        "id": "Raq_XjtuY5GG"
      },
      "source": [
        "Similarly, I will create the `X_test` testing set."
      ]
    },
    {
      "cell_type": "code",
      "execution_count": null,
      "metadata": {
        "id": "Gw6sgb_fY5GG"
      },
      "outputs": [],
      "source": [
        "# df concat as above done in x_train\n"
      ]
    },
    {
      "cell_type": "code",
      "execution_count": null,
      "metadata": {
        "id": "yFI7eqR3Y5GG",
        "outputId": "6650d1fd-e837-4bf9-f482-5e77b71f037a",
        "colab": {
          "base_uri": "https://localhost:8080/",
          "height": 300
        }
      },
      "outputs": [
        {
          "output_type": "execute_result",
          "data": {
            "text/plain": [
              "       MinTemp  MaxTemp  Rainfall  Evaporation  Sunshine  WindGustSpeed  \\\n",
              "33425      5.9     14.3       3.2          4.6       8.3           15.0   \n",
              "4685      23.5     28.2       3.2          4.6       0.0           33.0   \n",
              "21878     12.7     31.8       0.0          4.6       8.3           35.0   \n",
              "24568      2.4     12.4       0.0          4.6       8.3           39.0   \n",
              "34894     19.5     31.1       3.2          2.8       5.2           37.0   \n",
              "\n",
              "       WindSpeed9am  WindSpeed3pm  Humidity9am  Humidity3pm  ...  NNW  NW  S  \\\n",
              "33425           7.0           4.0         97.0         96.0  ...    0   0  0   \n",
              "4685           13.0          13.0         91.0         84.0  ...    0   0  0   \n",
              "21878           6.0          13.0         87.0         45.0  ...    0   0  0   \n",
              "24568          13.0          19.0         93.0         53.0  ...    0   0  0   \n",
              "34894           7.0          17.0         74.0         56.0  ...    0   0  0   \n",
              "\n",
              "       SE  SSE  SSW  SW  W  WNW  WSW  \n",
              "33425   0    0    0   0  0    0    0  \n",
              "4685    0    0    0   0  0    0    0  \n",
              "21878   0    0    0   0  0    0    0  \n",
              "24568   1    0    0   0  0    0    0  \n",
              "34894   0    0    0   0  0    1    0  \n",
              "\n",
              "[5 rows x 115 columns]"
            ],
            "text/html": [
              "\n",
              "  <div id=\"df-fc3b4628-fa3d-4168-af88-beb3356c731d\">\n",
              "    <div class=\"colab-df-container\">\n",
              "      <div>\n",
              "<style scoped>\n",
              "    .dataframe tbody tr th:only-of-type {\n",
              "        vertical-align: middle;\n",
              "    }\n",
              "\n",
              "    .dataframe tbody tr th {\n",
              "        vertical-align: top;\n",
              "    }\n",
              "\n",
              "    .dataframe thead th {\n",
              "        text-align: right;\n",
              "    }\n",
              "</style>\n",
              "<table border=\"1\" class=\"dataframe\">\n",
              "  <thead>\n",
              "    <tr style=\"text-align: right;\">\n",
              "      <th></th>\n",
              "      <th>MinTemp</th>\n",
              "      <th>MaxTemp</th>\n",
              "      <th>Rainfall</th>\n",
              "      <th>Evaporation</th>\n",
              "      <th>Sunshine</th>\n",
              "      <th>WindGustSpeed</th>\n",
              "      <th>WindSpeed9am</th>\n",
              "      <th>WindSpeed3pm</th>\n",
              "      <th>Humidity9am</th>\n",
              "      <th>Humidity3pm</th>\n",
              "      <th>...</th>\n",
              "      <th>NNW</th>\n",
              "      <th>NW</th>\n",
              "      <th>S</th>\n",
              "      <th>SE</th>\n",
              "      <th>SSE</th>\n",
              "      <th>SSW</th>\n",
              "      <th>SW</th>\n",
              "      <th>W</th>\n",
              "      <th>WNW</th>\n",
              "      <th>WSW</th>\n",
              "    </tr>\n",
              "  </thead>\n",
              "  <tbody>\n",
              "    <tr>\n",
              "      <th>33425</th>\n",
              "      <td>5.9</td>\n",
              "      <td>14.3</td>\n",
              "      <td>3.2</td>\n",
              "      <td>4.6</td>\n",
              "      <td>8.3</td>\n",
              "      <td>15.0</td>\n",
              "      <td>7.0</td>\n",
              "      <td>4.0</td>\n",
              "      <td>97.0</td>\n",
              "      <td>96.0</td>\n",
              "      <td>...</td>\n",
              "      <td>0</td>\n",
              "      <td>0</td>\n",
              "      <td>0</td>\n",
              "      <td>0</td>\n",
              "      <td>0</td>\n",
              "      <td>0</td>\n",
              "      <td>0</td>\n",
              "      <td>0</td>\n",
              "      <td>0</td>\n",
              "      <td>0</td>\n",
              "    </tr>\n",
              "    <tr>\n",
              "      <th>4685</th>\n",
              "      <td>23.5</td>\n",
              "      <td>28.2</td>\n",
              "      <td>3.2</td>\n",
              "      <td>4.6</td>\n",
              "      <td>0.0</td>\n",
              "      <td>33.0</td>\n",
              "      <td>13.0</td>\n",
              "      <td>13.0</td>\n",
              "      <td>91.0</td>\n",
              "      <td>84.0</td>\n",
              "      <td>...</td>\n",
              "      <td>0</td>\n",
              "      <td>0</td>\n",
              "      <td>0</td>\n",
              "      <td>0</td>\n",
              "      <td>0</td>\n",
              "      <td>0</td>\n",
              "      <td>0</td>\n",
              "      <td>0</td>\n",
              "      <td>0</td>\n",
              "      <td>0</td>\n",
              "    </tr>\n",
              "    <tr>\n",
              "      <th>21878</th>\n",
              "      <td>12.7</td>\n",
              "      <td>31.8</td>\n",
              "      <td>0.0</td>\n",
              "      <td>4.6</td>\n",
              "      <td>8.3</td>\n",
              "      <td>35.0</td>\n",
              "      <td>6.0</td>\n",
              "      <td>13.0</td>\n",
              "      <td>87.0</td>\n",
              "      <td>45.0</td>\n",
              "      <td>...</td>\n",
              "      <td>0</td>\n",
              "      <td>0</td>\n",
              "      <td>0</td>\n",
              "      <td>0</td>\n",
              "      <td>0</td>\n",
              "      <td>0</td>\n",
              "      <td>0</td>\n",
              "      <td>0</td>\n",
              "      <td>0</td>\n",
              "      <td>0</td>\n",
              "    </tr>\n",
              "    <tr>\n",
              "      <th>24568</th>\n",
              "      <td>2.4</td>\n",
              "      <td>12.4</td>\n",
              "      <td>0.0</td>\n",
              "      <td>4.6</td>\n",
              "      <td>8.3</td>\n",
              "      <td>39.0</td>\n",
              "      <td>13.0</td>\n",
              "      <td>19.0</td>\n",
              "      <td>93.0</td>\n",
              "      <td>53.0</td>\n",
              "      <td>...</td>\n",
              "      <td>0</td>\n",
              "      <td>0</td>\n",
              "      <td>0</td>\n",
              "      <td>1</td>\n",
              "      <td>0</td>\n",
              "      <td>0</td>\n",
              "      <td>0</td>\n",
              "      <td>0</td>\n",
              "      <td>0</td>\n",
              "      <td>0</td>\n",
              "    </tr>\n",
              "    <tr>\n",
              "      <th>34894</th>\n",
              "      <td>19.5</td>\n",
              "      <td>31.1</td>\n",
              "      <td>3.2</td>\n",
              "      <td>2.8</td>\n",
              "      <td>5.2</td>\n",
              "      <td>37.0</td>\n",
              "      <td>7.0</td>\n",
              "      <td>17.0</td>\n",
              "      <td>74.0</td>\n",
              "      <td>56.0</td>\n",
              "      <td>...</td>\n",
              "      <td>0</td>\n",
              "      <td>0</td>\n",
              "      <td>0</td>\n",
              "      <td>0</td>\n",
              "      <td>0</td>\n",
              "      <td>0</td>\n",
              "      <td>0</td>\n",
              "      <td>0</td>\n",
              "      <td>1</td>\n",
              "      <td>0</td>\n",
              "    </tr>\n",
              "  </tbody>\n",
              "</table>\n",
              "<p>5 rows × 115 columns</p>\n",
              "</div>\n",
              "      <button class=\"colab-df-convert\" onclick=\"convertToInteractive('df-fc3b4628-fa3d-4168-af88-beb3356c731d')\"\n",
              "              title=\"Convert this dataframe to an interactive table.\"\n",
              "              style=\"display:none;\">\n",
              "        \n",
              "  <svg xmlns=\"http://www.w3.org/2000/svg\" height=\"24px\"viewBox=\"0 0 24 24\"\n",
              "       width=\"24px\">\n",
              "    <path d=\"M0 0h24v24H0V0z\" fill=\"none\"/>\n",
              "    <path d=\"M18.56 5.44l.94 2.06.94-2.06 2.06-.94-2.06-.94-.94-2.06-.94 2.06-2.06.94zm-11 1L8.5 8.5l.94-2.06 2.06-.94-2.06-.94L8.5 2.5l-.94 2.06-2.06.94zm10 10l.94 2.06.94-2.06 2.06-.94-2.06-.94-.94-2.06-.94 2.06-2.06.94z\"/><path d=\"M17.41 7.96l-1.37-1.37c-.4-.4-.92-.59-1.43-.59-.52 0-1.04.2-1.43.59L10.3 9.45l-7.72 7.72c-.78.78-.78 2.05 0 2.83L4 21.41c.39.39.9.59 1.41.59.51 0 1.02-.2 1.41-.59l7.78-7.78 2.81-2.81c.8-.78.8-2.07 0-2.86zM5.41 20L4 18.59l7.72-7.72 1.47 1.35L5.41 20z\"/>\n",
              "  </svg>\n",
              "      </button>\n",
              "      \n",
              "  <style>\n",
              "    .colab-df-container {\n",
              "      display:flex;\n",
              "      flex-wrap:wrap;\n",
              "      gap: 12px;\n",
              "    }\n",
              "\n",
              "    .colab-df-convert {\n",
              "      background-color: #E8F0FE;\n",
              "      border: none;\n",
              "      border-radius: 50%;\n",
              "      cursor: pointer;\n",
              "      display: none;\n",
              "      fill: #1967D2;\n",
              "      height: 32px;\n",
              "      padding: 0 0 0 0;\n",
              "      width: 32px;\n",
              "    }\n",
              "\n",
              "    .colab-df-convert:hover {\n",
              "      background-color: #E2EBFA;\n",
              "      box-shadow: 0px 1px 2px rgba(60, 64, 67, 0.3), 0px 1px 3px 1px rgba(60, 64, 67, 0.15);\n",
              "      fill: #174EA6;\n",
              "    }\n",
              "\n",
              "    [theme=dark] .colab-df-convert {\n",
              "      background-color: #3B4455;\n",
              "      fill: #D2E3FC;\n",
              "    }\n",
              "\n",
              "    [theme=dark] .colab-df-convert:hover {\n",
              "      background-color: #434B5C;\n",
              "      box-shadow: 0px 1px 3px 1px rgba(0, 0, 0, 0.15);\n",
              "      filter: drop-shadow(0px 1px 2px rgba(0, 0, 0, 0.3));\n",
              "      fill: #FFFFFF;\n",
              "    }\n",
              "  </style>\n",
              "\n",
              "      <script>\n",
              "        const buttonEl =\n",
              "          document.querySelector('#df-fc3b4628-fa3d-4168-af88-beb3356c731d button.colab-df-convert');\n",
              "        buttonEl.style.display =\n",
              "          google.colab.kernel.accessAllowed ? 'block' : 'none';\n",
              "\n",
              "        async function convertToInteractive(key) {\n",
              "          const element = document.querySelector('#df-fc3b4628-fa3d-4168-af88-beb3356c731d');\n",
              "          const dataTable =\n",
              "            await google.colab.kernel.invokeFunction('convertToInteractive',\n",
              "                                                     [key], {});\n",
              "          if (!dataTable) return;\n",
              "\n",
              "          const docLinkHtml = 'Like what you see? Visit the ' +\n",
              "            '<a target=\"_blank\" href=https://colab.research.google.com/notebooks/data_table.ipynb>data table notebook</a>'\n",
              "            + ' to learn more about interactive tables.';\n",
              "          element.innerHTML = '';\n",
              "          dataTable['output_type'] = 'display_data';\n",
              "          await google.colab.output.renderOutput(dataTable, element);\n",
              "          const docLink = document.createElement('div');\n",
              "          docLink.innerHTML = docLinkHtml;\n",
              "          element.appendChild(docLink);\n",
              "        }\n",
              "      </script>\n",
              "    </div>\n",
              "  </div>\n",
              "  "
            ]
          },
          "metadata": {},
          "execution_count": 334
        }
      ],
      "source": [
        "#print xtest head"
      ]
    },
    {
      "cell_type": "markdown",
      "metadata": {
        "id": "vp1Und3LY5GG"
      },
      "source": [
        "We now have training and testing set ready for model building. Before that, we should map all the feature variables onto the same scale. It is called `feature scaling`. I will do it as follows."
      ]
    },
    {
      "cell_type": "markdown",
      "metadata": {
        "id": "BXVsl9LyY5GG"
      },
      "source": [
        "## 11. Feature Scaling"
      ]
    },
    {
      "cell_type": "code",
      "execution_count": null,
      "metadata": {
        "id": "t6lxY3lxY5GH",
        "outputId": "16924260-069a-42aa-d09f-72b64aa51be5",
        "colab": {
          "base_uri": "https://localhost:8080/",
          "height": 394
        }
      },
      "outputs": [
        {
          "output_type": "execute_result",
          "data": {
            "text/plain": [
              "            MinTemp       MaxTemp      Rainfall   Evaporation      Sunshine  \\\n",
              "count  29504.000000  29504.000000  29504.000000  29504.000000  29504.000000   \n",
              "mean      12.225129     22.941062      0.702867      4.957775      7.810548   \n",
              "std        6.357184      6.957840      1.203053      2.841566      3.073407   \n",
              "min       -8.500000     -3.100000      0.000000      0.000000      0.000000   \n",
              "25%        7.700000     17.800000      0.000000      3.600000      7.000000   \n",
              "50%       12.100000     22.400000      0.000000      4.600000      8.300000   \n",
              "75%       17.000000     27.900000      0.800000      5.600000      9.400000   \n",
              "max       30.500000     48.100000      3.200000     21.800000     14.300000   \n",
              "\n",
              "       WindGustSpeed  WindSpeed9am  WindSpeed3pm   Humidity9am   Humidity3pm  \\\n",
              "count   29504.000000  29504.000000  29504.000000  29504.000000  29504.000000   \n",
              "mean       40.272912     14.180789     18.870119     69.164351     52.363036   \n",
              "std        12.926813      8.874938      8.682666     18.154728     20.212957   \n",
              "min         7.000000      0.000000      0.000000      2.000000      1.000000   \n",
              "25%        31.000000      7.000000     13.000000     58.000000     38.000000   \n",
              "50%        39.000000     13.000000     19.000000     70.000000     53.000000   \n",
              "75%        46.000000     19.000000     24.000000     83.000000     66.000000   \n",
              "max       135.000000     55.000000     57.000000    100.000000    100.000000   \n",
              "\n",
              "       ...           NNW            NW             S            SE  \\\n",
              "count  ...  29504.000000  29504.000000  29504.000000  29504.000000   \n",
              "mean   ...      0.050569      0.059653      0.068838      0.106257   \n",
              "std    ...      0.219120      0.236847      0.253183      0.308171   \n",
              "min    ...      0.000000      0.000000      0.000000      0.000000   \n",
              "25%    ...      0.000000      0.000000      0.000000      0.000000   \n",
              "50%    ...      0.000000      0.000000      0.000000      0.000000   \n",
              "75%    ...      0.000000      0.000000      0.000000      0.000000   \n",
              "max    ...      1.000000      1.000000      1.000000      1.000000   \n",
              "\n",
              "                SSE           SSW            SW             W           WNW  \\\n",
              "count  29504.000000  29504.000000  29504.000000  29504.000000  29504.000000   \n",
              "mean       0.063788      0.052230      0.064398      0.067584      0.060161   \n",
              "std        0.244379      0.222495      0.245465      0.251035      0.237790   \n",
              "min        0.000000      0.000000      0.000000      0.000000      0.000000   \n",
              "25%        0.000000      0.000000      0.000000      0.000000      0.000000   \n",
              "50%        0.000000      0.000000      0.000000      0.000000      0.000000   \n",
              "75%        0.000000      0.000000      0.000000      0.000000      0.000000   \n",
              "max        1.000000      1.000000      1.000000      1.000000      1.000000   \n",
              "\n",
              "                WSW  \n",
              "count  29504.000000  \n",
              "mean       0.064737  \n",
              "std        0.246065  \n",
              "min        0.000000  \n",
              "25%        0.000000  \n",
              "50%        0.000000  \n",
              "75%        0.000000  \n",
              "max        1.000000  \n",
              "\n",
              "[8 rows x 115 columns]"
            ],
            "text/html": [
              "\n",
              "  <div id=\"df-634ec659-c368-41b8-8be3-e8ec90234a16\">\n",
              "    <div class=\"colab-df-container\">\n",
              "      <div>\n",
              "<style scoped>\n",
              "    .dataframe tbody tr th:only-of-type {\n",
              "        vertical-align: middle;\n",
              "    }\n",
              "\n",
              "    .dataframe tbody tr th {\n",
              "        vertical-align: top;\n",
              "    }\n",
              "\n",
              "    .dataframe thead th {\n",
              "        text-align: right;\n",
              "    }\n",
              "</style>\n",
              "<table border=\"1\" class=\"dataframe\">\n",
              "  <thead>\n",
              "    <tr style=\"text-align: right;\">\n",
              "      <th></th>\n",
              "      <th>MinTemp</th>\n",
              "      <th>MaxTemp</th>\n",
              "      <th>Rainfall</th>\n",
              "      <th>Evaporation</th>\n",
              "      <th>Sunshine</th>\n",
              "      <th>WindGustSpeed</th>\n",
              "      <th>WindSpeed9am</th>\n",
              "      <th>WindSpeed3pm</th>\n",
              "      <th>Humidity9am</th>\n",
              "      <th>Humidity3pm</th>\n",
              "      <th>...</th>\n",
              "      <th>NNW</th>\n",
              "      <th>NW</th>\n",
              "      <th>S</th>\n",
              "      <th>SE</th>\n",
              "      <th>SSE</th>\n",
              "      <th>SSW</th>\n",
              "      <th>SW</th>\n",
              "      <th>W</th>\n",
              "      <th>WNW</th>\n",
              "      <th>WSW</th>\n",
              "    </tr>\n",
              "  </thead>\n",
              "  <tbody>\n",
              "    <tr>\n",
              "      <th>count</th>\n",
              "      <td>29504.000000</td>\n",
              "      <td>29504.000000</td>\n",
              "      <td>29504.000000</td>\n",
              "      <td>29504.000000</td>\n",
              "      <td>29504.000000</td>\n",
              "      <td>29504.000000</td>\n",
              "      <td>29504.000000</td>\n",
              "      <td>29504.000000</td>\n",
              "      <td>29504.000000</td>\n",
              "      <td>29504.000000</td>\n",
              "      <td>...</td>\n",
              "      <td>29504.000000</td>\n",
              "      <td>29504.000000</td>\n",
              "      <td>29504.000000</td>\n",
              "      <td>29504.000000</td>\n",
              "      <td>29504.000000</td>\n",
              "      <td>29504.000000</td>\n",
              "      <td>29504.000000</td>\n",
              "      <td>29504.000000</td>\n",
              "      <td>29504.000000</td>\n",
              "      <td>29504.000000</td>\n",
              "    </tr>\n",
              "    <tr>\n",
              "      <th>mean</th>\n",
              "      <td>12.225129</td>\n",
              "      <td>22.941062</td>\n",
              "      <td>0.702867</td>\n",
              "      <td>4.957775</td>\n",
              "      <td>7.810548</td>\n",
              "      <td>40.272912</td>\n",
              "      <td>14.180789</td>\n",
              "      <td>18.870119</td>\n",
              "      <td>69.164351</td>\n",
              "      <td>52.363036</td>\n",
              "      <td>...</td>\n",
              "      <td>0.050569</td>\n",
              "      <td>0.059653</td>\n",
              "      <td>0.068838</td>\n",
              "      <td>0.106257</td>\n",
              "      <td>0.063788</td>\n",
              "      <td>0.052230</td>\n",
              "      <td>0.064398</td>\n",
              "      <td>0.067584</td>\n",
              "      <td>0.060161</td>\n",
              "      <td>0.064737</td>\n",
              "    </tr>\n",
              "    <tr>\n",
              "      <th>std</th>\n",
              "      <td>6.357184</td>\n",
              "      <td>6.957840</td>\n",
              "      <td>1.203053</td>\n",
              "      <td>2.841566</td>\n",
              "      <td>3.073407</td>\n",
              "      <td>12.926813</td>\n",
              "      <td>8.874938</td>\n",
              "      <td>8.682666</td>\n",
              "      <td>18.154728</td>\n",
              "      <td>20.212957</td>\n",
              "      <td>...</td>\n",
              "      <td>0.219120</td>\n",
              "      <td>0.236847</td>\n",
              "      <td>0.253183</td>\n",
              "      <td>0.308171</td>\n",
              "      <td>0.244379</td>\n",
              "      <td>0.222495</td>\n",
              "      <td>0.245465</td>\n",
              "      <td>0.251035</td>\n",
              "      <td>0.237790</td>\n",
              "      <td>0.246065</td>\n",
              "    </tr>\n",
              "    <tr>\n",
              "      <th>min</th>\n",
              "      <td>-8.500000</td>\n",
              "      <td>-3.100000</td>\n",
              "      <td>0.000000</td>\n",
              "      <td>0.000000</td>\n",
              "      <td>0.000000</td>\n",
              "      <td>7.000000</td>\n",
              "      <td>0.000000</td>\n",
              "      <td>0.000000</td>\n",
              "      <td>2.000000</td>\n",
              "      <td>1.000000</td>\n",
              "      <td>...</td>\n",
              "      <td>0.000000</td>\n",
              "      <td>0.000000</td>\n",
              "      <td>0.000000</td>\n",
              "      <td>0.000000</td>\n",
              "      <td>0.000000</td>\n",
              "      <td>0.000000</td>\n",
              "      <td>0.000000</td>\n",
              "      <td>0.000000</td>\n",
              "      <td>0.000000</td>\n",
              "      <td>0.000000</td>\n",
              "    </tr>\n",
              "    <tr>\n",
              "      <th>25%</th>\n",
              "      <td>7.700000</td>\n",
              "      <td>17.800000</td>\n",
              "      <td>0.000000</td>\n",
              "      <td>3.600000</td>\n",
              "      <td>7.000000</td>\n",
              "      <td>31.000000</td>\n",
              "      <td>7.000000</td>\n",
              "      <td>13.000000</td>\n",
              "      <td>58.000000</td>\n",
              "      <td>38.000000</td>\n",
              "      <td>...</td>\n",
              "      <td>0.000000</td>\n",
              "      <td>0.000000</td>\n",
              "      <td>0.000000</td>\n",
              "      <td>0.000000</td>\n",
              "      <td>0.000000</td>\n",
              "      <td>0.000000</td>\n",
              "      <td>0.000000</td>\n",
              "      <td>0.000000</td>\n",
              "      <td>0.000000</td>\n",
              "      <td>0.000000</td>\n",
              "    </tr>\n",
              "    <tr>\n",
              "      <th>50%</th>\n",
              "      <td>12.100000</td>\n",
              "      <td>22.400000</td>\n",
              "      <td>0.000000</td>\n",
              "      <td>4.600000</td>\n",
              "      <td>8.300000</td>\n",
              "      <td>39.000000</td>\n",
              "      <td>13.000000</td>\n",
              "      <td>19.000000</td>\n",
              "      <td>70.000000</td>\n",
              "      <td>53.000000</td>\n",
              "      <td>...</td>\n",
              "      <td>0.000000</td>\n",
              "      <td>0.000000</td>\n",
              "      <td>0.000000</td>\n",
              "      <td>0.000000</td>\n",
              "      <td>0.000000</td>\n",
              "      <td>0.000000</td>\n",
              "      <td>0.000000</td>\n",
              "      <td>0.000000</td>\n",
              "      <td>0.000000</td>\n",
              "      <td>0.000000</td>\n",
              "    </tr>\n",
              "    <tr>\n",
              "      <th>75%</th>\n",
              "      <td>17.000000</td>\n",
              "      <td>27.900000</td>\n",
              "      <td>0.800000</td>\n",
              "      <td>5.600000</td>\n",
              "      <td>9.400000</td>\n",
              "      <td>46.000000</td>\n",
              "      <td>19.000000</td>\n",
              "      <td>24.000000</td>\n",
              "      <td>83.000000</td>\n",
              "      <td>66.000000</td>\n",
              "      <td>...</td>\n",
              "      <td>0.000000</td>\n",
              "      <td>0.000000</td>\n",
              "      <td>0.000000</td>\n",
              "      <td>0.000000</td>\n",
              "      <td>0.000000</td>\n",
              "      <td>0.000000</td>\n",
              "      <td>0.000000</td>\n",
              "      <td>0.000000</td>\n",
              "      <td>0.000000</td>\n",
              "      <td>0.000000</td>\n",
              "    </tr>\n",
              "    <tr>\n",
              "      <th>max</th>\n",
              "      <td>30.500000</td>\n",
              "      <td>48.100000</td>\n",
              "      <td>3.200000</td>\n",
              "      <td>21.800000</td>\n",
              "      <td>14.300000</td>\n",
              "      <td>135.000000</td>\n",
              "      <td>55.000000</td>\n",
              "      <td>57.000000</td>\n",
              "      <td>100.000000</td>\n",
              "      <td>100.000000</td>\n",
              "      <td>...</td>\n",
              "      <td>1.000000</td>\n",
              "      <td>1.000000</td>\n",
              "      <td>1.000000</td>\n",
              "      <td>1.000000</td>\n",
              "      <td>1.000000</td>\n",
              "      <td>1.000000</td>\n",
              "      <td>1.000000</td>\n",
              "      <td>1.000000</td>\n",
              "      <td>1.000000</td>\n",
              "      <td>1.000000</td>\n",
              "    </tr>\n",
              "  </tbody>\n",
              "</table>\n",
              "<p>8 rows × 115 columns</p>\n",
              "</div>\n",
              "      <button class=\"colab-df-convert\" onclick=\"convertToInteractive('df-634ec659-c368-41b8-8be3-e8ec90234a16')\"\n",
              "              title=\"Convert this dataframe to an interactive table.\"\n",
              "              style=\"display:none;\">\n",
              "        \n",
              "  <svg xmlns=\"http://www.w3.org/2000/svg\" height=\"24px\"viewBox=\"0 0 24 24\"\n",
              "       width=\"24px\">\n",
              "    <path d=\"M0 0h24v24H0V0z\" fill=\"none\"/>\n",
              "    <path d=\"M18.56 5.44l.94 2.06.94-2.06 2.06-.94-2.06-.94-.94-2.06-.94 2.06-2.06.94zm-11 1L8.5 8.5l.94-2.06 2.06-.94-2.06-.94L8.5 2.5l-.94 2.06-2.06.94zm10 10l.94 2.06.94-2.06 2.06-.94-2.06-.94-.94-2.06-.94 2.06-2.06.94z\"/><path d=\"M17.41 7.96l-1.37-1.37c-.4-.4-.92-.59-1.43-.59-.52 0-1.04.2-1.43.59L10.3 9.45l-7.72 7.72c-.78.78-.78 2.05 0 2.83L4 21.41c.39.39.9.59 1.41.59.51 0 1.02-.2 1.41-.59l7.78-7.78 2.81-2.81c.8-.78.8-2.07 0-2.86zM5.41 20L4 18.59l7.72-7.72 1.47 1.35L5.41 20z\"/>\n",
              "  </svg>\n",
              "      </button>\n",
              "      \n",
              "  <style>\n",
              "    .colab-df-container {\n",
              "      display:flex;\n",
              "      flex-wrap:wrap;\n",
              "      gap: 12px;\n",
              "    }\n",
              "\n",
              "    .colab-df-convert {\n",
              "      background-color: #E8F0FE;\n",
              "      border: none;\n",
              "      border-radius: 50%;\n",
              "      cursor: pointer;\n",
              "      display: none;\n",
              "      fill: #1967D2;\n",
              "      height: 32px;\n",
              "      padding: 0 0 0 0;\n",
              "      width: 32px;\n",
              "    }\n",
              "\n",
              "    .colab-df-convert:hover {\n",
              "      background-color: #E2EBFA;\n",
              "      box-shadow: 0px 1px 2px rgba(60, 64, 67, 0.3), 0px 1px 3px 1px rgba(60, 64, 67, 0.15);\n",
              "      fill: #174EA6;\n",
              "    }\n",
              "\n",
              "    [theme=dark] .colab-df-convert {\n",
              "      background-color: #3B4455;\n",
              "      fill: #D2E3FC;\n",
              "    }\n",
              "\n",
              "    [theme=dark] .colab-df-convert:hover {\n",
              "      background-color: #434B5C;\n",
              "      box-shadow: 0px 1px 3px 1px rgba(0, 0, 0, 0.15);\n",
              "      filter: drop-shadow(0px 1px 2px rgba(0, 0, 0, 0.3));\n",
              "      fill: #FFFFFF;\n",
              "    }\n",
              "  </style>\n",
              "\n",
              "      <script>\n",
              "        const buttonEl =\n",
              "          document.querySelector('#df-634ec659-c368-41b8-8be3-e8ec90234a16 button.colab-df-convert');\n",
              "        buttonEl.style.display =\n",
              "          google.colab.kernel.accessAllowed ? 'block' : 'none';\n",
              "\n",
              "        async function convertToInteractive(key) {\n",
              "          const element = document.querySelector('#df-634ec659-c368-41b8-8be3-e8ec90234a16');\n",
              "          const dataTable =\n",
              "            await google.colab.kernel.invokeFunction('convertToInteractive',\n",
              "                                                     [key], {});\n",
              "          if (!dataTable) return;\n",
              "\n",
              "          const docLinkHtml = 'Like what you see? Visit the ' +\n",
              "            '<a target=\"_blank\" href=https://colab.research.google.com/notebooks/data_table.ipynb>data table notebook</a>'\n",
              "            + ' to learn more about interactive tables.';\n",
              "          element.innerHTML = '';\n",
              "          dataTable['output_type'] = 'display_data';\n",
              "          await google.colab.output.renderOutput(dataTable, element);\n",
              "          const docLink = document.createElement('div');\n",
              "          docLink.innerHTML = docLinkHtml;\n",
              "          element.appendChild(docLink);\n",
              "        }\n",
              "      </script>\n",
              "    </div>\n",
              "  </div>\n",
              "  "
            ]
          },
          "metadata": {},
          "execution_count": 335
        }
      ],
      "source": [
        "#X_train describe"
      ]
    },
    {
      "cell_type": "code",
      "execution_count": null,
      "metadata": {
        "id": "yCFNdpkYY5GH"
      },
      "outputs": [],
      "source": [
        "cols = X_train.columns"
      ]
    },
    {
      "cell_type": "code",
      "execution_count": null,
      "metadata": {
        "id": "rhlZMBxFY5GH"
      },
      "outputs": [],
      "source": [
        "from sklearn.preprocessing import MinMaxScaler\n",
        "scaler = MinMaxScaler()\n",
        "# using MinMaxScaler to transform data \n"
      ]
    },
    {
      "cell_type": "code",
      "execution_count": null,
      "metadata": {
        "id": "1Os70lAVY5GH"
      },
      "outputs": [],
      "source": [
        "X_train = pd.DataFrame(X_train, columns=[cols])"
      ]
    },
    {
      "cell_type": "code",
      "execution_count": null,
      "metadata": {
        "id": "VvDNrqJ0Y5GH"
      },
      "outputs": [],
      "source": [
        "# create a datafram x_test  as like above x_train"
      ]
    },
    {
      "cell_type": "code",
      "execution_count": null,
      "metadata": {
        "id": "lkqWIGfpY5GI",
        "outputId": "108d745e-de76-4b37-fa91-4e1d193efa8a",
        "colab": {
          "base_uri": "https://localhost:8080/",
          "height": 394
        }
      },
      "outputs": [
        {
          "output_type": "execute_result",
          "data": {
            "text/plain": [
              "            MinTemp       MaxTemp      Rainfall   Evaporation      Sunshine  \\\n",
              "count  29504.000000  29504.000000  29504.000000  29504.000000  29504.000000   \n",
              "mean       0.531414      0.508614      0.219646      0.227421      0.546192   \n",
              "std        0.163005      0.135895      0.375954      0.130347      0.214924   \n",
              "min        0.000000      0.000000      0.000000      0.000000      0.000000   \n",
              "25%        0.415385      0.408203      0.000000      0.165138      0.489510   \n",
              "50%        0.528205      0.498047      0.000000      0.211009      0.580420   \n",
              "75%        0.653846      0.605469      0.250000      0.256881      0.657343   \n",
              "max        1.000000      1.000000      1.000000      1.000000      1.000000   \n",
              "\n",
              "      WindGustSpeed  WindSpeed9am  WindSpeed3pm   Humidity9am   Humidity3pm  \\\n",
              "count  29504.000000  29504.000000  29504.000000  29504.000000  29504.000000   \n",
              "mean       0.259945      0.257833      0.331055      0.685351      0.518819   \n",
              "std        0.100991      0.161363      0.152327      0.185252      0.204171   \n",
              "min        0.000000      0.000000      0.000000      0.000000      0.000000   \n",
              "25%        0.187500      0.127273      0.228070      0.571429      0.373737   \n",
              "50%        0.250000      0.236364      0.333333      0.693878      0.525253   \n",
              "75%        0.304688      0.345455      0.421053      0.826531      0.656566   \n",
              "max        1.000000      1.000000      1.000000      1.000000      1.000000   \n",
              "\n",
              "       ...           NNW            NW             S            SE  \\\n",
              "count  ...  29504.000000  29504.000000  29504.000000  29504.000000   \n",
              "mean   ...      0.050569      0.059653      0.068838      0.106257   \n",
              "std    ...      0.219120      0.236847      0.253183      0.308171   \n",
              "min    ...      0.000000      0.000000      0.000000      0.000000   \n",
              "25%    ...      0.000000      0.000000      0.000000      0.000000   \n",
              "50%    ...      0.000000      0.000000      0.000000      0.000000   \n",
              "75%    ...      0.000000      0.000000      0.000000      0.000000   \n",
              "max    ...      1.000000      1.000000      1.000000      1.000000   \n",
              "\n",
              "                SSE           SSW            SW             W           WNW  \\\n",
              "count  29504.000000  29504.000000  29504.000000  29504.000000  29504.000000   \n",
              "mean       0.063788      0.052230      0.064398      0.067584      0.060161   \n",
              "std        0.244379      0.222495      0.245465      0.251035      0.237790   \n",
              "min        0.000000      0.000000      0.000000      0.000000      0.000000   \n",
              "25%        0.000000      0.000000      0.000000      0.000000      0.000000   \n",
              "50%        0.000000      0.000000      0.000000      0.000000      0.000000   \n",
              "75%        0.000000      0.000000      0.000000      0.000000      0.000000   \n",
              "max        1.000000      1.000000      1.000000      1.000000      1.000000   \n",
              "\n",
              "                WSW  \n",
              "count  29504.000000  \n",
              "mean       0.064737  \n",
              "std        0.246065  \n",
              "min        0.000000  \n",
              "25%        0.000000  \n",
              "50%        0.000000  \n",
              "75%        0.000000  \n",
              "max        1.000000  \n",
              "\n",
              "[8 rows x 115 columns]"
            ],
            "text/html": [
              "\n",
              "  <div id=\"df-2a6d5755-75ed-4da9-ad91-3b4246869d73\">\n",
              "    <div class=\"colab-df-container\">\n",
              "      <div>\n",
              "<style scoped>\n",
              "    .dataframe tbody tr th:only-of-type {\n",
              "        vertical-align: middle;\n",
              "    }\n",
              "\n",
              "    .dataframe tbody tr th {\n",
              "        vertical-align: top;\n",
              "    }\n",
              "\n",
              "    .dataframe thead tr th {\n",
              "        text-align: left;\n",
              "    }\n",
              "</style>\n",
              "<table border=\"1\" class=\"dataframe\">\n",
              "  <thead>\n",
              "    <tr>\n",
              "      <th></th>\n",
              "      <th>MinTemp</th>\n",
              "      <th>MaxTemp</th>\n",
              "      <th>Rainfall</th>\n",
              "      <th>Evaporation</th>\n",
              "      <th>Sunshine</th>\n",
              "      <th>WindGustSpeed</th>\n",
              "      <th>WindSpeed9am</th>\n",
              "      <th>WindSpeed3pm</th>\n",
              "      <th>Humidity9am</th>\n",
              "      <th>Humidity3pm</th>\n",
              "      <th>...</th>\n",
              "      <th>NNW</th>\n",
              "      <th>NW</th>\n",
              "      <th>S</th>\n",
              "      <th>SE</th>\n",
              "      <th>SSE</th>\n",
              "      <th>SSW</th>\n",
              "      <th>SW</th>\n",
              "      <th>W</th>\n",
              "      <th>WNW</th>\n",
              "      <th>WSW</th>\n",
              "    </tr>\n",
              "  </thead>\n",
              "  <tbody>\n",
              "    <tr>\n",
              "      <th>count</th>\n",
              "      <td>29504.000000</td>\n",
              "      <td>29504.000000</td>\n",
              "      <td>29504.000000</td>\n",
              "      <td>29504.000000</td>\n",
              "      <td>29504.000000</td>\n",
              "      <td>29504.000000</td>\n",
              "      <td>29504.000000</td>\n",
              "      <td>29504.000000</td>\n",
              "      <td>29504.000000</td>\n",
              "      <td>29504.000000</td>\n",
              "      <td>...</td>\n",
              "      <td>29504.000000</td>\n",
              "      <td>29504.000000</td>\n",
              "      <td>29504.000000</td>\n",
              "      <td>29504.000000</td>\n",
              "      <td>29504.000000</td>\n",
              "      <td>29504.000000</td>\n",
              "      <td>29504.000000</td>\n",
              "      <td>29504.000000</td>\n",
              "      <td>29504.000000</td>\n",
              "      <td>29504.000000</td>\n",
              "    </tr>\n",
              "    <tr>\n",
              "      <th>mean</th>\n",
              "      <td>0.531414</td>\n",
              "      <td>0.508614</td>\n",
              "      <td>0.219646</td>\n",
              "      <td>0.227421</td>\n",
              "      <td>0.546192</td>\n",
              "      <td>0.259945</td>\n",
              "      <td>0.257833</td>\n",
              "      <td>0.331055</td>\n",
              "      <td>0.685351</td>\n",
              "      <td>0.518819</td>\n",
              "      <td>...</td>\n",
              "      <td>0.050569</td>\n",
              "      <td>0.059653</td>\n",
              "      <td>0.068838</td>\n",
              "      <td>0.106257</td>\n",
              "      <td>0.063788</td>\n",
              "      <td>0.052230</td>\n",
              "      <td>0.064398</td>\n",
              "      <td>0.067584</td>\n",
              "      <td>0.060161</td>\n",
              "      <td>0.064737</td>\n",
              "    </tr>\n",
              "    <tr>\n",
              "      <th>std</th>\n",
              "      <td>0.163005</td>\n",
              "      <td>0.135895</td>\n",
              "      <td>0.375954</td>\n",
              "      <td>0.130347</td>\n",
              "      <td>0.214924</td>\n",
              "      <td>0.100991</td>\n",
              "      <td>0.161363</td>\n",
              "      <td>0.152327</td>\n",
              "      <td>0.185252</td>\n",
              "      <td>0.204171</td>\n",
              "      <td>...</td>\n",
              "      <td>0.219120</td>\n",
              "      <td>0.236847</td>\n",
              "      <td>0.253183</td>\n",
              "      <td>0.308171</td>\n",
              "      <td>0.244379</td>\n",
              "      <td>0.222495</td>\n",
              "      <td>0.245465</td>\n",
              "      <td>0.251035</td>\n",
              "      <td>0.237790</td>\n",
              "      <td>0.246065</td>\n",
              "    </tr>\n",
              "    <tr>\n",
              "      <th>min</th>\n",
              "      <td>0.000000</td>\n",
              "      <td>0.000000</td>\n",
              "      <td>0.000000</td>\n",
              "      <td>0.000000</td>\n",
              "      <td>0.000000</td>\n",
              "      <td>0.000000</td>\n",
              "      <td>0.000000</td>\n",
              "      <td>0.000000</td>\n",
              "      <td>0.000000</td>\n",
              "      <td>0.000000</td>\n",
              "      <td>...</td>\n",
              "      <td>0.000000</td>\n",
              "      <td>0.000000</td>\n",
              "      <td>0.000000</td>\n",
              "      <td>0.000000</td>\n",
              "      <td>0.000000</td>\n",
              "      <td>0.000000</td>\n",
              "      <td>0.000000</td>\n",
              "      <td>0.000000</td>\n",
              "      <td>0.000000</td>\n",
              "      <td>0.000000</td>\n",
              "    </tr>\n",
              "    <tr>\n",
              "      <th>25%</th>\n",
              "      <td>0.415385</td>\n",
              "      <td>0.408203</td>\n",
              "      <td>0.000000</td>\n",
              "      <td>0.165138</td>\n",
              "      <td>0.489510</td>\n",
              "      <td>0.187500</td>\n",
              "      <td>0.127273</td>\n",
              "      <td>0.228070</td>\n",
              "      <td>0.571429</td>\n",
              "      <td>0.373737</td>\n",
              "      <td>...</td>\n",
              "      <td>0.000000</td>\n",
              "      <td>0.000000</td>\n",
              "      <td>0.000000</td>\n",
              "      <td>0.000000</td>\n",
              "      <td>0.000000</td>\n",
              "      <td>0.000000</td>\n",
              "      <td>0.000000</td>\n",
              "      <td>0.000000</td>\n",
              "      <td>0.000000</td>\n",
              "      <td>0.000000</td>\n",
              "    </tr>\n",
              "    <tr>\n",
              "      <th>50%</th>\n",
              "      <td>0.528205</td>\n",
              "      <td>0.498047</td>\n",
              "      <td>0.000000</td>\n",
              "      <td>0.211009</td>\n",
              "      <td>0.580420</td>\n",
              "      <td>0.250000</td>\n",
              "      <td>0.236364</td>\n",
              "      <td>0.333333</td>\n",
              "      <td>0.693878</td>\n",
              "      <td>0.525253</td>\n",
              "      <td>...</td>\n",
              "      <td>0.000000</td>\n",
              "      <td>0.000000</td>\n",
              "      <td>0.000000</td>\n",
              "      <td>0.000000</td>\n",
              "      <td>0.000000</td>\n",
              "      <td>0.000000</td>\n",
              "      <td>0.000000</td>\n",
              "      <td>0.000000</td>\n",
              "      <td>0.000000</td>\n",
              "      <td>0.000000</td>\n",
              "    </tr>\n",
              "    <tr>\n",
              "      <th>75%</th>\n",
              "      <td>0.653846</td>\n",
              "      <td>0.605469</td>\n",
              "      <td>0.250000</td>\n",
              "      <td>0.256881</td>\n",
              "      <td>0.657343</td>\n",
              "      <td>0.304688</td>\n",
              "      <td>0.345455</td>\n",
              "      <td>0.421053</td>\n",
              "      <td>0.826531</td>\n",
              "      <td>0.656566</td>\n",
              "      <td>...</td>\n",
              "      <td>0.000000</td>\n",
              "      <td>0.000000</td>\n",
              "      <td>0.000000</td>\n",
              "      <td>0.000000</td>\n",
              "      <td>0.000000</td>\n",
              "      <td>0.000000</td>\n",
              "      <td>0.000000</td>\n",
              "      <td>0.000000</td>\n",
              "      <td>0.000000</td>\n",
              "      <td>0.000000</td>\n",
              "    </tr>\n",
              "    <tr>\n",
              "      <th>max</th>\n",
              "      <td>1.000000</td>\n",
              "      <td>1.000000</td>\n",
              "      <td>1.000000</td>\n",
              "      <td>1.000000</td>\n",
              "      <td>1.000000</td>\n",
              "      <td>1.000000</td>\n",
              "      <td>1.000000</td>\n",
              "      <td>1.000000</td>\n",
              "      <td>1.000000</td>\n",
              "      <td>1.000000</td>\n",
              "      <td>...</td>\n",
              "      <td>1.000000</td>\n",
              "      <td>1.000000</td>\n",
              "      <td>1.000000</td>\n",
              "      <td>1.000000</td>\n",
              "      <td>1.000000</td>\n",
              "      <td>1.000000</td>\n",
              "      <td>1.000000</td>\n",
              "      <td>1.000000</td>\n",
              "      <td>1.000000</td>\n",
              "      <td>1.000000</td>\n",
              "    </tr>\n",
              "  </tbody>\n",
              "</table>\n",
              "<p>8 rows × 115 columns</p>\n",
              "</div>\n",
              "      <button class=\"colab-df-convert\" onclick=\"convertToInteractive('df-2a6d5755-75ed-4da9-ad91-3b4246869d73')\"\n",
              "              title=\"Convert this dataframe to an interactive table.\"\n",
              "              style=\"display:none;\">\n",
              "        \n",
              "  <svg xmlns=\"http://www.w3.org/2000/svg\" height=\"24px\"viewBox=\"0 0 24 24\"\n",
              "       width=\"24px\">\n",
              "    <path d=\"M0 0h24v24H0V0z\" fill=\"none\"/>\n",
              "    <path d=\"M18.56 5.44l.94 2.06.94-2.06 2.06-.94-2.06-.94-.94-2.06-.94 2.06-2.06.94zm-11 1L8.5 8.5l.94-2.06 2.06-.94-2.06-.94L8.5 2.5l-.94 2.06-2.06.94zm10 10l.94 2.06.94-2.06 2.06-.94-2.06-.94-.94-2.06-.94 2.06-2.06.94z\"/><path d=\"M17.41 7.96l-1.37-1.37c-.4-.4-.92-.59-1.43-.59-.52 0-1.04.2-1.43.59L10.3 9.45l-7.72 7.72c-.78.78-.78 2.05 0 2.83L4 21.41c.39.39.9.59 1.41.59.51 0 1.02-.2 1.41-.59l7.78-7.78 2.81-2.81c.8-.78.8-2.07 0-2.86zM5.41 20L4 18.59l7.72-7.72 1.47 1.35L5.41 20z\"/>\n",
              "  </svg>\n",
              "      </button>\n",
              "      \n",
              "  <style>\n",
              "    .colab-df-container {\n",
              "      display:flex;\n",
              "      flex-wrap:wrap;\n",
              "      gap: 12px;\n",
              "    }\n",
              "\n",
              "    .colab-df-convert {\n",
              "      background-color: #E8F0FE;\n",
              "      border: none;\n",
              "      border-radius: 50%;\n",
              "      cursor: pointer;\n",
              "      display: none;\n",
              "      fill: #1967D2;\n",
              "      height: 32px;\n",
              "      padding: 0 0 0 0;\n",
              "      width: 32px;\n",
              "    }\n",
              "\n",
              "    .colab-df-convert:hover {\n",
              "      background-color: #E2EBFA;\n",
              "      box-shadow: 0px 1px 2px rgba(60, 64, 67, 0.3), 0px 1px 3px 1px rgba(60, 64, 67, 0.15);\n",
              "      fill: #174EA6;\n",
              "    }\n",
              "\n",
              "    [theme=dark] .colab-df-convert {\n",
              "      background-color: #3B4455;\n",
              "      fill: #D2E3FC;\n",
              "    }\n",
              "\n",
              "    [theme=dark] .colab-df-convert:hover {\n",
              "      background-color: #434B5C;\n",
              "      box-shadow: 0px 1px 3px 1px rgba(0, 0, 0, 0.15);\n",
              "      filter: drop-shadow(0px 1px 2px rgba(0, 0, 0, 0.3));\n",
              "      fill: #FFFFFF;\n",
              "    }\n",
              "  </style>\n",
              "\n",
              "      <script>\n",
              "        const buttonEl =\n",
              "          document.querySelector('#df-2a6d5755-75ed-4da9-ad91-3b4246869d73 button.colab-df-convert');\n",
              "        buttonEl.style.display =\n",
              "          google.colab.kernel.accessAllowed ? 'block' : 'none';\n",
              "\n",
              "        async function convertToInteractive(key) {\n",
              "          const element = document.querySelector('#df-2a6d5755-75ed-4da9-ad91-3b4246869d73');\n",
              "          const dataTable =\n",
              "            await google.colab.kernel.invokeFunction('convertToInteractive',\n",
              "                                                     [key], {});\n",
              "          if (!dataTable) return;\n",
              "\n",
              "          const docLinkHtml = 'Like what you see? Visit the ' +\n",
              "            '<a target=\"_blank\" href=https://colab.research.google.com/notebooks/data_table.ipynb>data table notebook</a>'\n",
              "            + ' to learn more about interactive tables.';\n",
              "          element.innerHTML = '';\n",
              "          dataTable['output_type'] = 'display_data';\n",
              "          await google.colab.output.renderOutput(dataTable, element);\n",
              "          const docLink = document.createElement('div');\n",
              "          docLink.innerHTML = docLinkHtml;\n",
              "          element.appendChild(docLink);\n",
              "        }\n",
              "      </script>\n",
              "    </div>\n",
              "  </div>\n",
              "  "
            ]
          },
          "metadata": {},
          "execution_count": 340
        }
      ],
      "source": [
        "X_train.describe()"
      ]
    },
    {
      "cell_type": "markdown",
      "metadata": {
        "id": "jRTE6NErY5GI"
      },
      "source": [
        "We now have `X_train` dataset ready to be fed into the Logistic Regression classifier. I will do it as follows."
      ]
    },
    {
      "cell_type": "markdown",
      "metadata": {
        "id": "mbSI3oN_Y5GI"
      },
      "source": [
        "## 12. Model training"
      ]
    },
    {
      "cell_type": "code",
      "source": [
        "#checking x_train null values"
      ],
      "metadata": {
        "colab": {
          "base_uri": "https://localhost:8080/"
        },
        "id": "ISixoEDtkuPI",
        "outputId": "b25e914d-1d10-47b3-f89d-216d73e24184"
      },
      "execution_count": null,
      "outputs": [
        {
          "output_type": "execute_result",
          "data": {
            "text/plain": [
              "MinTemp        0\n",
              "MaxTemp        0\n",
              "Rainfall       0\n",
              "Evaporation    0\n",
              "Sunshine       0\n",
              "              ..\n",
              "SSW            0\n",
              "SW             0\n",
              "W              0\n",
              "WNW            0\n",
              "WSW            0\n",
              "Length: 115, dtype: int64"
            ]
          },
          "metadata": {},
          "execution_count": 341
        }
      ]
    },
    {
      "cell_type": "code",
      "source": [
        "# drop the nan values from x_train"
      ],
      "metadata": {
        "id": "pOSdDiNoj2xb"
      },
      "execution_count": null,
      "outputs": []
    },
    {
      "cell_type": "code",
      "source": [
        "#drop the nan value from y_train"
      ],
      "metadata": {
        "colab": {
          "base_uri": "https://localhost:8080/"
        },
        "id": "7fB6UFU0k4xa",
        "outputId": "4fa49612-6491-4857-ed10-71d8a1be3f19"
      },
      "execution_count": null,
      "outputs": [
        {
          "output_type": "execute_result",
          "data": {
            "text/plain": [
              "17784     No\n",
              "29428     No\n",
              "33597     No\n",
              "25145     No\n",
              "8107      No\n",
              "        ... \n",
              "20757     No\n",
              "32103    Yes\n",
              "30403     No\n",
              "21243     No\n",
              "2732      No\n",
              "Name: RainTomorrow, Length: 28999, dtype: object"
            ]
          },
          "metadata": {},
          "execution_count": 343
        }
      ]
    },
    {
      "cell_type": "code",
      "source": [
        ""
      ],
      "metadata": {
        "colab": {
          "base_uri": "https://localhost:8080/"
        },
        "id": "NSY5azZrl9Dc",
        "outputId": "a2d33400-1841-4889-8d69-387674a56d0d"
      },
      "execution_count": null,
      "outputs": [
        {
          "output_type": "execute_result",
          "data": {
            "text/plain": [
              "False"
            ]
          },
          "metadata": {},
          "execution_count": 344
        }
      ]
    },
    {
      "cell_type": "code",
      "source": [
        "#np.any(np.isnan(y_train))"
      ],
      "metadata": {
        "id": "WtisNOyXmNcx"
      },
      "execution_count": null,
      "outputs": []
    },
    {
      "cell_type": "code",
      "source": [
        "np.nan_to_num(X_train)"
      ],
      "metadata": {
        "colab": {
          "base_uri": "https://localhost:8080/"
        },
        "id": "PdZjQYJCm81h",
        "outputId": "bdaf2e68-0a42-4772-df7f-763e287e9398"
      },
      "execution_count": null,
      "outputs": [
        {
          "output_type": "execute_result",
          "data": {
            "text/plain": [
              "array([[0.67179487, 0.54882812, 0.        , ..., 0.        , 0.        ,\n",
              "        0.        ],\n",
              "       [0.70769231, 0.52929688, 0.        , ..., 0.        , 0.        ,\n",
              "        0.        ],\n",
              "       [0.31794872, 0.33007812, 0.375     , ..., 0.        , 0.        ,\n",
              "        0.        ],\n",
              "       ...,\n",
              "       [0.49230769, 0.56445312, 0.        , ..., 0.        , 0.        ,\n",
              "        0.        ],\n",
              "       [0.75897436, 0.5703125 , 0.        , ..., 0.        , 0.        ,\n",
              "        0.        ],\n",
              "       [0.65384615, 0.54101562, 1.        , ..., 0.        , 0.        ,\n",
              "        0.        ]])"
            ]
          },
          "metadata": {},
          "execution_count": 346
        }
      ]
    },
    {
      "cell_type": "code",
      "source": [
        "#fill the x_train nan value with mean value."
      ],
      "metadata": {
        "id": "UbUjbA6XoQkH"
      },
      "execution_count": null,
      "outputs": []
    },
    {
      "cell_type": "code",
      "source": [
        "y_train.head()\n",
        "# fill the y_train nan value with mode "
      ],
      "metadata": {
        "id": "fAg_1rF2oVpk"
      },
      "execution_count": null,
      "outputs": []
    },
    {
      "cell_type": "code",
      "source": [
        "#np.any(np.isnan(X_train))\n",
        "pd.isnull(y_train)\n",
        "pd.isna(y_train)"
      ],
      "metadata": {
        "colab": {
          "base_uri": "https://localhost:8080/"
        },
        "id": "N1mFFdwaow_N",
        "outputId": "2583d6cf-7ed0-4569-8605-552f7fb62362"
      },
      "execution_count": null,
      "outputs": [
        {
          "output_type": "execute_result",
          "data": {
            "text/plain": [
              "17784    False\n",
              "29428    False\n",
              "33597    False\n",
              "25145    False\n",
              "8107     False\n",
              "         ...  \n",
              "20757    False\n",
              "32103    False\n",
              "30403    False\n",
              "21243    False\n",
              "2732     False\n",
              "Name: RainTomorrow, Length: 29504, dtype: bool"
            ]
          },
          "metadata": {},
          "execution_count": 349
        }
      ]
    },
    {
      "cell_type": "code",
      "execution_count": null,
      "metadata": {
        "id": "bSWoFsWtY5GI",
        "outputId": "ac117283-36b9-4adf-f7b6-ee4372629b63",
        "colab": {
          "base_uri": "https://localhost:8080/",
          "height": 346
        }
      },
      "outputs": [
        {
          "output_type": "error",
          "ename": "ValueError",
          "evalue": "ignored",
          "traceback": [
            "\u001b[0;31m---------------------------------------------------------------------------\u001b[0m",
            "\u001b[0;31mValueError\u001b[0m                                Traceback (most recent call last)",
            "\u001b[0;32m<ipython-input-350-a01d45e17ff9>\u001b[0m in \u001b[0;36m<module>\u001b[0;34m()\u001b[0m\n\u001b[1;32m      8\u001b[0m \u001b[0;34m\u001b[0m\u001b[0m\n\u001b[1;32m      9\u001b[0m \u001b[0;31m# fit the model\u001b[0m\u001b[0;34m\u001b[0m\u001b[0;34m\u001b[0m\u001b[0;34m\u001b[0m\u001b[0m\n\u001b[0;32m---> 10\u001b[0;31m \u001b[0mlogreg\u001b[0m\u001b[0;34m.\u001b[0m\u001b[0mfit\u001b[0m\u001b[0;34m(\u001b[0m\u001b[0mX_train\u001b[0m\u001b[0;34m,\u001b[0m\u001b[0my_train\u001b[0m\u001b[0;34m)\u001b[0m\u001b[0;34m\u001b[0m\u001b[0;34m\u001b[0m\u001b[0m\n\u001b[0m",
            "\u001b[0;32m/usr/local/lib/python3.7/dist-packages/sklearn/linear_model/_logistic.py\u001b[0m in \u001b[0;36mfit\u001b[0;34m(self, X, y, sample_weight)\u001b[0m\n\u001b[1;32m   1512\u001b[0m             \u001b[0mdtype\u001b[0m\u001b[0;34m=\u001b[0m\u001b[0m_dtype\u001b[0m\u001b[0;34m,\u001b[0m\u001b[0;34m\u001b[0m\u001b[0;34m\u001b[0m\u001b[0m\n\u001b[1;32m   1513\u001b[0m             \u001b[0morder\u001b[0m\u001b[0;34m=\u001b[0m\u001b[0;34m\"C\"\u001b[0m\u001b[0;34m,\u001b[0m\u001b[0;34m\u001b[0m\u001b[0;34m\u001b[0m\u001b[0m\n\u001b[0;32m-> 1514\u001b[0;31m             \u001b[0maccept_large_sparse\u001b[0m\u001b[0;34m=\u001b[0m\u001b[0msolver\u001b[0m \u001b[0;32mnot\u001b[0m \u001b[0;32min\u001b[0m \u001b[0;34m[\u001b[0m\u001b[0;34m\"liblinear\"\u001b[0m\u001b[0;34m,\u001b[0m \u001b[0;34m\"sag\"\u001b[0m\u001b[0;34m,\u001b[0m \u001b[0;34m\"saga\"\u001b[0m\u001b[0;34m]\u001b[0m\u001b[0;34m,\u001b[0m\u001b[0;34m\u001b[0m\u001b[0;34m\u001b[0m\u001b[0m\n\u001b[0m\u001b[1;32m   1515\u001b[0m         )\n\u001b[1;32m   1516\u001b[0m         \u001b[0mcheck_classification_targets\u001b[0m\u001b[0;34m(\u001b[0m\u001b[0my\u001b[0m\u001b[0;34m)\u001b[0m\u001b[0;34m\u001b[0m\u001b[0;34m\u001b[0m\u001b[0m\n",
            "\u001b[0;32m/usr/local/lib/python3.7/dist-packages/sklearn/base.py\u001b[0m in \u001b[0;36m_validate_data\u001b[0;34m(self, X, y, reset, validate_separately, **check_params)\u001b[0m\n\u001b[1;32m    579\u001b[0m                 \u001b[0my\u001b[0m \u001b[0;34m=\u001b[0m \u001b[0mcheck_array\u001b[0m\u001b[0;34m(\u001b[0m\u001b[0my\u001b[0m\u001b[0;34m,\u001b[0m \u001b[0;34m**\u001b[0m\u001b[0mcheck_y_params\u001b[0m\u001b[0;34m)\u001b[0m\u001b[0;34m\u001b[0m\u001b[0;34m\u001b[0m\u001b[0m\n\u001b[1;32m    580\u001b[0m             \u001b[0;32melse\u001b[0m\u001b[0;34m:\u001b[0m\u001b[0;34m\u001b[0m\u001b[0;34m\u001b[0m\u001b[0m\n\u001b[0;32m--> 581\u001b[0;31m                 \u001b[0mX\u001b[0m\u001b[0;34m,\u001b[0m \u001b[0my\u001b[0m \u001b[0;34m=\u001b[0m \u001b[0mcheck_X_y\u001b[0m\u001b[0;34m(\u001b[0m\u001b[0mX\u001b[0m\u001b[0;34m,\u001b[0m \u001b[0my\u001b[0m\u001b[0;34m,\u001b[0m \u001b[0;34m**\u001b[0m\u001b[0mcheck_params\u001b[0m\u001b[0;34m)\u001b[0m\u001b[0;34m\u001b[0m\u001b[0;34m\u001b[0m\u001b[0m\n\u001b[0m\u001b[1;32m    582\u001b[0m             \u001b[0mout\u001b[0m \u001b[0;34m=\u001b[0m \u001b[0mX\u001b[0m\u001b[0;34m,\u001b[0m \u001b[0my\u001b[0m\u001b[0;34m\u001b[0m\u001b[0;34m\u001b[0m\u001b[0m\n\u001b[1;32m    583\u001b[0m \u001b[0;34m\u001b[0m\u001b[0m\n",
            "\u001b[0;32m/usr/local/lib/python3.7/dist-packages/sklearn/utils/validation.py\u001b[0m in \u001b[0;36mcheck_X_y\u001b[0;34m(X, y, accept_sparse, accept_large_sparse, dtype, order, copy, force_all_finite, ensure_2d, allow_nd, multi_output, ensure_min_samples, ensure_min_features, y_numeric, estimator)\u001b[0m\n\u001b[1;32m    977\u001b[0m     )\n\u001b[1;32m    978\u001b[0m \u001b[0;34m\u001b[0m\u001b[0m\n\u001b[0;32m--> 979\u001b[0;31m     \u001b[0my\u001b[0m \u001b[0;34m=\u001b[0m \u001b[0m_check_y\u001b[0m\u001b[0;34m(\u001b[0m\u001b[0my\u001b[0m\u001b[0;34m,\u001b[0m \u001b[0mmulti_output\u001b[0m\u001b[0;34m=\u001b[0m\u001b[0mmulti_output\u001b[0m\u001b[0;34m,\u001b[0m \u001b[0my_numeric\u001b[0m\u001b[0;34m=\u001b[0m\u001b[0my_numeric\u001b[0m\u001b[0;34m)\u001b[0m\u001b[0;34m\u001b[0m\u001b[0;34m\u001b[0m\u001b[0m\n\u001b[0m\u001b[1;32m    980\u001b[0m \u001b[0;34m\u001b[0m\u001b[0m\n\u001b[1;32m    981\u001b[0m     \u001b[0mcheck_consistent_length\u001b[0m\u001b[0;34m(\u001b[0m\u001b[0mX\u001b[0m\u001b[0;34m,\u001b[0m \u001b[0my\u001b[0m\u001b[0;34m)\u001b[0m\u001b[0;34m\u001b[0m\u001b[0;34m\u001b[0m\u001b[0m\n",
            "\u001b[0;32m/usr/local/lib/python3.7/dist-packages/sklearn/utils/validation.py\u001b[0m in \u001b[0;36m_check_y\u001b[0;34m(y, multi_output, y_numeric)\u001b[0m\n\u001b[1;32m    992\u001b[0m     \u001b[0;32melse\u001b[0m\u001b[0;34m:\u001b[0m\u001b[0;34m\u001b[0m\u001b[0;34m\u001b[0m\u001b[0m\n\u001b[1;32m    993\u001b[0m         \u001b[0my\u001b[0m \u001b[0;34m=\u001b[0m \u001b[0mcolumn_or_1d\u001b[0m\u001b[0;34m(\u001b[0m\u001b[0my\u001b[0m\u001b[0;34m,\u001b[0m \u001b[0mwarn\u001b[0m\u001b[0;34m=\u001b[0m\u001b[0;32mTrue\u001b[0m\u001b[0;34m)\u001b[0m\u001b[0;34m\u001b[0m\u001b[0;34m\u001b[0m\u001b[0m\n\u001b[0;32m--> 994\u001b[0;31m         \u001b[0m_assert_all_finite\u001b[0m\u001b[0;34m(\u001b[0m\u001b[0my\u001b[0m\u001b[0;34m)\u001b[0m\u001b[0;34m\u001b[0m\u001b[0;34m\u001b[0m\u001b[0m\n\u001b[0m\u001b[1;32m    995\u001b[0m         \u001b[0m_ensure_no_complex_data\u001b[0m\u001b[0;34m(\u001b[0m\u001b[0my\u001b[0m\u001b[0;34m)\u001b[0m\u001b[0;34m\u001b[0m\u001b[0;34m\u001b[0m\u001b[0m\n\u001b[1;32m    996\u001b[0m     \u001b[0;32mif\u001b[0m \u001b[0my_numeric\u001b[0m \u001b[0;32mand\u001b[0m \u001b[0my\u001b[0m\u001b[0;34m.\u001b[0m\u001b[0mdtype\u001b[0m\u001b[0;34m.\u001b[0m\u001b[0mkind\u001b[0m \u001b[0;34m==\u001b[0m \u001b[0;34m\"O\"\u001b[0m\u001b[0;34m:\u001b[0m\u001b[0;34m\u001b[0m\u001b[0;34m\u001b[0m\u001b[0m\n",
            "\u001b[0;32m/usr/local/lib/python3.7/dist-packages/sklearn/utils/validation.py\u001b[0m in \u001b[0;36m_assert_all_finite\u001b[0;34m(X, allow_nan, msg_dtype)\u001b[0m\n\u001b[1;32m    120\u001b[0m     \u001b[0;32melif\u001b[0m \u001b[0mX\u001b[0m\u001b[0;34m.\u001b[0m\u001b[0mdtype\u001b[0m \u001b[0;34m==\u001b[0m \u001b[0mnp\u001b[0m\u001b[0;34m.\u001b[0m\u001b[0mdtype\u001b[0m\u001b[0;34m(\u001b[0m\u001b[0;34m\"object\"\u001b[0m\u001b[0;34m)\u001b[0m \u001b[0;32mand\u001b[0m \u001b[0;32mnot\u001b[0m \u001b[0mallow_nan\u001b[0m\u001b[0;34m:\u001b[0m\u001b[0;34m\u001b[0m\u001b[0;34m\u001b[0m\u001b[0m\n\u001b[1;32m    121\u001b[0m         \u001b[0;32mif\u001b[0m \u001b[0m_object_dtype_isnan\u001b[0m\u001b[0;34m(\u001b[0m\u001b[0mX\u001b[0m\u001b[0;34m)\u001b[0m\u001b[0;34m.\u001b[0m\u001b[0many\u001b[0m\u001b[0;34m(\u001b[0m\u001b[0;34m)\u001b[0m\u001b[0;34m:\u001b[0m\u001b[0;34m\u001b[0m\u001b[0;34m\u001b[0m\u001b[0m\n\u001b[0;32m--> 122\u001b[0;31m             \u001b[0;32mraise\u001b[0m \u001b[0mValueError\u001b[0m\u001b[0;34m(\u001b[0m\u001b[0;34m\"Input contains NaN\"\u001b[0m\u001b[0;34m)\u001b[0m\u001b[0;34m\u001b[0m\u001b[0;34m\u001b[0m\u001b[0m\n\u001b[0m\u001b[1;32m    123\u001b[0m \u001b[0;34m\u001b[0m\u001b[0m\n\u001b[1;32m    124\u001b[0m \u001b[0;34m\u001b[0m\u001b[0m\n",
            "\u001b[0;31mValueError\u001b[0m: Input contains NaN"
          ]
        }
      ],
      "source": [
        "# train a logistic regression model on the training set\n",
        "from sklearn.linear_model import LogisticRegression\n",
        "\n",
        "\n",
        "# instantiate the model\n",
        "#LogisticRegression(solver='liblinear', random_state=0)\n",
        "\n",
        "\n",
        "# fit the model\n",
        "\n"
      ]
    },
    {
      "cell_type": "markdown",
      "metadata": {
        "id": "4aWIGj8XY5GI"
      },
      "source": [
        "## 13. Predict results"
      ]
    },
    {
      "cell_type": "code",
      "execution_count": null,
      "metadata": {
        "id": "rpqlRVxDY5GI"
      },
      "outputs": [],
      "source": [
        "# predict the value from x_test\n"
      ]
    },
    {
      "cell_type": "markdown",
      "metadata": {
        "id": "fZg4h_V5Y5GI"
      },
      "source": [
        "### predict_proba method\n",
        "\n",
        "\n",
        "**predict_proba** method gives the probabilities for the target variable(0 and 1) in this case, in array form.\n",
        "\n",
        "`0 is for probability of no rain` and `1 is for probability of rain.`"
      ]
    },
    {
      "cell_type": "code",
      "execution_count": null,
      "metadata": {
        "id": "DBGIZPFFY5GJ"
      },
      "outputs": [],
      "source": [
        "# probability of getting output as 0 - no rain\n",
        "\n",
        "logreg.predict_proba(X_test)[:,0]"
      ]
    },
    {
      "cell_type": "code",
      "execution_count": null,
      "metadata": {
        "id": "5rqXFhnzY5GJ"
      },
      "outputs": [],
      "source": [
        "# probability of getting output as 1 - rain\n",
        "\n",
        "logreg.predict_proba(X_test)[:,1]"
      ]
    },
    {
      "cell_type": "markdown",
      "metadata": {
        "id": "8ygL9GR-Y5GJ"
      },
      "source": [
        "## 14. Check accuracy score"
      ]
    },
    {
      "cell_type": "code",
      "execution_count": null,
      "metadata": {
        "id": "bxQ8G8gSY5GJ"
      },
      "outputs": [],
      "source": [
        "from sklearn.metrics import accuracy_score\n",
        "# print the accuracy score of y_test, y_predicted"
      ]
    },
    {
      "cell_type": "markdown",
      "metadata": {
        "id": "rSkudzZfY5GJ"
      },
      "source": [
        "Here, **y_test** are the true class labels and **y_pred_test** are the predicted class labels in the test-set."
      ]
    },
    {
      "cell_type": "markdown",
      "metadata": {
        "id": "C4Pf_97ZY5GJ"
      },
      "source": [
        "### Compare the train-set and test-set accuracy\n",
        "\n",
        "\n",
        "Now, I will compare the train-set and test-set accuracy to check for overfitting."
      ]
    },
    {
      "cell_type": "code",
      "execution_count": null,
      "metadata": {
        "id": "9AsRL4tIY5GK"
      },
      "outputs": [],
      "source": [
        "y_pred_train = logreg.predict(X_train)\n",
        "\n",
        "y_pred_train"
      ]
    },
    {
      "cell_type": "code",
      "execution_count": null,
      "metadata": {
        "id": "F1GuHBFzY5GK"
      },
      "outputs": [],
      "source": [
        "print('Training-set accuracy score: {0:0.4f}'. format(accuracy_score(y_train, y_pred_train)))"
      ]
    },
    {
      "cell_type": "markdown",
      "metadata": {
        "id": "02l9dtUfY5GK"
      },
      "source": [
        "### Check for overfitting and underfitting"
      ]
    },
    {
      "cell_type": "code",
      "execution_count": null,
      "metadata": {
        "id": "Kpy-U4RcY5GK"
      },
      "outputs": [],
      "source": [
        "# print the scores on training and test set\n",
        "\n",
        "print('Training set score: {:.4f}'.format(logreg.score(X_train, y_train)))\n",
        "\n",
        "print('Test set score: {:.4f}'.format(logreg.score(X_test, y_test)))"
      ]
    },
    {
      "cell_type": "markdown",
      "metadata": {
        "id": "iQjZ8JKKY5GK"
      },
      "source": [
        "The training-set accuracy score is 0.8476 while the test-set accuracy to be 0.8501. These two values are quite comparable. So, there is no question of overfitting. \n"
      ]
    },
    {
      "cell_type": "markdown",
      "metadata": {
        "id": "nZ45RBpXY5GK"
      },
      "source": [
        "In Logistic Regression, we use default value of C = 1. It provides good performance with approximately 85% accuracy on both the training and the test set. But the model performance on both the training and test set are very comparable. It is likely the case of underfitting. \n",
        "\n",
        "I will increase C and fit a more flexible model."
      ]
    },
    {
      "cell_type": "code",
      "execution_count": null,
      "metadata": {
        "id": "jWw3D7IcY5GK"
      },
      "outputs": [],
      "source": [
        "# fit the Logsitic Regression model with C=100\n",
        "\n",
        "# instantiate the model\n",
        "# parameter c=100 \n",
        "# LogisticRegression(C=100, solver='liblinear', random_state=0)\n",
        "\n",
        "\n",
        "# fit the model"
      ]
    },
    {
      "cell_type": "code",
      "execution_count": null,
      "metadata": {
        "id": "kHyqMMfKY5GL"
      },
      "outputs": [],
      "source": [
        "# print the scores on training and test set\n",
        "\n"
      ]
    },
    {
      "cell_type": "markdown",
      "metadata": {
        "id": "OUCtK5DWY5GL"
      },
      "source": [
        "We can see that, C=100 results in higher test set accuracy and also a slightly increased training set accuracy. So, we can conclude that a more complex model should perform better."
      ]
    },
    {
      "cell_type": "markdown",
      "metadata": {
        "id": "x_1UyZnrY5GL"
      },
      "source": [
        "Now, I will investigate, what happens if we use more regularized model than the default value of C=1, by setting C=0.01."
      ]
    },
    {
      "cell_type": "code",
      "execution_count": null,
      "metadata": {
        "id": "DhgGWTZnY5GL"
      },
      "outputs": [],
      "source": [
        "# fit the Logsitic Regression model with C=001\n",
        "\n",
        "# instantiate the model\n",
        "# keep now c=0.01\n",
        "#LogisticRegression(C=0.01, solver='liblinear', random_state=0)\n",
        "\n",
        "\n",
        "# fit the model\n"
      ]
    },
    {
      "cell_type": "code",
      "execution_count": null,
      "metadata": {
        "id": "yJPbCTReY5GL"
      },
      "outputs": [],
      "source": [
        "# print the scores on training and test set\n"
      ]
    },
    {
      "cell_type": "markdown",
      "metadata": {
        "id": "-Aw1xRlZY5GL"
      },
      "source": [
        "So, if we use more regularized model by setting C=0.01, then both the training and test set accuracy decrease relatiev to the default parameters."
      ]
    },
    {
      "cell_type": "markdown",
      "metadata": {
        "id": "thqLwt9BY5GM"
      },
      "source": [
        "### Compare model accuracy with null accuracy\n",
        "\n",
        "\n",
        "So, the model accuracy is 0.8501. But, we cannot say that our model is very good based on the above accuracy. We must compare it with the **null accuracy**. Null accuracy is the accuracy that could be achieved by always predicting the most frequent class.\n",
        "\n",
        "So, we should first check the class distribution in the test set. "
      ]
    },
    {
      "cell_type": "code",
      "execution_count": null,
      "metadata": {
        "id": "7YjoMDL_Y5GM"
      },
      "outputs": [],
      "source": [
        "# check class distribution in test set\n",
        "\n",
        "y_test.value_counts()"
      ]
    },
    {
      "cell_type": "markdown",
      "metadata": {
        "id": "pmcBen_SY5GM"
      },
      "source": [
        "We can see that the occurences of most frequent class is 22067. So, we can calculate null accuracy by dividing 22067 by total number of occurences."
      ]
    },
    {
      "cell_type": "code",
      "execution_count": null,
      "metadata": {
        "id": "1Cki5u5jY5GM"
      },
      "outputs": [],
      "source": [
        "# check null accuracy score\n",
        "\n",
        "null_accuracy = (22067/(22067+6372))\n",
        "\n",
        "print('Null accuracy score: {0:0.4f}'. format(null_accuracy))"
      ]
    },
    {
      "cell_type": "markdown",
      "metadata": {
        "id": "IfWW7nR_Y5GM"
      },
      "source": [
        "We can see that our model accuracy score is 0.8501 but null accuracy score is 0.7759. So, we can conclude that our Logistic Regression model is doing a very good job in predicting the class labels."
      ]
    },
    {
      "cell_type": "markdown",
      "metadata": {
        "id": "Rqc6d0g9Y5GM"
      },
      "source": [
        "Now, based on the above analysis we can conclude that our classification model accuracy is very good. Our model is doing a very good job in terms of predicting the class labels.\n",
        "\n",
        "\n",
        "But, it does not give the underlying distribution of values. Also, it does not tell anything about the type of errors our classifer is making. \n",
        "\n",
        "\n",
        "We have another tool called `Confusion matrix` that comes to our rescue."
      ]
    },
    {
      "cell_type": "markdown",
      "metadata": {
        "id": "FfX4qLmCY5GM"
      },
      "source": [
        "## 15. Confusion matrix\n",
        "\n",
        "\n",
        "A confusion matrix is a tool for summarizing the performance of a classification algorithm. A confusion matrix will give us a clear picture of classification model performance and the types of errors produced by the model. It gives us a summary of correct and incorrect predictions broken down by each category. The summary is represented in a tabular form.\n",
        "\n",
        "\n",
        "Four types of outcomes are possible while evaluating a classification model performance. These four outcomes are described below:-\n",
        "\n",
        "\n",
        "**True Positives (TP)** – True Positives occur when we predict an observation belongs to a certain class and the observation actually belongs to that class.\n",
        "\n",
        "\n",
        "**True Negatives (TN)** – True Negatives occur when we predict an observation does not belong to a certain class and the observation actually does not belong to that class.\n",
        "\n",
        "\n",
        "**False Positives (FP)** – False Positives occur when we predict an observation belongs to a    certain class but the observation actually does not belong to that class. This type of error is called **Type I error.**\n",
        "\n",
        "\n",
        "\n",
        "**False Negatives (FN)** – False Negatives occur when we predict an observation does not belong to a certain class but the observation actually belongs to that class. This is a very serious error and it is called **Type II error.**\n",
        "\n",
        "\n",
        "\n",
        "These four outcomes are summarized in a confusion matrix given below.\n"
      ]
    },
    {
      "cell_type": "code",
      "execution_count": null,
      "metadata": {
        "id": "h3vG7qJ3Y5GN"
      },
      "outputs": [],
      "source": [
        "# Print the Confusion Matrix and slice it into four pieces\n",
        "\n",
        "from sklearn.metrics import confusion_matrix\n",
        "\n",
        "cm = confusion_matrix(y_test, y_pred_test)\n",
        "\n",
        "#print 'Confusion matrix\\n\\n'\n",
        "\n",
        "#print '\\nTrue Positives(TP) = '\n",
        "\n",
        "#print '\\nTrue Negatives(TN) = '\n",
        "\n",
        "#print '\\nFalse Positives(FP) = '\n",
        "\n",
        "#print '\\nFalse Negatives(FN) = '"
      ]
    },
    {
      "cell_type": "markdown",
      "metadata": {
        "id": "4bDLQ20bY5GN"
      },
      "source": [
        "The confusion matrix shows `20892 + 3285 = 24177 correct predictions` and `3087 + 1175 = 4262 incorrect predictions`.\n",
        "\n",
        "\n",
        "In this case, we have\n",
        "\n",
        "\n",
        "- `True Positives` (Actual Positive:1 and Predict Positive:1) - 20892\n",
        "\n",
        "\n",
        "- `True Negatives` (Actual Negative:0 and Predict Negative:0) - 3285\n",
        "\n",
        "\n",
        "- `False Positives` (Actual Negative:0 but Predict Positive:1) - 1175 `(Type I error)`\n",
        "\n",
        "\n",
        "- `False Negatives` (Actual Positive:1 but Predict Negative:0) - 3087 `(Type II error)`"
      ]
    },
    {
      "cell_type": "code",
      "execution_count": null,
      "metadata": {
        "id": "1IeZJsMOY5GN"
      },
      "outputs": [],
      "source": [
        "# visualize confusion matrix with seaborn heatmap\n",
        "\n",
        "cm_matrix = pd.DataFrame(data=cm, columns=['Actual Positive:1', 'Actual Negative:0'], \n",
        "                                 index=['Predict Positive:1', 'Predict Negative:0'])\n",
        "\n",
        "sns.heatmap(cm_matrix, annot=True, fmt='d', cmap='YlGnBu')"
      ]
    },
    {
      "cell_type": "markdown",
      "metadata": {
        "id": "DPwVvumlY5GN"
      },
      "source": [
        "## 16. Classification metrices"
      ]
    },
    {
      "cell_type": "markdown",
      "metadata": {
        "id": "0M7Dyvn4Y5GN"
      },
      "source": [
        "### Classification Report\n",
        "\n",
        "\n",
        "**Classification report** is another way to evaluate the classification model performance. It displays the  **precision**, **recall**, **f1** and **support** scores for the model. I have described these terms in later.\n",
        "\n",
        "We can print a classification report as follows:-"
      ]
    },
    {
      "cell_type": "code",
      "execution_count": null,
      "metadata": {
        "id": "1692TPWeY5GO"
      },
      "outputs": [],
      "source": [
        "from sklearn.metrics import classification_report\n",
        "\n",
        "print(classification_report(y_test, y_pred_test))"
      ]
    },
    {
      "cell_type": "markdown",
      "metadata": {
        "id": "bgceCducY5GO"
      },
      "source": [
        "### Classification accuracy"
      ]
    },
    {
      "cell_type": "code",
      "execution_count": null,
      "metadata": {
        "id": "ENI3sZfwY5GO"
      },
      "outputs": [],
      "source": [
        "TP = cm[0,0]\n",
        "TN = cm[1,1]\n",
        "FP = cm[0,1]\n",
        "FN = cm[1,0]"
      ]
    },
    {
      "cell_type": "code",
      "execution_count": null,
      "metadata": {
        "id": "k7fkkBzOY5GO"
      },
      "outputs": [],
      "source": [
        "# print classification accuracy\n",
        "\n",
        "classification_accuracy = (TP + TN) / float(TP + TN + FP + FN)\n",
        "\n",
        "print('Classification accuracy : {0:0.4f}'.format(classification_accuracy))\n"
      ]
    },
    {
      "cell_type": "markdown",
      "metadata": {
        "id": "Ig_8Ot8gY5GO"
      },
      "source": [
        "### Classification error"
      ]
    },
    {
      "cell_type": "code",
      "execution_count": null,
      "metadata": {
        "id": "3WsuEO81Y5GP"
      },
      "outputs": [],
      "source": [
        "# print classification error\n",
        "\n",
        "classification_error = (FP + FN) / float(TP + TN + FP + FN)\n",
        "\n",
        "print('Classification error : {0:0.4f}'.format(classification_error))\n"
      ]
    },
    {
      "cell_type": "markdown",
      "metadata": {
        "id": "0CLddDbeY5GP"
      },
      "source": [
        "### Precision\n",
        "\n",
        "\n",
        "**Precision** can be defined as the percentage of correctly predicted positive outcomes out of all the predicted positive outcomes. It can be given as the ratio of true positives (TP) to the sum of true and false positives (TP + FP). \n",
        "\n",
        "\n",
        "So, **Precision** identifies the proportion of correctly predicted positive outcome. It is more concerned with the positive class than the negative class.\n",
        "\n",
        "\n",
        "\n",
        "Mathematically, precision can be defined as the ratio of `TP to (TP + FP).`\n",
        "\n",
        "\n"
      ]
    },
    {
      "cell_type": "code",
      "execution_count": null,
      "metadata": {
        "id": "bo6NcBhXY5GP"
      },
      "outputs": [],
      "source": [
        "# print precision score\n"
      ]
    },
    {
      "cell_type": "markdown",
      "metadata": {
        "id": "8gXj0BtnY5GP"
      },
      "source": [
        "### Recall\n",
        "\n",
        "\n",
        "Recall can be defined as the percentage of correctly predicted positive outcomes out of all the actual positive outcomes.\n",
        "It can be given as the ratio of true positives (TP) to the sum of true positives and false negatives (TP + FN). **Recall** is also called **Sensitivity**.\n",
        "\n",
        "\n",
        "**Recall** identifies the proportion of correctly predicted actual positives.\n",
        "\n",
        "\n",
        "Mathematically, recall can be given as the ratio of `TP to (TP + FN).`\n",
        "\n",
        "\n",
        "\n"
      ]
    },
    {
      "cell_type": "code",
      "execution_count": null,
      "metadata": {
        "id": "vXbSDVZUY5GP"
      },
      "outputs": [],
      "source": [
        "\n",
        "#print 'Recall or Sensitivity :"
      ]
    },
    {
      "cell_type": "markdown",
      "metadata": {
        "id": "7YgpJrbcY5GQ"
      },
      "source": [
        "### True Positive Rate\n",
        "\n",
        "\n",
        "**True Positive Rate** is synonymous with **Recall**.\n"
      ]
    },
    {
      "cell_type": "code",
      "execution_count": null,
      "metadata": {
        "id": "4Y-9NReDY5GQ"
      },
      "outputs": [],
      "source": [
        "true_positive_rate = TP / float(TP + FN)\n",
        "\n",
        "\n",
        "print('True Positive Rate : {0:0.4f}'.format(true_positive_rate))"
      ]
    },
    {
      "cell_type": "markdown",
      "metadata": {
        "id": "eIzt7goiY5GQ"
      },
      "source": [
        "### False Positive Rate"
      ]
    },
    {
      "cell_type": "code",
      "execution_count": null,
      "metadata": {
        "id": "ektGOBCJY5GQ"
      },
      "outputs": [],
      "source": [
        "false_positive_rate = FP / float(FP + TN)\n",
        "\n",
        "\n",
        "print('False Positive Rate : {0:0.4f}'.format(false_positive_rate))"
      ]
    },
    {
      "cell_type": "markdown",
      "metadata": {
        "id": "53i7dERbY5GQ"
      },
      "source": [
        "### Specificity"
      ]
    },
    {
      "cell_type": "code",
      "execution_count": null,
      "metadata": {
        "id": "t-swHLAIY5GQ"
      },
      "outputs": [],
      "source": [
        "#print specificity \n"
      ]
    },
    {
      "cell_type": "markdown",
      "metadata": {
        "id": "0MK2rtojY5GR"
      },
      "source": [
        "### f1-score\n",
        "\n",
        "\n",
        "**f1-score** is the weighted harmonic mean of precision and recall. The best possible **f1-score** would be 1.0 and the worst \n",
        "would be 0.0.  **f1-score** is the harmonic mean of precision and recall. So, **f1-score** is always lower than accuracy measures as they embed precision and recall into their computation. The weighted average of `f1-score` should be used to \n",
        "compare classifier models, not global accuracy.\n",
        "\n"
      ]
    },
    {
      "cell_type": "markdown",
      "metadata": {
        "id": "FU9D7uOXY5GR"
      },
      "source": [
        "### Support\n",
        "\n",
        "\n",
        "**Support** is the actual number of occurrences of the class in our dataset."
      ]
    },
    {
      "cell_type": "markdown",
      "metadata": {
        "id": "tMqtCtxfY5GR"
      },
      "source": [
        "## 17. Adjusting the threshold level"
      ]
    },
    {
      "cell_type": "code",
      "execution_count": null,
      "metadata": {
        "id": "Bzz0c5gsY5GR"
      },
      "outputs": [],
      "source": [
        "# print the first 10 predicted probabilities of two classes- 0 and 1\n",
        "\n",
        "y_pred_prob = logreg.predict_proba(X_test)[0:10]\n",
        "\n",
        "y_pred_prob"
      ]
    },
    {
      "cell_type": "markdown",
      "metadata": {
        "id": "E1yulQv7Y5GR"
      },
      "source": [
        "### Observations\n",
        "\n",
        "\n",
        "- In each row, the numbers sum to 1.\n",
        "\n",
        "\n",
        "- There are 2 columns which correspond to 2 classes - 0 and 1.\n",
        "\n",
        "    - Class 0 - predicted probability that there is no rain tomorrow.    \n",
        "    \n",
        "    - Class 1 - predicted probability that there is rain tomorrow.\n",
        "        \n",
        "    \n",
        "- Importance of predicted probabilities\n",
        "\n",
        "    - We can rank the observations by probability of rain or no rain.\n",
        "\n",
        "\n",
        "- predict_proba process\n",
        "\n",
        "    - Predicts the probabilities    \n",
        "    \n",
        "    - Choose the class with the highest probability    \n",
        "    \n",
        "    \n",
        "- Classification threshold level\n",
        "\n",
        "    - There is a classification threshold level of 0.5.    \n",
        "    \n",
        "    - Class 1 - probability of rain is predicted if probability > 0.5.    \n",
        "    \n",
        "    - Class 0 - probability of no rain is predicted if probability < 0.5.    \n",
        "    \n"
      ]
    },
    {
      "cell_type": "code",
      "execution_count": null,
      "metadata": {
        "id": "9VtJvCgsY5GR"
      },
      "outputs": [],
      "source": [
        "# store the probabilities in dataframe\n",
        "\n",
        "y_pred_prob_df = pd.DataFrame(data=y_pred_prob, columns=['Prob of - No rain tomorrow (0)', 'Prob of - Rain tomorrow (1)'])\n",
        "\n",
        "y_pred_prob_df"
      ]
    },
    {
      "cell_type": "code",
      "execution_count": null,
      "metadata": {
        "id": "5At_DgLdY5GR"
      },
      "outputs": [],
      "source": [
        "# print the first 10 predicted probabilities for class 1 - Probability of rain\n",
        "\n",
        "logreg.predict_proba(X_test)[0:10, 1]"
      ]
    },
    {
      "cell_type": "code",
      "execution_count": null,
      "metadata": {
        "id": "jAe6rlROY5GS"
      },
      "outputs": [],
      "source": [
        "# store the predicted probabilities for class 1 - Probability of rain\n",
        "\n",
        "y_pred1 = logreg.predict_proba(X_test)[:, 1]"
      ]
    },
    {
      "cell_type": "code",
      "execution_count": null,
      "metadata": {
        "id": "eTyB2qHrY5GS"
      },
      "outputs": [],
      "source": [
        "# plot histogram of predicted probabilities\n",
        "\n",
        "\n",
        "# adjust the font size \n",
        "plt.rcParams['font.size'] = 12\n",
        "\n",
        "\n",
        "# plot histogram with 10 bins\n",
        "plt.hist(y_pred1, bins = 10)\n",
        "\n",
        "\n",
        "# set the title of predicted probabilities\n",
        "plt.title('Histogram of predicted probabilities of rain')\n",
        "\n",
        "\n",
        "# set the x-axis limit\n",
        "plt.xlim(0,1)\n",
        "\n",
        "\n",
        "# set the title\n",
        "plt.xlabel('Predicted probabilities of rain')\n",
        "plt.ylabel('Frequency')"
      ]
    },
    {
      "cell_type": "markdown",
      "metadata": {
        "id": "PDKvGeaGY5GS"
      },
      "source": [
        "### Observations\n",
        "\n",
        "\n",
        "- We can see that the above histogram is highly positive skewed.\n",
        "\n",
        "\n",
        "- The first column tell us that there are approximately 15000 observations with probability between 0.0 and 0.1.\n",
        "\n",
        "\n",
        "- There are small number of observations with probability > 0.5.\n",
        "\n",
        "\n",
        "- So, these small number of observations predict that there will be rain tomorrow.\n",
        "\n",
        "\n",
        "- Majority of observations predict that there will be no rain tomorrow."
      ]
    },
    {
      "cell_type": "markdown",
      "metadata": {
        "id": "Eon_gs3eY5GS"
      },
      "source": [
        "### Lower the threshold"
      ]
    },
    {
      "cell_type": "code",
      "execution_count": null,
      "metadata": {
        "id": "8qH2CyhMY5GS"
      },
      "outputs": [],
      "source": [
        "from sklearn.preprocessing import binarize\n",
        "\n",
        "for i in range(1,5):\n",
        "    \n",
        "    cm1=0\n",
        "    \n",
        "    y_pred1 = logreg.predict_proba(X_test)[:,1]\n",
        "    \n",
        "    y_pred1 = y_pred1.reshape(-1,1)\n",
        "    \n",
        "    y_pred2 = binarize(y_pred1, i/10)\n",
        "    \n",
        "    y_pred2 = np.where(y_pred2 == 1, 'Yes', 'No')\n",
        "    \n",
        "    cm1 = confusion_matrix(y_test, y_pred2)\n",
        "        \n",
        "    print ('With',i/10,'threshold the Confusion Matrix is ','\\n\\n',cm1,'\\n\\n',\n",
        "           \n",
        "            'with',cm1[0,0]+cm1[1,1],'correct predictions, ', '\\n\\n', \n",
        "           \n",
        "            cm1[0,1],'Type I errors( False Positives), ','\\n\\n',\n",
        "           \n",
        "            cm1[1,0],'Type II errors( False Negatives), ','\\n\\n',\n",
        "           \n",
        "           'Accuracy score: ', (accuracy_score(y_test, y_pred2)), '\\n\\n',\n",
        "           \n",
        "           'Sensitivity: ',cm1[1,1]/(float(cm1[1,1]+cm1[1,0])), '\\n\\n',\n",
        "           \n",
        "           'Specificity: ',cm1[0,0]/(float(cm1[0,0]+cm1[0,1])),'\\n\\n',\n",
        "          \n",
        "            '====================================================', '\\n\\n')"
      ]
    },
    {
      "cell_type": "markdown",
      "metadata": {
        "id": "HPe2Y4FYY5GS"
      },
      "source": [
        "### Comments\n",
        "\n",
        "\n",
        "- In binary problems, the threshold of 0.5 is used by default to convert predicted probabilities into class predictions.\n",
        "\n",
        "\n",
        "- Threshold can be adjusted to increase sensitivity or specificity. \n",
        "\n",
        "\n",
        "- Sensitivity and specificity have an inverse relationship. Increasing one would always decrease the other and vice versa.\n",
        "\n",
        "\n",
        "- We can see that increasing the threshold level results in increased accuracy.\n",
        "\n",
        "\n",
        "- Adjusting the threshold level should be one of the last step you do in the model-building process."
      ]
    },
    {
      "cell_type": "markdown",
      "metadata": {
        "id": "OZ9bdX73Y5GT"
      },
      "source": [
        "## 18. ROC - AUC\n",
        "\n",
        "\n",
        "\n",
        "### ROC Curve\n",
        "\n",
        "\n",
        "Another tool to measure the classification model performance visually is **ROC Curve**. ROC Curve stands for **Receiver Operating Characteristic Curve**. An **ROC Curve** is a plot which shows the performance of a classification model at various \n",
        "classification threshold levels. \n",
        "\n",
        "\n",
        "\n",
        "The **ROC Curve** plots the **True Positive Rate (TPR)** against the **False Positive Rate (FPR)** at various threshold levels.\n",
        "\n",
        "\n",
        "\n",
        "**True Positive Rate (TPR)** is also called **Recall**. It is defined as the ratio of `TP to (TP + FN).`\n",
        "\n",
        "\n",
        "\n",
        "**False Positive Rate (FPR)** is defined as the ratio of `FP to (FP + TN).`\n",
        "\n",
        "\n",
        "\n",
        "\n",
        "\n",
        "\n",
        "\n",
        "In the ROC Curve, we will focus on the TPR (True Positive Rate) and FPR (False Positive Rate) of a single point. This will give us the general performance of the ROC curve which consists of the TPR and FPR at various threshold levels. So, an ROC Curve plots TPR vs FPR at different classification threshold levels. If we lower the threshold levels, it may result in more items being classified as positve. It will increase both True Positives (TP) and False Positives (FP).\n",
        "\n",
        "\n",
        "\n",
        "\n"
      ]
    },
    {
      "cell_type": "code",
      "execution_count": null,
      "metadata": {
        "id": "zrMEcBSSY5GT"
      },
      "outputs": [],
      "source": [
        "# plot ROC Curve\n",
        "\n",
        "from sklearn.metrics import roc_curve\n"
      ]
    },
    {
      "cell_type": "markdown",
      "metadata": {
        "id": "8hwd7lvtY5GT"
      },
      "source": [
        "ROC curve help us to choose a threshold level that balances sensitivity and specificity for a particular context."
      ]
    },
    {
      "cell_type": "markdown",
      "metadata": {
        "id": "qpaSGVvQY5GT"
      },
      "source": [
        "### ROC  AUC\n",
        "\n",
        "\n",
        "**ROC AUC** stands for **Receiver Operating Characteristic - Area Under Curve**. It is a technique to compare classifier performance. In this technique, we measure the `area under the curve (AUC)`. A perfect classifier will have a ROC AUC equal to 1, whereas a purely random classifier will have a ROC AUC equal to 0.5. \n",
        "\n",
        "\n",
        "So, **ROC AUC** is the percentage of the ROC plot that is underneath the curve."
      ]
    },
    {
      "cell_type": "code",
      "execution_count": null,
      "metadata": {
        "id": "Nvrr53y9Y5GT"
      },
      "outputs": [],
      "source": [
        "# compute ROC AUC\n",
        "\n",
        "from sklearn.metrics import roc_auc_score\n",
        "\n",
        "ROC_AUC = roc_auc_score(y_test, y_pred1)"
      ]
    },
    {
      "cell_type": "markdown",
      "metadata": {
        "id": "4zoeMp8IY5GU"
      },
      "source": [
        "### Comments\n",
        "\n",
        "\n",
        "- ROC AUC is a single number summary of classifier performance. The higher the value, the better the classifier.\n",
        "\n",
        "- ROC AUC of our model approaches towards 1. So, we can conclude that our classifier does a good job in predicting whether it will rain tomorrow or not."
      ]
    },
    {
      "cell_type": "code",
      "execution_count": null,
      "metadata": {
        "id": "BvjBTa_CY5GU"
      },
      "outputs": [],
      "source": [
        "# calculate cross-validated ROC AUC \n",
        "\n",
        "from sklearn.model_selection import cross_val_score\n",
        "\n",
        "Cross_validated_ROC_AUC = cross_val_score(logreg, X_train, y_train, cv=5, scoring='roc_auc').mean()\n",
        "\n"
      ]
    },
    {
      "cell_type": "markdown",
      "metadata": {
        "id": "97LLmrYWY5GU"
      },
      "source": [
        "## Model evaluation and improvement\n",
        "\n",
        "\n",
        "\n",
        "In this section, I will employ several techniques to improve the model performance. I will discuss 3 techniques which are used in practice for performance improvement. These are `recursive feature elimination`, `k-fold cross validation` and `hyperparameter optimization using GridSearchCV`."
      ]
    },
    {
      "cell_type": "markdown",
      "metadata": {
        "id": "Vil2SdMQY5GU"
      },
      "source": [
        "## 19. Recursive Feature Elimination with Cross Validation\n",
        "\n",
        "\n",
        "`Recursive feature elimination (RFE)` is a feature selection technique that helps us to select best features from the given number of features. At first, the model is built on all the given features. Then, it removes the least useful predictor and build the model again. This process is repeated until all the unimportant features are removed from the model.\n",
        "\n",
        "\n",
        "`Recursive Feature Elimination with Cross-Validated (RFECV) feature selection` technique selects the best subset of features for the estimator by removing 0 to N features iteratively using recursive feature elimination. Then it selects the best subset based on the accuracy or cross-validation score or roc-auc of the model. Recursive feature elimination technique eliminates n features from a model by fitting the model multiple times and at each step, removing the weakest features.\n",
        "\n",
        "\n",
        "I will use this technique to select best features from this model."
      ]
    },
    {
      "cell_type": "code",
      "execution_count": null,
      "metadata": {
        "id": "95Sg-dCLY5GU"
      },
      "outputs": [],
      "source": [
        "from sklearn.feature_selection import RFECV\n",
        "\n",
        "rfecv = RFECV(estimator=logreg, step=1, cv=5, scoring='accuracy')\n",
        "\n",
        "rfecv = rfecv.fit(X_train, y_train)"
      ]
    },
    {
      "cell_type": "code",
      "execution_count": null,
      "metadata": {
        "id": "qj1glpxAY5GU"
      },
      "outputs": [],
      "source": [
        "#print \"Optimal number of features :"
      ]
    },
    {
      "cell_type": "code",
      "execution_count": null,
      "metadata": {
        "id": "ObcHux7wY5GU"
      },
      "outputs": [],
      "source": [
        "# transform the training data\n",
        "\n",
        "X_train_rfecv = rfecv.transform(X_train)\n",
        "\n",
        "\n",
        "# train classifier\n",
        "\n",
        "logreg.fit(X_train_rfecv, y_train)"
      ]
    },
    {
      "cell_type": "code",
      "execution_count": null,
      "metadata": {
        "id": "JeGY-GY3Y5GV"
      },
      "outputs": [],
      "source": [
        "# test classifier on test data\n",
        "\n",
        "X_test_rfecv = rfecv.transform(X_test)\n",
        "\n",
        "y_pred_rfecv = logreg.predict(X_test_rfecv)"
      ]
    },
    {
      "cell_type": "code",
      "execution_count": null,
      "metadata": {
        "id": "02DJczLqY5GV"
      },
      "outputs": [],
      "source": [
        "# print mean accuracy on transformed test data and labels"
      ]
    },
    {
      "cell_type": "markdown",
      "metadata": {
        "id": "BRzdSdNqY5GV"
      },
      "source": [
        "Our original model accuracy score is 0.8501 whereas accuracy score after RFECV is 0.8500. So, we can obtain approximately similar accuracy but with reduced or optimal set of features."
      ]
    },
    {
      "cell_type": "markdown",
      "metadata": {
        "id": "gwWDlg9AY5GV"
      },
      "source": [
        "### Confusion-matrix revisited\n",
        "\n",
        "\n",
        "I will again plot the confusion-matrix for this model to get an idea of errors our model is making."
      ]
    },
    {
      "cell_type": "code",
      "execution_count": null,
      "metadata": {
        "id": "MoxzJ4uVY5GV"
      },
      "outputs": [],
      "source": [
        "from sklearn.metrics import confusion_matrix\n",
        "\n",
        "cm1 = confusion_matrix(y_test, y_pred_rfecv)\n",
        "\n",
        "#print 'Confusion matrix\\n\\n'\n",
        "\n",
        "#print '\\nTrue Positives(TP1) = '\n",
        "\n",
        "#print '\\nTrue Negatives(TN1) = '\n",
        "\n",
        "#print '\\nFalse Positives(FP1) = '\n",
        "\n",
        "#print '\\nFalse Negatives(FN1) = '"
      ]
    },
    {
      "cell_type": "markdown",
      "metadata": {
        "id": "lY3Hevv1Y5GV"
      },
      "source": [
        "We can see that in the original model, we have FP = 1175 whereas FP1 = 1174. So, we get approximately same number of false positives. Also, FN = 3087 whereas FN1 = 3091. So, we get slightly higher false negatives."
      ]
    },
    {
      "cell_type": "markdown",
      "metadata": {
        "id": "CBfuY_j1Y5GV"
      },
      "source": [
        "## 20. k-Fold Cross Validation"
      ]
    },
    {
      "cell_type": "code",
      "execution_count": null,
      "metadata": {
        "id": "wxo2jpzeY5GV"
      },
      "outputs": [],
      "source": [
        "# Applying 10-Fold Cross Validation\n",
        "\n",
        "from sklearn.model_selection import cross_val_score\n",
        "\n",
        "scores = cross_val_score(logreg, X_train, y_train, cv = 5, scoring='accuracy')\n",
        "\n",
        "#print 'Cross-validation scores"
      ]
    },
    {
      "cell_type": "markdown",
      "metadata": {
        "id": "4fS-HYxRY5GW"
      },
      "source": [
        "We can summarize the cross-validation accuracy by calculating its mean."
      ]
    },
    {
      "cell_type": "code",
      "execution_count": null,
      "metadata": {
        "id": "hzIQ_n1YY5GW"
      },
      "outputs": [],
      "source": [
        "# compute Average cross-validation score\n",
        "\n",
        "print('Average cross-validation score: {:.4f}'.format(scores.mean()))"
      ]
    },
    {
      "cell_type": "markdown",
      "metadata": {
        "id": "bpjMls78Y5GW"
      },
      "source": [
        "Our, original model score is found to be 0.8476. The average cross-validation score is 0.8474. So, we can conclude that cross-validation does not result in performance improvement."
      ]
    },
    {
      "cell_type": "markdown",
      "metadata": {
        "id": "tvaVNlxYY5GW"
      },
      "source": [
        "## 21. Hyperparameter Optimization using GridSearch CV"
      ]
    },
    {
      "cell_type": "code",
      "execution_count": null,
      "metadata": {
        "scrolled": true,
        "id": "puFB3ZLLY5GW"
      },
      "outputs": [],
      "source": [
        "from sklearn.model_selection import GridSearchCV\n",
        "\n",
        "\n",
        "parameters = [{'penalty':['l1','l2']}, \n",
        "              {'C':[1, 10, 100, 1000]}]\n",
        "\n",
        "\n",
        "\n",
        "grid_search = ____________________"
      ]
    },
    {
      "cell_type": "code",
      "execution_count": null,
      "metadata": {
        "id": "yg6Gkn72Y5GW"
      },
      "outputs": [],
      "source": [
        "# examine the best model\n",
        "\n",
        "# best score achieved during the GridSearchCV\n",
        "print('GridSearch CV best score : {:.4f}\\n\\n'.format(grid_search.best_score_))\n",
        "\n",
        "# print parameters that give the best results\n",
        "\n",
        "\n",
        "# print estimator that was chosen by the GridSearch\n"
      ]
    },
    {
      "cell_type": "code",
      "execution_count": null,
      "metadata": {
        "id": "bbDw3jMhY5GX"
      },
      "outputs": [],
      "source": [
        "# calculate GridSearch CV score on test set\n",
        "\n",
        "print('GridSearch CV score on test set: {0:0.4f}'.format(grid_search.score(X_test, y_test)))"
      ]
    },
    {
      "cell_type": "markdown",
      "metadata": {
        "id": "QlgSnp4VY5GX"
      },
      "source": [
        "### Comments\n",
        "\n",
        "\n",
        "- Our original model test accuracy is 0.8501 while GridSearch CV accuracy is 0.8507.\n",
        "\n",
        "\n",
        "- We can see that GridSearch CV improve the performance for this particular model."
      ]
    },
    {
      "cell_type": "markdown",
      "metadata": {
        "id": "NlI2s3KIY5GX"
      },
      "source": [
        "## 22. Results and Conclusion"
      ]
    },
    {
      "cell_type": "markdown",
      "metadata": {
        "id": "bdE7y65GY5GX"
      },
      "source": [
        "1.\tThe logistic regression model accuracy score is 0.8501. So, the model does a very good job in predicting whether or not it will rain tomorrow in Australia.\n",
        "\n",
        "2.\tSmall number of observations predict that there will be rain tomorrow. Majority of observations predict that there will be no rain tomorrow.\n",
        "\n",
        "3.\tThe model shows no signs of overfitting.\n",
        "\n",
        "4.\tIncreasing the value of C results in higher test set accuracy and also a slightly increased training set accuracy. So, we can conclude that a more complex model should perform better.\n",
        "\n",
        "5.\tIncreasing the threshold level results in increased accuracy.\n",
        "\n",
        "6.\tROC AUC of our model approaches towards 1. So, we can conclude that our classifier does a good job in predicting whether it will rain tomorrow or not.\n",
        "\n",
        "7.\tOur original model accuracy score is 0.8501 whereas accuracy score after RFECV is 0.8500. So, we can obtain approximately similar accuracy but with reduced set of features.\n",
        "\n",
        "8.\tIn the original model, we have FP = 1175 whereas FP1 = 1174. So, we get approximately same number of false positives. Also, FN = 3087 whereas FN1 = 3091. So, we get slighly higher false negatives.\n",
        "\n",
        "9.\tOur, original model score is found to be 0.8476. The average cross-validation score is 0.8474. So, we can conclude that cross-validation does not result in performance improvement.\n",
        "\n",
        "10.\tOur original model test accuracy is 0.8501 while GridSearch CV accuracy is 0.8507. We can see that GridSearch CV improve the performance for this particular model.\n"
      ]
    }
  ],
  "metadata": {
    "kernelspec": {
      "display_name": "Python 3",
      "language": "python",
      "name": "python3"
    },
    "language_info": {
      "codemirror_mode": {
        "name": "ipython",
        "version": 3
      },
      "file_extension": ".py",
      "mimetype": "text/x-python",
      "name": "python",
      "nbconvert_exporter": "python",
      "pygments_lexer": "ipython3",
      "version": "3.7.0"
    },
    "colab": {
      "name": "Logistic Regression with Python and Scikit-Learn QUESTION ONLY.ipynb",
      "provenance": [],
      "collapsed_sections": [
        "Fzo4DszHY5Fp",
        "k_VlwFfjY5F6",
        "0M7Dyvn4Y5GN",
        "bgceCducY5GO",
        "Ig_8Ot8gY5GO",
        "eIzt7goiY5GQ",
        "0MK2rtojY5GR",
        "FU9D7uOXY5GR",
        "tMqtCtxfY5GR",
        "E1yulQv7Y5GR",
        "PDKvGeaGY5GS",
        "Eon_gs3eY5GS",
        "HPe2Y4FYY5GS",
        "97LLmrYWY5GU",
        "QlgSnp4VY5GX"
      ]
    }
  },
  "nbformat": 4,
  "nbformat_minor": 0
}